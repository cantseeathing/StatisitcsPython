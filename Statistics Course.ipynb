{
 "cells": [
  {
   "cell_type": "code",
   "execution_count": 869,
   "id": "db59b97c",
   "metadata": {},
   "outputs": [],
   "source": [
    "import pandas as pd\n",
    "import numpy as np\n",
    "import matplotlib.pyplot as plt\n",
    "import seaborn as sns\n",
    "import scipy.stats as stats\n",
    "from statistics import NormalDist\n",
    "import statsmodels.api as sm\n",
    "from sklearn.linear_model import LinearRegression\n",
    "from summarytools import dfSummary"
   ]
  },
  {
   "cell_type": "code",
   "execution_count": 2,
   "id": "81425aa4",
   "metadata": {},
   "outputs": [],
   "source": [
    "Categorical_Distributions_df = pd.read_csv('Categorical Distributions.csv')"
   ]
  },
  {
   "cell_type": "code",
   "execution_count": 3,
   "id": "edbbf3d9",
   "metadata": {},
   "outputs": [
    {
     "data": {
      "text/html": [
       "<div>\n",
       "<style scoped>\n",
       "    .dataframe tbody tr th:only-of-type {\n",
       "        vertical-align: middle;\n",
       "    }\n",
       "\n",
       "    .dataframe tbody tr th {\n",
       "        vertical-align: top;\n",
       "    }\n",
       "\n",
       "    .dataframe thead th {\n",
       "        text-align: right;\n",
       "    }\n",
       "</style>\n",
       "<table border=\"1\" class=\"dataframe\">\n",
       "  <thead>\n",
       "    <tr style=\"text-align: right;\">\n",
       "      <th></th>\n",
       "      <th>Status</th>\n",
       "    </tr>\n",
       "  </thead>\n",
       "  <tbody>\n",
       "    <tr>\n",
       "      <th>0</th>\n",
       "      <td>Placed</td>\n",
       "    </tr>\n",
       "    <tr>\n",
       "      <th>1</th>\n",
       "      <td>Not Placed</td>\n",
       "    </tr>\n",
       "    <tr>\n",
       "      <th>2</th>\n",
       "      <td>Placed</td>\n",
       "    </tr>\n",
       "    <tr>\n",
       "      <th>3</th>\n",
       "      <td>Not Placed</td>\n",
       "    </tr>\n",
       "    <tr>\n",
       "      <th>4</th>\n",
       "      <td>Not Placed</td>\n",
       "    </tr>\n",
       "  </tbody>\n",
       "</table>\n",
       "</div>"
      ],
      "text/plain": [
       "       Status\n",
       "0      Placed\n",
       "1  Not Placed\n",
       "2      Placed\n",
       "3  Not Placed\n",
       "4  Not Placed"
      ]
     },
     "execution_count": 3,
     "metadata": {},
     "output_type": "execute_result"
    }
   ],
   "source": [
    "Categorical_Distributions_df.head()"
   ]
  },
  {
   "cell_type": "code",
   "execution_count": 4,
   "id": "23b1bfd6",
   "metadata": {},
   "outputs": [
    {
     "data": {
      "text/plain": [
       "(95, 1)"
      ]
     },
     "execution_count": 4,
     "metadata": {},
     "output_type": "execute_result"
    }
   ],
   "source": [
    "Categorical_Distributions_df.shape"
   ]
  },
  {
   "cell_type": "code",
   "execution_count": 5,
   "id": "f16b481e",
   "metadata": {},
   "outputs": [
    {
     "data": {
      "text/plain": [
       "Status    \n",
       "Placed        53\n",
       "Not Placed    42\n",
       "dtype: int64"
      ]
     },
     "execution_count": 5,
     "metadata": {},
     "output_type": "execute_result"
    }
   ],
   "source": [
    "Categorical_Distributions_df.value_counts()"
   ]
  },
  {
   "cell_type": "code",
   "execution_count": 6,
   "id": "a3bbb33a",
   "metadata": {},
   "outputs": [
    {
     "data": {
      "text/html": [
       "<div>\n",
       "<style scoped>\n",
       "    .dataframe tbody tr th:only-of-type {\n",
       "        vertical-align: middle;\n",
       "    }\n",
       "\n",
       "    .dataframe tbody tr th {\n",
       "        vertical-align: top;\n",
       "    }\n",
       "\n",
       "    .dataframe thead th {\n",
       "        text-align: right;\n",
       "    }\n",
       "</style>\n",
       "<table border=\"1\" class=\"dataframe\">\n",
       "  <thead>\n",
       "    <tr style=\"text-align: right;\">\n",
       "      <th></th>\n",
       "      <th>Percentage</th>\n",
       "    </tr>\n",
       "    <tr>\n",
       "      <th>Status</th>\n",
       "      <th></th>\n",
       "    </tr>\n",
       "  </thead>\n",
       "  <tbody>\n",
       "    <tr>\n",
       "      <th>Placed</th>\n",
       "      <td>55.79</td>\n",
       "    </tr>\n",
       "    <tr>\n",
       "      <th>Not Placed</th>\n",
       "      <td>44.21</td>\n",
       "    </tr>\n",
       "  </tbody>\n",
       "</table>\n",
       "</div>"
      ],
      "text/plain": [
       "            Percentage\n",
       "Status                \n",
       "Placed           55.79\n",
       "Not Placed       44.21"
      ]
     },
     "execution_count": 6,
     "metadata": {},
     "output_type": "execute_result"
    }
   ],
   "source": [
    "pd.DataFrame(data=round(Categorical_Distributions_df.value_counts()/len(Categorical_Distributions_df)*100, 2), columns=({'Percentage'}))"
   ]
  },
  {
   "cell_type": "code",
   "execution_count": 7,
   "id": "9974c230",
   "metadata": {},
   "outputs": [
    {
     "data": {
      "text/html": [
       "<div>\n",
       "<style scoped>\n",
       "    .dataframe tbody tr th:only-of-type {\n",
       "        vertical-align: middle;\n",
       "    }\n",
       "\n",
       "    .dataframe tbody tr th {\n",
       "        vertical-align: top;\n",
       "    }\n",
       "\n",
       "    .dataframe thead th {\n",
       "        text-align: right;\n",
       "    }\n",
       "</style>\n",
       "<table border=\"1\" class=\"dataframe\">\n",
       "  <thead>\n",
       "    <tr style=\"text-align: right;\">\n",
       "      <th></th>\n",
       "      <th>Status</th>\n",
       "    </tr>\n",
       "    <tr>\n",
       "      <th>Status</th>\n",
       "      <th></th>\n",
       "    </tr>\n",
       "  </thead>\n",
       "  <tbody>\n",
       "    <tr>\n",
       "      <th>Not Placed</th>\n",
       "      <td>42</td>\n",
       "    </tr>\n",
       "    <tr>\n",
       "      <th>Placed</th>\n",
       "      <td>53</td>\n",
       "    </tr>\n",
       "  </tbody>\n",
       "</table>\n",
       "</div>"
      ],
      "text/plain": [
       "            Status\n",
       "Status            \n",
       "Not Placed      42\n",
       "Placed          53"
      ]
     },
     "execution_count": 7,
     "metadata": {},
     "output_type": "execute_result"
    }
   ],
   "source": [
    "pd.pivot_table(data=Categorical_Distributions_df,index=['Status'], aggfunc= {'Status': 'count'})"
   ]
  },
  {
   "cell_type": "code",
   "execution_count": 8,
   "id": "9ca55c45",
   "metadata": {},
   "outputs": [],
   "source": [
    "Numerical_Distributions_df = pd.read_csv('Numerical Distributions.csv')"
   ]
  },
  {
   "cell_type": "code",
   "execution_count": 9,
   "id": "01e797b1",
   "metadata": {},
   "outputs": [
    {
     "data": {
      "text/html": [
       "<div>\n",
       "<style scoped>\n",
       "    .dataframe tbody tr th:only-of-type {\n",
       "        vertical-align: middle;\n",
       "    }\n",
       "\n",
       "    .dataframe tbody tr th {\n",
       "        vertical-align: top;\n",
       "    }\n",
       "\n",
       "    .dataframe thead th {\n",
       "        text-align: right;\n",
       "    }\n",
       "</style>\n",
       "<table border=\"1\" class=\"dataframe\">\n",
       "  <thead>\n",
       "    <tr style=\"text-align: right;\">\n",
       "      <th></th>\n",
       "      <th>Annual Salary (Thousands of USD)</th>\n",
       "    </tr>\n",
       "  </thead>\n",
       "  <tbody>\n",
       "    <tr>\n",
       "      <th>0</th>\n",
       "      <td>111.0</td>\n",
       "    </tr>\n",
       "    <tr>\n",
       "      <th>1</th>\n",
       "      <td>107.0</td>\n",
       "    </tr>\n",
       "    <tr>\n",
       "      <th>2</th>\n",
       "      <td>109.0</td>\n",
       "    </tr>\n",
       "    <tr>\n",
       "      <th>3</th>\n",
       "      <td>148.0</td>\n",
       "    </tr>\n",
       "    <tr>\n",
       "      <th>4</th>\n",
       "      <td>255.5</td>\n",
       "    </tr>\n",
       "  </tbody>\n",
       "</table>\n",
       "</div>"
      ],
      "text/plain": [
       "   Annual Salary (Thousands of USD)\n",
       "0                             111.0\n",
       "1                             107.0\n",
       "2                             109.0\n",
       "3                             148.0\n",
       "4                             255.5"
      ]
     },
     "execution_count": 9,
     "metadata": {},
     "output_type": "execute_result"
    }
   ],
   "source": [
    "Numerical_Distributions_df.head()"
   ]
  },
  {
   "cell_type": "code",
   "execution_count": 10,
   "id": "d43d3967",
   "metadata": {},
   "outputs": [
    {
     "name": "stdout",
     "output_type": "stream",
     "text": [
      "<class 'pandas.core.frame.DataFrame'>\n",
      "RangeIndex: 53 entries, 0 to 52\n",
      "Data columns (total 1 columns):\n",
      " #   Column                            Non-Null Count  Dtype  \n",
      "---  ------                            --------------  -----  \n",
      " 0   Annual Salary (Thousands of USD)  53 non-null     float64\n",
      "dtypes: float64(1)\n",
      "memory usage: 552.0 bytes\n"
     ]
    }
   ],
   "source": [
    "Numerical_Distributions_df.info()"
   ]
  },
  {
   "cell_type": "code",
   "execution_count": 11,
   "id": "117af5d9",
   "metadata": {},
   "outputs": [
    {
     "data": {
      "text/html": [
       "<div>\n",
       "<style scoped>\n",
       "    .dataframe tbody tr th:only-of-type {\n",
       "        vertical-align: middle;\n",
       "    }\n",
       "\n",
       "    .dataframe tbody tr th {\n",
       "        vertical-align: top;\n",
       "    }\n",
       "\n",
       "    .dataframe thead th {\n",
       "        text-align: right;\n",
       "    }\n",
       "</style>\n",
       "<table border=\"1\" class=\"dataframe\">\n",
       "  <thead>\n",
       "    <tr style=\"text-align: right;\">\n",
       "      <th></th>\n",
       "      <th>Annual Salary (Thousands of USD)</th>\n",
       "    </tr>\n",
       "    <tr>\n",
       "      <th>Annual Salary (Thousands of USD)</th>\n",
       "      <th></th>\n",
       "    </tr>\n",
       "  </thead>\n",
       "  <tbody>\n",
       "    <tr>\n",
       "      <th>75.5</th>\n",
       "      <td>1</td>\n",
       "    </tr>\n",
       "    <tr>\n",
       "      <th>78.0</th>\n",
       "      <td>1</td>\n",
       "    </tr>\n",
       "    <tr>\n",
       "      <th>80.0</th>\n",
       "      <td>1</td>\n",
       "    </tr>\n",
       "    <tr>\n",
       "      <th>82.0</th>\n",
       "      <td>2</td>\n",
       "    </tr>\n",
       "    <tr>\n",
       "      <th>82.5</th>\n",
       "      <td>1</td>\n",
       "    </tr>\n",
       "    <tr>\n",
       "      <th>84.0</th>\n",
       "      <td>1</td>\n",
       "    </tr>\n",
       "    <tr>\n",
       "      <th>86.0</th>\n",
       "      <td>1</td>\n",
       "    </tr>\n",
       "    <tr>\n",
       "      <th>89.5</th>\n",
       "      <td>1</td>\n",
       "    </tr>\n",
       "    <tr>\n",
       "      <th>91.5</th>\n",
       "      <td>2</td>\n",
       "    </tr>\n",
       "    <tr>\n",
       "      <th>93.0</th>\n",
       "      <td>1</td>\n",
       "    </tr>\n",
       "    <tr>\n",
       "      <th>96.0</th>\n",
       "      <td>1</td>\n",
       "    </tr>\n",
       "    <tr>\n",
       "      <th>99.0</th>\n",
       "      <td>3</td>\n",
       "    </tr>\n",
       "    <tr>\n",
       "      <th>99.5</th>\n",
       "      <td>3</td>\n",
       "    </tr>\n",
       "    <tr>\n",
       "      <th>103.0</th>\n",
       "      <td>1</td>\n",
       "    </tr>\n",
       "    <tr>\n",
       "      <th>103.5</th>\n",
       "      <td>6</td>\n",
       "    </tr>\n",
       "    <tr>\n",
       "      <th>104.5</th>\n",
       "      <td>1</td>\n",
       "    </tr>\n",
       "    <tr>\n",
       "      <th>107.0</th>\n",
       "      <td>2</td>\n",
       "    </tr>\n",
       "    <tr>\n",
       "      <th>109.0</th>\n",
       "      <td>2</td>\n",
       "    </tr>\n",
       "    <tr>\n",
       "      <th>111.0</th>\n",
       "      <td>1</td>\n",
       "    </tr>\n",
       "    <tr>\n",
       "      <th>113.0</th>\n",
       "      <td>1</td>\n",
       "    </tr>\n",
       "    <tr>\n",
       "      <th>113.5</th>\n",
       "      <td>1</td>\n",
       "    </tr>\n",
       "    <tr>\n",
       "      <th>114.5</th>\n",
       "      <td>2</td>\n",
       "    </tr>\n",
       "    <tr>\n",
       "      <th>124.0</th>\n",
       "      <td>4</td>\n",
       "    </tr>\n",
       "    <tr>\n",
       "      <th>124.5</th>\n",
       "      <td>2</td>\n",
       "    </tr>\n",
       "    <tr>\n",
       "      <th>132.5</th>\n",
       "      <td>1</td>\n",
       "    </tr>\n",
       "    <tr>\n",
       "      <th>144.5</th>\n",
       "      <td>1</td>\n",
       "    </tr>\n",
       "    <tr>\n",
       "      <th>148.0</th>\n",
       "      <td>2</td>\n",
       "    </tr>\n",
       "    <tr>\n",
       "      <th>156.5</th>\n",
       "      <td>1</td>\n",
       "    </tr>\n",
       "    <tr>\n",
       "      <th>165.0</th>\n",
       "      <td>1</td>\n",
       "    </tr>\n",
       "    <tr>\n",
       "      <th>168.0</th>\n",
       "      <td>1</td>\n",
       "    </tr>\n",
       "    <tr>\n",
       "      <th>185.0</th>\n",
       "      <td>1</td>\n",
       "    </tr>\n",
       "    <tr>\n",
       "      <th>205.5</th>\n",
       "      <td>1</td>\n",
       "    </tr>\n",
       "    <tr>\n",
       "      <th>255.5</th>\n",
       "      <td>1</td>\n",
       "    </tr>\n",
       "    <tr>\n",
       "      <th>340.0</th>\n",
       "      <td>1</td>\n",
       "    </tr>\n",
       "  </tbody>\n",
       "</table>\n",
       "</div>"
      ],
      "text/plain": [
       "                                  Annual Salary (Thousands of USD)\n",
       "Annual Salary (Thousands of USD)                                  \n",
       "75.5                                                             1\n",
       "78.0                                                             1\n",
       "80.0                                                             1\n",
       "82.0                                                             2\n",
       "82.5                                                             1\n",
       "84.0                                                             1\n",
       "86.0                                                             1\n",
       "89.5                                                             1\n",
       "91.5                                                             2\n",
       "93.0                                                             1\n",
       "96.0                                                             1\n",
       "99.0                                                             3\n",
       "99.5                                                             3\n",
       "103.0                                                            1\n",
       "103.5                                                            6\n",
       "104.5                                                            1\n",
       "107.0                                                            2\n",
       "109.0                                                            2\n",
       "111.0                                                            1\n",
       "113.0                                                            1\n",
       "113.5                                                            1\n",
       "114.5                                                            2\n",
       "124.0                                                            4\n",
       "124.5                                                            2\n",
       "132.5                                                            1\n",
       "144.5                                                            1\n",
       "148.0                                                            2\n",
       "156.5                                                            1\n",
       "165.0                                                            1\n",
       "168.0                                                            1\n",
       "185.0                                                            1\n",
       "205.5                                                            1\n",
       "255.5                                                            1\n",
       "340.0                                                            1"
      ]
     },
     "execution_count": 11,
     "metadata": {},
     "output_type": "execute_result"
    }
   ],
   "source": [
    "pd.pivot_table(data=Numerical_Distributions_df, \n",
    "               index=['Annual Salary (Thousands of USD)'], \n",
    "               aggfunc={'Annual Salary (Thousands of USD)': 'count'})"
   ]
  },
  {
   "cell_type": "code",
   "execution_count": 12,
   "id": "5a9adbb6",
   "metadata": {},
   "outputs": [
    {
     "data": {
      "text/plain": [
       "array([[<AxesSubplot:title={'center':'Annual Salary (Thousands of USD)'}>]],\n",
       "      dtype=object)"
      ]
     },
     "execution_count": 12,
     "metadata": {},
     "output_type": "execute_result"
    },
    {
     "data": {
      "image/png": "[encoded data removed]",
      "text/plain": [
       "<Figure size 432x288 with 1 Axes>"
      ]
     },
     "metadata": {
      "needs_background": "light"
     },
     "output_type": "display_data"
    }
   ],
   "source": [
    "pd.pivot_table(data=Numerical_Distributions_df, \n",
    "               index=['Annual Salary (Thousands of USD)'], \n",
    "               aggfunc={'Annual Salary (Thousands of USD)': 'count'}).hist(bins=5)"
   ]
  },
  {
   "cell_type": "code",
   "execution_count": 13,
   "id": "82cecb12",
   "metadata": {},
   "outputs": [
    {
     "data": {
      "text/plain": [
       "array([[<AxesSubplot:title={'center':'Annual Salary (Thousands of USD)'}>]],\n",
       "      dtype=object)"
      ]
     },
     "execution_count": 13,
     "metadata": {},
     "output_type": "execute_result"
    },
    {
     "data": {
      "image/png": "[encoded data removed]",
      "text/plain": [
       "<Figure size 432x288 with 1 Axes>"
      ]
     },
     "metadata": {
      "needs_background": "light"
     },
     "output_type": "display_data"
    }
   ],
   "source": [
    "Numerical_Distributions_df.hist(bins=20)"
   ]
  },
  {
   "cell_type": "code",
   "execution_count": 14,
   "id": "99d5dbc5",
   "metadata": {},
   "outputs": [],
   "source": [
    "Frequency_Distributions_df = pd.read_csv('Frequency Distributions.csv')"
   ]
  },
  {
   "cell_type": "code",
   "execution_count": 15,
   "id": "2c7a7fa1",
   "metadata": {},
   "outputs": [
    {
     "name": "stdout",
     "output_type": "stream",
     "text": [
      "<class 'pandas.core.frame.DataFrame'>\n",
      "RangeIndex: 95 entries, 0 to 94\n",
      "Data columns (total 1 columns):\n",
      " #   Column     Non-Null Count  Dtype  \n",
      "---  ------     --------------  -----  \n",
      " 0   MBA Grade  95 non-null     float64\n",
      "dtypes: float64(1)\n",
      "memory usage: 888.0 bytes\n"
     ]
    }
   ],
   "source": [
    "Frequency_Distributions_df.info()"
   ]
  },
  {
   "cell_type": "code",
   "execution_count": 16,
   "id": "4c9262fb",
   "metadata": {},
   "outputs": [
    {
     "data": {
      "text/html": [
       "<div>\n",
       "<style scoped>\n",
       "    .dataframe tbody tr th:only-of-type {\n",
       "        vertical-align: middle;\n",
       "    }\n",
       "\n",
       "    .dataframe tbody tr th {\n",
       "        vertical-align: top;\n",
       "    }\n",
       "\n",
       "    .dataframe thead th {\n",
       "        text-align: right;\n",
       "    }\n",
       "</style>\n",
       "<table border=\"1\" class=\"dataframe\">\n",
       "  <thead>\n",
       "    <tr style=\"text-align: right;\">\n",
       "      <th></th>\n",
       "      <th>MBA Grade</th>\n",
       "    </tr>\n",
       "  </thead>\n",
       "  <tbody>\n",
       "    <tr>\n",
       "      <th>0</th>\n",
       "      <td>90.2</td>\n",
       "    </tr>\n",
       "    <tr>\n",
       "      <th>1</th>\n",
       "      <td>92.8</td>\n",
       "    </tr>\n",
       "    <tr>\n",
       "      <th>2</th>\n",
       "      <td>68.7</td>\n",
       "    </tr>\n",
       "    <tr>\n",
       "      <th>3</th>\n",
       "      <td>80.7</td>\n",
       "    </tr>\n",
       "    <tr>\n",
       "      <th>4</th>\n",
       "      <td>74.9</td>\n",
       "    </tr>\n",
       "  </tbody>\n",
       "</table>\n",
       "</div>"
      ],
      "text/plain": [
       "   MBA Grade\n",
       "0       90.2\n",
       "1       92.8\n",
       "2       68.7\n",
       "3       80.7\n",
       "4       74.9"
      ]
     },
     "execution_count": 16,
     "metadata": {},
     "output_type": "execute_result"
    }
   ],
   "source": [
    "Frequency_Distributions_df.head()"
   ]
  },
  {
   "cell_type": "code",
   "execution_count": 17,
   "id": "f05a8897",
   "metadata": {},
   "outputs": [
    {
     "data": {
      "image/png": "[encoded data removed]",
      "text/plain": [
       "<Figure size 432x288 with 1 Axes>"
      ]
     },
     "metadata": {
      "needs_background": "light"
     },
     "output_type": "display_data"
    }
   ],
   "source": [
    "fig, ax = plt.subplots()\n",
    "ax.hist(Frequency_Distributions_df, bins=20);"
   ]
  },
  {
   "cell_type": "code",
   "execution_count": 18,
   "id": "5604aa7a",
   "metadata": {},
   "outputs": [],
   "source": [
    "Mean_Median_Mode_df = pd.read_csv('Mean, Median, Mode.csv')"
   ]
  },
  {
   "cell_type": "code",
   "execution_count": 19,
   "id": "701ea139",
   "metadata": {},
   "outputs": [
    {
     "data": {
      "text/html": [
       "<div>\n",
       "<style scoped>\n",
       "    .dataframe tbody tr th:only-of-type {\n",
       "        vertical-align: middle;\n",
       "    }\n",
       "\n",
       "    .dataframe tbody tr th {\n",
       "        vertical-align: top;\n",
       "    }\n",
       "\n",
       "    .dataframe thead th {\n",
       "        text-align: right;\n",
       "    }\n",
       "</style>\n",
       "<table border=\"1\" class=\"dataframe\">\n",
       "  <thead>\n",
       "    <tr style=\"text-align: right;\">\n",
       "      <th></th>\n",
       "      <th>Work Experience</th>\n",
       "      <th>Annual Salary</th>\n",
       "    </tr>\n",
       "  </thead>\n",
       "  <tbody>\n",
       "    <tr>\n",
       "      <th>0</th>\n",
       "      <td>No</td>\n",
       "      <td>$111,000</td>\n",
       "    </tr>\n",
       "    <tr>\n",
       "      <th>1</th>\n",
       "      <td>Yes</td>\n",
       "      <td>$107,000</td>\n",
       "    </tr>\n",
       "    <tr>\n",
       "      <th>2</th>\n",
       "      <td>No</td>\n",
       "      <td>$109,000</td>\n",
       "    </tr>\n",
       "    <tr>\n",
       "      <th>3</th>\n",
       "      <td>No</td>\n",
       "      <td>$148,000</td>\n",
       "    </tr>\n",
       "    <tr>\n",
       "      <th>4</th>\n",
       "      <td>No</td>\n",
       "      <td>$255,500</td>\n",
       "    </tr>\n",
       "  </tbody>\n",
       "</table>\n",
       "</div>"
      ],
      "text/plain": [
       "  Work Experience Annual Salary\n",
       "0              No     $111,000 \n",
       "1             Yes     $107,000 \n",
       "2              No     $109,000 \n",
       "3              No     $148,000 \n",
       "4              No     $255,500 "
      ]
     },
     "execution_count": 19,
     "metadata": {},
     "output_type": "execute_result"
    }
   ],
   "source": [
    "Mean_Median_Mode_df.head()"
   ]
  },
  {
   "cell_type": "code",
   "execution_count": 20,
   "id": "9ab58c86",
   "metadata": {},
   "outputs": [
    {
     "name": "stdout",
     "output_type": "stream",
     "text": [
      "<class 'pandas.core.frame.DataFrame'>\n",
      "RangeIndex: 53 entries, 0 to 52\n",
      "Data columns (total 2 columns):\n",
      " #   Column           Non-Null Count  Dtype \n",
      "---  ------           --------------  ----- \n",
      " 0   Work Experience  53 non-null     object\n",
      " 1   Annual Salary    53 non-null     object\n",
      "dtypes: object(2)\n",
      "memory usage: 976.0+ bytes\n"
     ]
    }
   ],
   "source": [
    "Mean_Median_Mode_df.info()"
   ]
  },
  {
   "cell_type": "code",
   "execution_count": 21,
   "id": "9c38fb60",
   "metadata": {},
   "outputs": [],
   "source": [
    "Mean_Median_Mode_df['Annual Salary'] = Mean_Median_Mode_df['Annual Salary'].astype(str).str.replace('$', '', regex=False)\n",
    "Mean_Median_Mode_df['Annual Salary'] = Mean_Median_Mode_df['Annual Salary'].astype(str).str.replace(',', '', regex=False)\n",
    "Mean_Median_Mode_df['Annual Salary'] = pd.to_numeric(Mean_Median_Mode_df['Annual Salary'])"
   ]
  },
  {
   "cell_type": "code",
   "execution_count": 22,
   "id": "a9c730e7",
   "metadata": {},
   "outputs": [
    {
     "data": {
      "text/html": [
       "<div>\n",
       "<style scoped>\n",
       "    .dataframe tbody tr th:only-of-type {\n",
       "        vertical-align: middle;\n",
       "    }\n",
       "\n",
       "    .dataframe tbody tr th {\n",
       "        vertical-align: top;\n",
       "    }\n",
       "\n",
       "    .dataframe thead th {\n",
       "        text-align: right;\n",
       "    }\n",
       "</style>\n",
       "<table border=\"1\" class=\"dataframe\">\n",
       "  <thead>\n",
       "    <tr style=\"text-align: right;\">\n",
       "      <th></th>\n",
       "      <th>Work Experience</th>\n",
       "      <th>Annual Salary</th>\n",
       "    </tr>\n",
       "  </thead>\n",
       "  <tbody>\n",
       "    <tr>\n",
       "      <th>0</th>\n",
       "      <td>No</td>\n",
       "      <td>111000</td>\n",
       "    </tr>\n",
       "    <tr>\n",
       "      <th>1</th>\n",
       "      <td>Yes</td>\n",
       "      <td>107000</td>\n",
       "    </tr>\n",
       "    <tr>\n",
       "      <th>2</th>\n",
       "      <td>No</td>\n",
       "      <td>109000</td>\n",
       "    </tr>\n",
       "    <tr>\n",
       "      <th>3</th>\n",
       "      <td>No</td>\n",
       "      <td>148000</td>\n",
       "    </tr>\n",
       "    <tr>\n",
       "      <th>4</th>\n",
       "      <td>No</td>\n",
       "      <td>255500</td>\n",
       "    </tr>\n",
       "  </tbody>\n",
       "</table>\n",
       "</div>"
      ],
      "text/plain": [
       "  Work Experience  Annual Salary\n",
       "0              No         111000\n",
       "1             Yes         107000\n",
       "2              No         109000\n",
       "3              No         148000\n",
       "4              No         255500"
      ]
     },
     "execution_count": 22,
     "metadata": {},
     "output_type": "execute_result"
    }
   ],
   "source": [
    "Mean_Median_Mode_df.head()"
   ]
  },
  {
   "cell_type": "code",
   "execution_count": 23,
   "id": "deadeeae",
   "metadata": {},
   "outputs": [
    {
     "name": "stdout",
     "output_type": "stream",
     "text": [
      "<class 'pandas.core.frame.DataFrame'>\n",
      "RangeIndex: 53 entries, 0 to 52\n",
      "Data columns (total 2 columns):\n",
      " #   Column           Non-Null Count  Dtype \n",
      "---  ------           --------------  ----- \n",
      " 0   Work Experience  53 non-null     object\n",
      " 1   Annual Salary    53 non-null     int64 \n",
      "dtypes: int64(1), object(1)\n",
      "memory usage: 976.0+ bytes\n"
     ]
    }
   ],
   "source": [
    "Mean_Median_Mode_df.info()"
   ]
  },
  {
   "cell_type": "code",
   "execution_count": 24,
   "id": "12a0fd18",
   "metadata": {},
   "outputs": [
    {
     "data": {
      "text/html": [
       "<div>\n",
       "<style scoped>\n",
       "    .dataframe tbody tr th:only-of-type {\n",
       "        vertical-align: middle;\n",
       "    }\n",
       "\n",
       "    .dataframe tbody tr th {\n",
       "        vertical-align: top;\n",
       "    }\n",
       "\n",
       "    .dataframe thead th {\n",
       "        text-align: right;\n",
       "    }\n",
       "</style>\n",
       "<table border=\"1\" class=\"dataframe\">\n",
       "  <thead>\n",
       "    <tr style=\"text-align: right;\">\n",
       "      <th></th>\n",
       "      <th>Work Experience</th>\n",
       "      <th>Annual Salary</th>\n",
       "    </tr>\n",
       "  </thead>\n",
       "  <tbody>\n",
       "    <tr>\n",
       "      <th>0</th>\n",
       "      <td>No</td>\n",
       "      <td>103500</td>\n",
       "    </tr>\n",
       "  </tbody>\n",
       "</table>\n",
       "</div>"
      ],
      "text/plain": [
       "  Work Experience  Annual Salary\n",
       "0              No         103500"
      ]
     },
     "execution_count": 24,
     "metadata": {},
     "output_type": "execute_result"
    }
   ],
   "source": [
    "Mean_Median_Mode_df.mode()"
   ]
  },
  {
   "cell_type": "code",
   "execution_count": 25,
   "id": "977a81e4",
   "metadata": {},
   "outputs": [
    {
     "data": {
      "text/html": [
       "<div>\n",
       "<style scoped>\n",
       "    .dataframe tbody tr th:only-of-type {\n",
       "        vertical-align: middle;\n",
       "    }\n",
       "\n",
       "    .dataframe tbody tr th {\n",
       "        vertical-align: top;\n",
       "    }\n",
       "\n",
       "    .dataframe thead th {\n",
       "        text-align: right;\n",
       "    }\n",
       "</style>\n",
       "<table border=\"1\" class=\"dataframe\">\n",
       "  <thead>\n",
       "    <tr style=\"text-align: right;\">\n",
       "      <th></th>\n",
       "      <th>Annual Salary</th>\n",
       "    </tr>\n",
       "    <tr>\n",
       "      <th>Work Experience</th>\n",
       "      <th></th>\n",
       "    </tr>\n",
       "  </thead>\n",
       "  <tbody>\n",
       "    <tr>\n",
       "      <th>No</th>\n",
       "      <td>116902.777778</td>\n",
       "    </tr>\n",
       "    <tr>\n",
       "      <th>Yes</th>\n",
       "      <td>124647.058824</td>\n",
       "    </tr>\n",
       "  </tbody>\n",
       "</table>\n",
       "</div>"
      ],
      "text/plain": [
       "                 Annual Salary\n",
       "Work Experience               \n",
       "No               116902.777778\n",
       "Yes              124647.058824"
      ]
     },
     "execution_count": 25,
     "metadata": {},
     "output_type": "execute_result"
    }
   ],
   "source": [
    "Mean_Median_Mode_df.groupby('Work Experience').mean()"
   ]
  },
  {
   "cell_type": "code",
   "execution_count": 26,
   "id": "c018e200",
   "metadata": {},
   "outputs": [
    {
     "data": {
      "text/html": [
       "<div>\n",
       "<style scoped>\n",
       "    .dataframe tbody tr th:only-of-type {\n",
       "        vertical-align: middle;\n",
       "    }\n",
       "\n",
       "    .dataframe tbody tr th {\n",
       "        vertical-align: top;\n",
       "    }\n",
       "\n",
       "    .dataframe thead th {\n",
       "        text-align: right;\n",
       "    }\n",
       "</style>\n",
       "<table border=\"1\" class=\"dataframe\">\n",
       "  <thead>\n",
       "    <tr style=\"text-align: right;\">\n",
       "      <th></th>\n",
       "      <th>Annual Salary</th>\n",
       "    </tr>\n",
       "    <tr>\n",
       "      <th>Work Experience</th>\n",
       "      <th></th>\n",
       "    </tr>\n",
       "  </thead>\n",
       "  <tbody>\n",
       "    <tr>\n",
       "      <th>No</th>\n",
       "      <td>105750.0</td>\n",
       "    </tr>\n",
       "    <tr>\n",
       "      <th>Yes</th>\n",
       "      <td>103500.0</td>\n",
       "    </tr>\n",
       "  </tbody>\n",
       "</table>\n",
       "</div>"
      ],
      "text/plain": [
       "                 Annual Salary\n",
       "Work Experience               \n",
       "No                    105750.0\n",
       "Yes                   103500.0"
      ]
     },
     "execution_count": 26,
     "metadata": {},
     "output_type": "execute_result"
    }
   ],
   "source": [
    "Mean_Median_Mode_df.groupby('Work Experience').median()"
   ]
  },
  {
   "cell_type": "code",
   "execution_count": 27,
   "id": "e8265db4",
   "metadata": {},
   "outputs": [
    {
     "data": {
      "text/html": [
       "<div>\n",
       "<style scoped>\n",
       "    .dataframe tbody tr th:only-of-type {\n",
       "        vertical-align: middle;\n",
       "    }\n",
       "\n",
       "    .dataframe tbody tr th {\n",
       "        vertical-align: top;\n",
       "    }\n",
       "\n",
       "    .dataframe thead th {\n",
       "        text-align: right;\n",
       "    }\n",
       "</style>\n",
       "<table border=\"1\" class=\"dataframe\">\n",
       "  <thead>\n",
       "    <tr style=\"text-align: right;\">\n",
       "      <th></th>\n",
       "      <th>Annual Salary</th>\n",
       "    </tr>\n",
       "    <tr>\n",
       "      <th>Work Experience</th>\n",
       "      <th></th>\n",
       "    </tr>\n",
       "  </thead>\n",
       "  <tbody>\n",
       "    <tr>\n",
       "      <th>No</th>\n",
       "      <td>103500</td>\n",
       "    </tr>\n",
       "    <tr>\n",
       "      <th>Yes</th>\n",
       "      <td>[99000, 99500, 103500, 124500]</td>\n",
       "    </tr>\n",
       "  </tbody>\n",
       "</table>\n",
       "</div>"
      ],
      "text/plain": [
       "                                  Annual Salary\n",
       "Work Experience                                \n",
       "No                                       103500\n",
       "Yes              [99000, 99500, 103500, 124500]"
      ]
     },
     "execution_count": 27,
     "metadata": {},
     "output_type": "execute_result"
    }
   ],
   "source": [
    "Mean_Median_Mode_df.groupby('Work Experience').agg(pd.Series.mode)"
   ]
  },
  {
   "cell_type": "code",
   "execution_count": 28,
   "id": "fb65c021",
   "metadata": {},
   "outputs": [
    {
     "data": {
      "text/html": [
       "<div>\n",
       "<style scoped>\n",
       "    .dataframe tbody tr th:only-of-type {\n",
       "        vertical-align: middle;\n",
       "    }\n",
       "\n",
       "    .dataframe tbody tr th {\n",
       "        vertical-align: top;\n",
       "    }\n",
       "\n",
       "    .dataframe thead th {\n",
       "        text-align: right;\n",
       "    }\n",
       "</style>\n",
       "<table border=\"1\" class=\"dataframe\">\n",
       "  <thead>\n",
       "    <tr style=\"text-align: right;\">\n",
       "      <th></th>\n",
       "      <th>Work Experience</th>\n",
       "    </tr>\n",
       "    <tr>\n",
       "      <th>Annual Salary</th>\n",
       "      <th></th>\n",
       "    </tr>\n",
       "  </thead>\n",
       "  <tbody>\n",
       "    <tr>\n",
       "      <th>99000</th>\n",
       "      <td>2</td>\n",
       "    </tr>\n",
       "    <tr>\n",
       "      <th>99500</th>\n",
       "      <td>2</td>\n",
       "    </tr>\n",
       "    <tr>\n",
       "      <th>103500</th>\n",
       "      <td>2</td>\n",
       "    </tr>\n",
       "    <tr>\n",
       "      <th>124500</th>\n",
       "      <td>2</td>\n",
       "    </tr>\n",
       "    <tr>\n",
       "      <th>80000</th>\n",
       "      <td>1</td>\n",
       "    </tr>\n",
       "    <tr>\n",
       "      <th>86000</th>\n",
       "      <td>1</td>\n",
       "    </tr>\n",
       "    <tr>\n",
       "      <th>103000</th>\n",
       "      <td>1</td>\n",
       "    </tr>\n",
       "    <tr>\n",
       "      <th>107000</th>\n",
       "      <td>1</td>\n",
       "    </tr>\n",
       "    <tr>\n",
       "      <th>113000</th>\n",
       "      <td>1</td>\n",
       "    </tr>\n",
       "    <tr>\n",
       "      <th>124000</th>\n",
       "      <td>1</td>\n",
       "    </tr>\n",
       "    <tr>\n",
       "      <th>148000</th>\n",
       "      <td>1</td>\n",
       "    </tr>\n",
       "    <tr>\n",
       "      <th>165000</th>\n",
       "      <td>1</td>\n",
       "    </tr>\n",
       "    <tr>\n",
       "      <th>340000</th>\n",
       "      <td>1</td>\n",
       "    </tr>\n",
       "  </tbody>\n",
       "</table>\n",
       "</div>"
      ],
      "text/plain": [
       "               Work Experience\n",
       "Annual Salary                 \n",
       "99000                        2\n",
       "99500                        2\n",
       "103500                       2\n",
       "124500                       2\n",
       "80000                        1\n",
       "86000                        1\n",
       "103000                       1\n",
       "107000                       1\n",
       "113000                       1\n",
       "124000                       1\n",
       "148000                       1\n",
       "165000                       1\n",
       "340000                       1"
      ]
     },
     "execution_count": 28,
     "metadata": {},
     "output_type": "execute_result"
    }
   ],
   "source": [
    "Mean_Median_Mode_df[Mean_Median_Mode_df['Work Experience'] == 'Yes'].groupby('Annual Salary').count().sort_values(by='Work Experience', ascending=False)"
   ]
  },
  {
   "cell_type": "code",
   "execution_count": 29,
   "id": "c445b283",
   "metadata": {},
   "outputs": [
    {
     "data": {
      "text/plain": [
       "Annual Salary    119386.792453\n",
       "dtype: float64"
      ]
     },
     "execution_count": 29,
     "metadata": {},
     "output_type": "execute_result"
    }
   ],
   "source": [
    "Mean_Median_Mode_df.mean(numeric_only=True)"
   ]
  },
  {
   "cell_type": "code",
   "execution_count": 30,
   "id": "2c7709ed",
   "metadata": {},
   "outputs": [
    {
     "data": {
      "text/plain": [
       "Annual Salary    104500.0\n",
       "dtype: float64"
      ]
     },
     "execution_count": 30,
     "metadata": {},
     "output_type": "execute_result"
    }
   ],
   "source": [
    "Mean_Median_Mode_df.median(numeric_only=True)"
   ]
  },
  {
   "cell_type": "code",
   "execution_count": 31,
   "id": "8c491a86",
   "metadata": {},
   "outputs": [
    {
     "data": {
      "text/plain": [
       "Annual Salary    2.932434\n",
       "dtype: float64"
      ]
     },
     "execution_count": 31,
     "metadata": {},
     "output_type": "execute_result"
    }
   ],
   "source": [
    "Mean_Median_Mode_df.skew(numeric_only=True)"
   ]
  },
  {
   "cell_type": "code",
   "execution_count": 32,
   "id": "85c7e322",
   "metadata": {},
   "outputs": [
    {
     "data": {
      "image/png": "[encoded data removed]",
      "text/plain": [
       "<Figure size 432x288 with 1 Axes>"
      ]
     },
     "metadata": {
      "needs_background": "light"
     },
     "output_type": "display_data"
    }
   ],
   "source": [
    "fig, ax = plt.subplots()\n",
    "ax.hist(Mean_Median_Mode_df['Annual Salary'], bins=20);"
   ]
  },
  {
   "cell_type": "code",
   "execution_count": 33,
   "id": "c114328d",
   "metadata": {},
   "outputs": [],
   "source": [
    "Central_Tendency_df = pd.read_csv('Central Tendency.csv')"
   ]
  },
  {
   "cell_type": "code",
   "execution_count": 34,
   "id": "b48ec287",
   "metadata": {},
   "outputs": [
    {
     "data": {
      "text/html": [
       "<div>\n",
       "<style scoped>\n",
       "    .dataframe tbody tr th:only-of-type {\n",
       "        vertical-align: middle;\n",
       "    }\n",
       "\n",
       "    .dataframe tbody tr th {\n",
       "        vertical-align: top;\n",
       "    }\n",
       "\n",
       "    .dataframe thead th {\n",
       "        text-align: right;\n",
       "    }\n",
       "</style>\n",
       "<table border=\"1\" class=\"dataframe\">\n",
       "  <thead>\n",
       "    <tr style=\"text-align: right;\">\n",
       "      <th></th>\n",
       "      <th>Business Undergrads</th>\n",
       "      <th>Other Undergrads</th>\n",
       "    </tr>\n",
       "  </thead>\n",
       "  <tbody>\n",
       "    <tr>\n",
       "      <th>0</th>\n",
       "      <td>90.2</td>\n",
       "      <td>68.7</td>\n",
       "    </tr>\n",
       "    <tr>\n",
       "      <th>1</th>\n",
       "      <td>92.8</td>\n",
       "      <td>80.7</td>\n",
       "    </tr>\n",
       "    <tr>\n",
       "      <th>2</th>\n",
       "      <td>88.7</td>\n",
       "      <td>74.9</td>\n",
       "    </tr>\n",
       "    <tr>\n",
       "      <th>3</th>\n",
       "      <td>87.5</td>\n",
       "      <td>80.7</td>\n",
       "    </tr>\n",
       "    <tr>\n",
       "      <th>4</th>\n",
       "      <td>71.3</td>\n",
       "      <td>83.3</td>\n",
       "    </tr>\n",
       "  </tbody>\n",
       "</table>\n",
       "</div>"
      ],
      "text/plain": [
       "   Business Undergrads  Other Undergrads\n",
       "0                 90.2              68.7\n",
       "1                 92.8              80.7\n",
       "2                 88.7              74.9\n",
       "3                 87.5              80.7\n",
       "4                 71.3              83.3"
      ]
     },
     "execution_count": 34,
     "metadata": {},
     "output_type": "execute_result"
    }
   ],
   "source": [
    "Central_Tendency_df.head()"
   ]
  },
  {
   "cell_type": "code",
   "execution_count": 35,
   "id": "2518bae3",
   "metadata": {},
   "outputs": [
    {
     "name": "stdout",
     "output_type": "stream",
     "text": [
      "<class 'pandas.core.frame.DataFrame'>\n",
      "RangeIndex: 59 entries, 0 to 58\n",
      "Data columns (total 2 columns):\n",
      " #   Column               Non-Null Count  Dtype  \n",
      "---  ------               --------------  -----  \n",
      " 0   Business Undergrads  36 non-null     float64\n",
      " 1   Other Undergrads     59 non-null     float64\n",
      "dtypes: float64(2)\n",
      "memory usage: 1.0 KB\n"
     ]
    }
   ],
   "source": [
    "Central_Tendency_df.info()"
   ]
  },
  {
   "cell_type": "code",
   "execution_count": 36,
   "id": "3ea1017c",
   "metadata": {},
   "outputs": [
    {
     "data": {
      "text/plain": [
       "36"
      ]
     },
     "execution_count": 36,
     "metadata": {},
     "output_type": "execute_result"
    }
   ],
   "source": [
    "Central_Tendency_df['Business Undergrads'].count()"
   ]
  },
  {
   "cell_type": "code",
   "execution_count": 37,
   "id": "06fbb0e7",
   "metadata": {},
   "outputs": [
    {
     "data": {
      "text/plain": [
       "81.32777777777778"
      ]
     },
     "execution_count": 37,
     "metadata": {},
     "output_type": "execute_result"
    }
   ],
   "source": [
    "Central_Tendency_df['Business Undergrads'].mean()"
   ]
  },
  {
   "cell_type": "code",
   "execution_count": 38,
   "id": "9a2c8203",
   "metadata": {},
   "outputs": [
    {
     "data": {
      "text/plain": [
       "80.55"
      ]
     },
     "execution_count": 38,
     "metadata": {},
     "output_type": "execute_result"
    }
   ],
   "source": [
    "Central_Tendency_df['Business Undergrads'].median()"
   ]
  },
  {
   "cell_type": "code",
   "execution_count": 39,
   "id": "a565ee24",
   "metadata": {},
   "outputs": [
    {
     "data": {
      "text/plain": [
       "0    87.5\n",
       "Name: Business Undergrads, dtype: float64"
      ]
     },
     "execution_count": 39,
     "metadata": {},
     "output_type": "execute_result"
    }
   ],
   "source": [
    "Central_Tendency_df['Business Undergrads'].mode()"
   ]
  },
  {
   "cell_type": "code",
   "execution_count": 40,
   "id": "75949bb6",
   "metadata": {},
   "outputs": [
    {
     "data": {
      "text/plain": [
       "0.2881649781578145"
      ]
     },
     "execution_count": 40,
     "metadata": {},
     "output_type": "execute_result"
    }
   ],
   "source": [
    "Central_Tendency_df['Business Undergrads'].skew()"
   ]
  },
  {
   "cell_type": "code",
   "execution_count": 41,
   "id": "cd5de7da",
   "metadata": {},
   "outputs": [
    {
     "data": {
      "image/png": "[encoded data removed]",
      "text/plain": [
       "<Figure size 432x288 with 1 Axes>"
      ]
     },
     "metadata": {
      "needs_background": "light"
     },
     "output_type": "display_data"
    }
   ],
   "source": [
    "fig, ax = plt.subplots()\n",
    "ax.hist(Central_Tendency_df['Business Undergrads'], bins=7);"
   ]
  },
  {
   "cell_type": "code",
   "execution_count": 42,
   "id": "7f6f62e7",
   "metadata": {},
   "outputs": [
    {
     "data": {
      "text/plain": [
       "59"
      ]
     },
     "execution_count": 42,
     "metadata": {},
     "output_type": "execute_result"
    }
   ],
   "source": [
    "Central_Tendency_df['Other Undergrads'].count()"
   ]
  },
  {
   "cell_type": "code",
   "execution_count": 43,
   "id": "e13eac66",
   "metadata": {},
   "outputs": [
    {
     "data": {
      "text/plain": [
       "79.46271186440678"
      ]
     },
     "execution_count": 43,
     "metadata": {},
     "output_type": "execute_result"
    }
   ],
   "source": [
    "Central_Tendency_df['Other Undergrads'].mean()"
   ]
  },
  {
   "cell_type": "code",
   "execution_count": 44,
   "id": "513bc73a",
   "metadata": {},
   "outputs": [
    {
     "data": {
      "text/plain": [
       "0    80.7\n",
       "Name: Other Undergrads, dtype: float64"
      ]
     },
     "execution_count": 44,
     "metadata": {},
     "output_type": "execute_result"
    }
   ],
   "source": [
    "Central_Tendency_df['Other Undergrads'].mode()"
   ]
  },
  {
   "cell_type": "code",
   "execution_count": 45,
   "id": "dc0a33dd",
   "metadata": {},
   "outputs": [
    {
     "data": {
      "text/plain": [
       "80.0"
      ]
     },
     "execution_count": 45,
     "metadata": {},
     "output_type": "execute_result"
    }
   ],
   "source": [
    "Central_Tendency_df['Other Undergrads'].median()"
   ]
  },
  {
   "cell_type": "code",
   "execution_count": 46,
   "id": "8f9fab8f",
   "metadata": {},
   "outputs": [
    {
     "data": {
      "text/plain": [
       "-0.6060179698726653"
      ]
     },
     "execution_count": 46,
     "metadata": {},
     "output_type": "execute_result"
    }
   ],
   "source": [
    "Central_Tendency_df['Other Undergrads'].skew()"
   ]
  },
  {
   "cell_type": "code",
   "execution_count": 47,
   "id": "f1b3e070",
   "metadata": {},
   "outputs": [
    {
     "data": {
      "image/png": "[encoded data removed]",
      "text/plain": [
       "<Figure size 432x288 with 1 Axes>"
      ]
     },
     "metadata": {
      "needs_background": "light"
     },
     "output_type": "display_data"
    }
   ],
   "source": [
    "fig, ax = plt.subplots()\n",
    "ax.hist(Central_Tendency_df['Other Undergrads'], bins=7);"
   ]
  },
  {
   "cell_type": "code",
   "execution_count": 48,
   "id": "282e3229",
   "metadata": {},
   "outputs": [],
   "source": [
    "Min_Max_Range_df = pd.read_csv('Min, Max, Range.csv')"
   ]
  },
  {
   "cell_type": "code",
   "execution_count": 49,
   "id": "3443995a",
   "metadata": {},
   "outputs": [
    {
     "data": {
      "text/html": [
       "<div>\n",
       "<style scoped>\n",
       "    .dataframe tbody tr th:only-of-type {\n",
       "        vertical-align: middle;\n",
       "    }\n",
       "\n",
       "    .dataframe tbody tr th {\n",
       "        vertical-align: top;\n",
       "    }\n",
       "\n",
       "    .dataframe thead th {\n",
       "        text-align: right;\n",
       "    }\n",
       "</style>\n",
       "<table border=\"1\" class=\"dataframe\">\n",
       "  <thead>\n",
       "    <tr style=\"text-align: right;\">\n",
       "      <th></th>\n",
       "      <th>Employability (Before)</th>\n",
       "      <th>Employability (After)</th>\n",
       "    </tr>\n",
       "  </thead>\n",
       "  <tbody>\n",
       "    <tr>\n",
       "      <th>0</th>\n",
       "      <td>252</td>\n",
       "      <td>276</td>\n",
       "    </tr>\n",
       "    <tr>\n",
       "      <th>1</th>\n",
       "      <td>423</td>\n",
       "      <td>410</td>\n",
       "    </tr>\n",
       "    <tr>\n",
       "      <th>2</th>\n",
       "      <td>101</td>\n",
       "      <td>119</td>\n",
       "    </tr>\n",
       "    <tr>\n",
       "      <th>3</th>\n",
       "      <td>288</td>\n",
       "      <td>334</td>\n",
       "    </tr>\n",
       "    <tr>\n",
       "      <th>4</th>\n",
       "      <td>248</td>\n",
       "      <td>252</td>\n",
       "    </tr>\n",
       "  </tbody>\n",
       "</table>\n",
       "</div>"
      ],
      "text/plain": [
       "   Employability (Before)  Employability (After)\n",
       "0                     252                    276\n",
       "1                     423                    410\n",
       "2                     101                    119\n",
       "3                     288                    334\n",
       "4                     248                    252"
      ]
     },
     "execution_count": 49,
     "metadata": {},
     "output_type": "execute_result"
    }
   ],
   "source": [
    "Min_Max_Range_df.head()"
   ]
  },
  {
   "cell_type": "code",
   "execution_count": 50,
   "id": "dd080ddf",
   "metadata": {},
   "outputs": [
    {
     "data": {
      "text/plain": [
       "62"
      ]
     },
     "execution_count": 50,
     "metadata": {},
     "output_type": "execute_result"
    }
   ],
   "source": [
    "Min_Max_Range_df['Employability (Before)'].min()"
   ]
  },
  {
   "cell_type": "code",
   "execution_count": 51,
   "id": "7c724a0c",
   "metadata": {},
   "outputs": [
    {
     "data": {
      "text/plain": [
       "423"
      ]
     },
     "execution_count": 51,
     "metadata": {},
     "output_type": "execute_result"
    }
   ],
   "source": [
    "Min_Max_Range_df['Employability (Before)'].max()"
   ]
  },
  {
   "cell_type": "code",
   "execution_count": 52,
   "id": "3241cd43",
   "metadata": {},
   "outputs": [
    {
     "data": {
      "text/plain": [
       "361"
      ]
     },
     "execution_count": 52,
     "metadata": {},
     "output_type": "execute_result"
    }
   ],
   "source": [
    "Min_Max_Range_df['Employability (Before)'].max() - Min_Max_Range_df['Employability (Before)'].min()"
   ]
  },
  {
   "cell_type": "code",
   "execution_count": 53,
   "id": "f550e31c",
   "metadata": {},
   "outputs": [
    {
     "data": {
      "text/plain": [
       "102"
      ]
     },
     "execution_count": 53,
     "metadata": {},
     "output_type": "execute_result"
    }
   ],
   "source": [
    "Min_Max_Range_df['Employability (After)'].min()"
   ]
  },
  {
   "cell_type": "code",
   "execution_count": 54,
   "id": "d1c33851",
   "metadata": {},
   "outputs": [
    {
     "data": {
      "text/plain": [
       "481"
      ]
     },
     "execution_count": 54,
     "metadata": {},
     "output_type": "execute_result"
    }
   ],
   "source": [
    "Min_Max_Range_df['Employability (After)'].max()"
   ]
  },
  {
   "cell_type": "code",
   "execution_count": 55,
   "id": "d960ff68",
   "metadata": {},
   "outputs": [
    {
     "data": {
      "text/plain": [
       "379"
      ]
     },
     "execution_count": 55,
     "metadata": {},
     "output_type": "execute_result"
    }
   ],
   "source": [
    "Min_Max_Range_df['Employability (After)'].max() - Min_Max_Range_df['Employability (After)'].min()"
   ]
  },
  {
   "cell_type": "code",
   "execution_count": 56,
   "id": "015ddf7c",
   "metadata": {},
   "outputs": [],
   "source": [
    "Q3, Q1 = np.percentile(Min_Max_Range_df['Employability (Before)'], [75 ,25])"
   ]
  },
  {
   "cell_type": "code",
   "execution_count": 57,
   "id": "2d48a8e7",
   "metadata": {},
   "outputs": [
    {
     "data": {
      "text/plain": [
       "(287.0, 181.5)"
      ]
     },
     "execution_count": 57,
     "metadata": {},
     "output_type": "execute_result"
    }
   ],
   "source": [
    "Q3, Q1"
   ]
  },
  {
   "cell_type": "code",
   "execution_count": 58,
   "id": "7cde6853",
   "metadata": {},
   "outputs": [],
   "source": [
    "IQR = Q3 - Q1"
   ]
  },
  {
   "cell_type": "code",
   "execution_count": 59,
   "id": "e0db8411",
   "metadata": {},
   "outputs": [
    {
     "data": {
      "text/plain": [
       "105.5"
      ]
     },
     "execution_count": 59,
     "metadata": {},
     "output_type": "execute_result"
    }
   ],
   "source": [
    "IQR"
   ]
  },
  {
   "cell_type": "code",
   "execution_count": 60,
   "id": "8017faaa",
   "metadata": {},
   "outputs": [],
   "source": [
    "Q3, Q1 = np.percentile(Min_Max_Range_df['Employability (After)'], [75 ,25])"
   ]
  },
  {
   "cell_type": "code",
   "execution_count": 61,
   "id": "ff41c01e",
   "metadata": {},
   "outputs": [
    {
     "data": {
      "text/plain": [
       "(348.0, 228.0)"
      ]
     },
     "execution_count": 61,
     "metadata": {},
     "output_type": "execute_result"
    }
   ],
   "source": [
    "Q3, Q1"
   ]
  },
  {
   "cell_type": "code",
   "execution_count": 62,
   "id": "19c21d0b",
   "metadata": {},
   "outputs": [],
   "source": [
    "IQR = Q3 - Q1"
   ]
  },
  {
   "cell_type": "code",
   "execution_count": 63,
   "id": "39fed012",
   "metadata": {},
   "outputs": [
    {
     "data": {
      "text/plain": [
       "120.0"
      ]
     },
     "execution_count": 63,
     "metadata": {},
     "output_type": "execute_result"
    }
   ],
   "source": [
    "IQR"
   ]
  },
  {
   "cell_type": "code",
   "execution_count": 64,
   "id": "5d17481c",
   "metadata": {},
   "outputs": [
    {
     "data": {
      "text/plain": [
       "<AxesSubplot:>"
      ]
     },
     "execution_count": 64,
     "metadata": {},
     "output_type": "execute_result"
    },
    {
     "data": {
      "image/png": "[encoded data removed]",
      "text/plain": [
       "<Figure size 432x288 with 1 Axes>"
      ]
     },
     "metadata": {
      "needs_background": "light"
     },
     "output_type": "display_data"
    }
   ],
   "source": [
    "Min_Max_Range_df.plot.box(grid='True')"
   ]
  },
  {
   "cell_type": "code",
   "execution_count": 65,
   "id": "5e87626a",
   "metadata": {},
   "outputs": [
    {
     "data": {
      "image/png": "[encoded data removed]",
      "text/plain": [
       "<Figure size 720x504 with 1 Axes>"
      ]
     },
     "metadata": {
      "needs_background": "light"
     },
     "output_type": "display_data"
    }
   ],
   "source": [
    "fig = plt.figure(figsize =(10, 7))\n",
    " \n",
    "# Creating plot\n",
    "plt.boxplot(Min_Max_Range_df, patch_artist=True, labels=['Before', 'After'])\n",
    "# plt.boxplot(Min_Max_Range_df['Employability (After)'], labels=['After'])\n",
    " \n",
    "# show plot\n",
    "plt.show()"
   ]
  },
  {
   "cell_type": "code",
   "execution_count": 66,
   "id": "a10e2f62",
   "metadata": {},
   "outputs": [
    {
     "data": {
      "image/png": "[encoded data removed]",
      "text/plain": [
       "<Figure size 1600x800 with 1 Axes>"
      ]
     },
     "metadata": {
      "needs_background": "light"
     },
     "output_type": "display_data"
    }
   ],
   "source": [
    "plt.figure(figsize=(8,4), dpi=200)\n",
    "with sns.axes_style(\"whitegrid\"):\n",
    "    sns.boxplot(data=Min_Max_Range_df, width=0.1)\n",
    "plt.show()"
   ]
  },
  {
   "cell_type": "code",
   "execution_count": 67,
   "id": "778f66ce",
   "metadata": {},
   "outputs": [],
   "source": [
    "Variance_Std_Dev_df = pd.read_csv('Variance & Std Dev.csv')"
   ]
  },
  {
   "cell_type": "code",
   "execution_count": 68,
   "id": "754f2b23",
   "metadata": {},
   "outputs": [
    {
     "data": {
      "text/html": [
       "<div>\n",
       "<style scoped>\n",
       "    .dataframe tbody tr th:only-of-type {\n",
       "        vertical-align: middle;\n",
       "    }\n",
       "\n",
       "    .dataframe tbody tr th {\n",
       "        vertical-align: top;\n",
       "    }\n",
       "\n",
       "    .dataframe thead th {\n",
       "        text-align: right;\n",
       "    }\n",
       "</style>\n",
       "<table border=\"1\" class=\"dataframe\">\n",
       "  <thead>\n",
       "    <tr style=\"text-align: right;\">\n",
       "      <th></th>\n",
       "      <th>Employability (Before)</th>\n",
       "      <th>Employability (After)</th>\n",
       "      <th>Employability Improvement</th>\n",
       "    </tr>\n",
       "  </thead>\n",
       "  <tbody>\n",
       "    <tr>\n",
       "      <th>0</th>\n",
       "      <td>252</td>\n",
       "      <td>276</td>\n",
       "      <td>24</td>\n",
       "    </tr>\n",
       "    <tr>\n",
       "      <th>1</th>\n",
       "      <td>423</td>\n",
       "      <td>410</td>\n",
       "      <td>-13</td>\n",
       "    </tr>\n",
       "    <tr>\n",
       "      <th>2</th>\n",
       "      <td>101</td>\n",
       "      <td>119</td>\n",
       "      <td>18</td>\n",
       "    </tr>\n",
       "    <tr>\n",
       "      <th>3</th>\n",
       "      <td>288</td>\n",
       "      <td>334</td>\n",
       "      <td>46</td>\n",
       "    </tr>\n",
       "    <tr>\n",
       "      <th>4</th>\n",
       "      <td>248</td>\n",
       "      <td>252</td>\n",
       "      <td>4</td>\n",
       "    </tr>\n",
       "  </tbody>\n",
       "</table>\n",
       "</div>"
      ],
      "text/plain": [
       "   Employability (Before)  Employability (After)  Employability Improvement\n",
       "0                     252                    276                         24\n",
       "1                     423                    410                        -13\n",
       "2                     101                    119                         18\n",
       "3                     288                    334                         46\n",
       "4                     248                    252                          4"
      ]
     },
     "execution_count": 68,
     "metadata": {},
     "output_type": "execute_result"
    }
   ],
   "source": [
    "Variance_Std_Dev_df.head()"
   ]
  },
  {
   "cell_type": "code",
   "execution_count": 69,
   "id": "e4dd6d98",
   "metadata": {},
   "outputs": [],
   "source": [
    "# for SAMPLES calculations use PANDAS"
   ]
  },
  {
   "cell_type": "code",
   "execution_count": 70,
   "id": "5b9d3c83",
   "metadata": {},
   "outputs": [
    {
     "data": {
      "text/plain": [
       "49.44210526315789"
      ]
     },
     "execution_count": 70,
     "metadata": {},
     "output_type": "execute_result"
    }
   ],
   "source": [
    "Variance_Std_Dev_df['Employability Improvement'].mean()"
   ]
  },
  {
   "cell_type": "code",
   "execution_count": 71,
   "id": "9f320937",
   "metadata": {},
   "outputs": [
    {
     "data": {
      "text/plain": [
       "879.4194848824187"
      ]
     },
     "execution_count": 71,
     "metadata": {},
     "output_type": "execute_result"
    }
   ],
   "source": [
    "Variance_Std_Dev_df['Employability Improvement'].var()"
   ]
  },
  {
   "cell_type": "code",
   "execution_count": 72,
   "id": "1038c153",
   "metadata": {},
   "outputs": [
    {
     "data": {
      "text/plain": [
       "29.655007753875545"
      ]
     },
     "execution_count": 72,
     "metadata": {},
     "output_type": "execute_result"
    }
   ],
   "source": [
    "Variance_Std_Dev_df['Employability Improvement'].std()"
   ]
  },
  {
   "cell_type": "code",
   "execution_count": 73,
   "id": "bfa4e19f",
   "metadata": {},
   "outputs": [],
   "source": [
    "# for POPULATION calculations use NUMPY"
   ]
  },
  {
   "cell_type": "code",
   "execution_count": 74,
   "id": "ff021dfd",
   "metadata": {},
   "outputs": [
    {
     "data": {
      "text/plain": [
       "49.44210526315789"
      ]
     },
     "execution_count": 74,
     "metadata": {},
     "output_type": "execute_result"
    }
   ],
   "source": [
    "np.mean(Variance_Std_Dev_df['Employability Improvement'])"
   ]
  },
  {
   "cell_type": "code",
   "execution_count": 75,
   "id": "dbd79ee1",
   "metadata": {},
   "outputs": [
    {
     "data": {
      "text/plain": [
       "870.1624376731302"
      ]
     },
     "execution_count": 75,
     "metadata": {},
     "output_type": "execute_result"
    }
   ],
   "source": [
    "np.var(Variance_Std_Dev_df['Employability Improvement'])"
   ]
  },
  {
   "cell_type": "code",
   "execution_count": 76,
   "id": "fab66150",
   "metadata": {},
   "outputs": [
    {
     "data": {
      "text/plain": [
       "29.498515855431272"
      ]
     },
     "execution_count": 76,
     "metadata": {},
     "output_type": "execute_result"
    }
   ],
   "source": [
    "np.std(Variance_Std_Dev_df['Employability Improvement'])"
   ]
  },
  {
   "cell_type": "code",
   "execution_count": 77,
   "id": "d4506d03",
   "metadata": {},
   "outputs": [],
   "source": [
    "Coefficient_of_Variation = pd.read_csv('Coefficient of Variation.csv')"
   ]
  },
  {
   "cell_type": "code",
   "execution_count": 78,
   "id": "675c0cfb",
   "metadata": {},
   "outputs": [
    {
     "data": {
      "text/html": [
       "<div>\n",
       "<style scoped>\n",
       "    .dataframe tbody tr th:only-of-type {\n",
       "        vertical-align: middle;\n",
       "    }\n",
       "\n",
       "    .dataframe tbody tr th {\n",
       "        vertical-align: top;\n",
       "    }\n",
       "\n",
       "    .dataframe thead th {\n",
       "        text-align: right;\n",
       "    }\n",
       "</style>\n",
       "<table border=\"1\" class=\"dataframe\">\n",
       "  <thead>\n",
       "    <tr style=\"text-align: right;\">\n",
       "      <th></th>\n",
       "      <th>MBA Grade</th>\n",
       "      <th>Employability (After)</th>\n",
       "    </tr>\n",
       "  </thead>\n",
       "  <tbody>\n",
       "    <tr>\n",
       "      <th>0</th>\n",
       "      <td>90.2</td>\n",
       "      <td>276</td>\n",
       "    </tr>\n",
       "    <tr>\n",
       "      <th>1</th>\n",
       "      <td>92.8</td>\n",
       "      <td>410</td>\n",
       "    </tr>\n",
       "    <tr>\n",
       "      <th>2</th>\n",
       "      <td>68.7</td>\n",
       "      <td>119</td>\n",
       "    </tr>\n",
       "    <tr>\n",
       "      <th>3</th>\n",
       "      <td>80.7</td>\n",
       "      <td>334</td>\n",
       "    </tr>\n",
       "    <tr>\n",
       "      <th>4</th>\n",
       "      <td>74.9</td>\n",
       "      <td>252</td>\n",
       "    </tr>\n",
       "  </tbody>\n",
       "</table>\n",
       "</div>"
      ],
      "text/plain": [
       "   MBA Grade  Employability (After)\n",
       "0       90.2                    276\n",
       "1       92.8                    410\n",
       "2       68.7                    119\n",
       "3       80.7                    334\n",
       "4       74.9                    252"
      ]
     },
     "execution_count": 78,
     "metadata": {},
     "output_type": "execute_result"
    }
   ],
   "source": [
    "Coefficient_of_Variation.head()"
   ]
  },
  {
   "cell_type": "code",
   "execution_count": 79,
   "id": "802d7912",
   "metadata": {},
   "outputs": [
    {
     "data": {
      "text/plain": [
       "(80.16947368421052, 289.34736842105264)"
      ]
     },
     "execution_count": 79,
     "metadata": {},
     "output_type": "execute_result"
    }
   ],
   "source": [
    "Coefficient_of_Variation['MBA Grade'].mean(), Coefficient_of_Variation['Employability (After)'].mean()"
   ]
  },
  {
   "cell_type": "code",
   "execution_count": 80,
   "id": "2fef5f0b",
   "metadata": {},
   "outputs": [
    {
     "data": {
      "text/plain": [
       "(6.170780041112261, 93.52104876523815)"
      ]
     },
     "execution_count": 80,
     "metadata": {},
     "output_type": "execute_result"
    }
   ],
   "source": [
    "Coefficient_of_Variation['MBA Grade'].std(), Coefficient_of_Variation['Employability (After)'].std()"
   ]
  },
  {
   "cell_type": "code",
   "execution_count": 81,
   "id": "fe8c4d64",
   "metadata": {},
   "outputs": [
    {
     "name": "stdout",
     "output_type": "stream",
     "text": [
      "Cofficient of variation for MBA Grades: 0.0769716920609846\n"
     ]
    }
   ],
   "source": [
    "print(f\"Cofficient of variation for MBA Grades: {Coefficient_of_Variation['MBA Grade'].std()/Coefficient_of_Variation['MBA Grade'].mean()}\")"
   ]
  },
  {
   "cell_type": "code",
   "execution_count": 82,
   "id": "0dc1b9a9",
   "metadata": {},
   "outputs": [
    {
     "name": "stdout",
     "output_type": "stream",
     "text": [
      "Cofficient of variation for Employability : 0.32321375264470403\n"
     ]
    }
   ],
   "source": [
    "print(f\"Cofficient of variation for Employability : {Coefficient_of_Variation['Employability (After)'].std()/Coefficient_of_Variation['Employability (After)'].mean()}\")"
   ]
  },
  {
   "cell_type": "code",
   "execution_count": 83,
   "id": "72a10105",
   "metadata": {},
   "outputs": [
    {
     "data": {
      "text/html": [
       "<div>\n",
       "<style scoped>\n",
       "    .dataframe tbody tr th:only-of-type {\n",
       "        vertical-align: middle;\n",
       "    }\n",
       "\n",
       "    .dataframe tbody tr th {\n",
       "        vertical-align: top;\n",
       "    }\n",
       "\n",
       "    .dataframe thead th {\n",
       "        text-align: right;\n",
       "    }\n",
       "</style>\n",
       "<table border=\"1\" class=\"dataframe\">\n",
       "  <thead>\n",
       "    <tr style=\"text-align: right;\">\n",
       "      <th></th>\n",
       "      <th>MBA Grade</th>\n",
       "    </tr>\n",
       "  </thead>\n",
       "  <tbody>\n",
       "    <tr>\n",
       "      <th>0</th>\n",
       "      <td>90.2</td>\n",
       "    </tr>\n",
       "    <tr>\n",
       "      <th>1</th>\n",
       "      <td>92.8</td>\n",
       "    </tr>\n",
       "    <tr>\n",
       "      <th>2</th>\n",
       "      <td>68.7</td>\n",
       "    </tr>\n",
       "    <tr>\n",
       "      <th>3</th>\n",
       "      <td>80.7</td>\n",
       "    </tr>\n",
       "    <tr>\n",
       "      <th>4</th>\n",
       "      <td>74.9</td>\n",
       "    </tr>\n",
       "  </tbody>\n",
       "</table>\n",
       "</div>"
      ],
      "text/plain": [
       "   MBA Grade\n",
       "0       90.2\n",
       "1       92.8\n",
       "2       68.7\n",
       "3       80.7\n",
       "4       74.9"
      ]
     },
     "execution_count": 83,
     "metadata": {},
     "output_type": "execute_result"
    }
   ],
   "source": [
    "Frequency_Distributions_df.head()"
   ]
  },
  {
   "cell_type": "code",
   "execution_count": 84,
   "id": "8f6254db",
   "metadata": {},
   "outputs": [
    {
     "data": {
      "text/plain": [
       "MBA Grade    80.169474\n",
       "dtype: float64"
      ]
     },
     "execution_count": 84,
     "metadata": {},
     "output_type": "execute_result"
    }
   ],
   "source": [
    "Frequency_Distributions_df.mean()"
   ]
  },
  {
   "cell_type": "code",
   "execution_count": 85,
   "id": "231badd2",
   "metadata": {},
   "outputs": [
    {
     "data": {
      "text/plain": [
       "MBA Grade    80.2\n",
       "dtype: float64"
      ]
     },
     "execution_count": 85,
     "metadata": {},
     "output_type": "execute_result"
    }
   ],
   "source": [
    "Frequency_Distributions_df.median()"
   ]
  },
  {
   "cell_type": "code",
   "execution_count": 86,
   "id": "a975b20a",
   "metadata": {},
   "outputs": [
    {
     "data": {
      "text/plain": [
       "MBA Grade    6.17078\n",
       "dtype: float64"
      ]
     },
     "execution_count": 86,
     "metadata": {},
     "output_type": "execute_result"
    }
   ],
   "source": [
    "Frequency_Distributions_df.std()"
   ]
  },
  {
   "cell_type": "code",
   "execution_count": 87,
   "id": "e0445ac5",
   "metadata": {},
   "outputs": [
    {
     "data": {
      "image/png": "[encoded data removed]",
      "text/plain": [
       "<Figure size 1600x800 with 1 Axes>"
      ]
     },
     "metadata": {
      "needs_background": "light"
     },
     "output_type": "display_data"
    }
   ],
   "source": [
    "plt.figure(figsize=(8, 4), dpi=200)\n",
    "sns.histplot(data=Frequency_Distributions_df,\n",
    "             bins=8,\n",
    "             kde=True)\n",
    "plt.xlabel('MBA Grades')\n",
    "plt.title('No. of Samples')\n",
    "plt.show()"
   ]
  },
  {
   "cell_type": "code",
   "execution_count": 88,
   "id": "37c80fb4",
   "metadata": {},
   "outputs": [
    {
     "data": {
      "text/plain": [
       "MBA Grade    96.1\n",
       "Name: 18, dtype: float64"
      ]
     },
     "execution_count": 88,
     "metadata": {},
     "output_type": "execute_result"
    }
   ],
   "source": [
    "Frequency_Distributions_df.loc[18]"
   ]
  },
  {
   "cell_type": "code",
   "execution_count": 89,
   "id": "451b7fff",
   "metadata": {},
   "outputs": [
    {
     "data": {
      "text/plain": [
       "MBA Grade    2.595302\n",
       "Name: 18, dtype: float64"
      ]
     },
     "execution_count": 89,
     "metadata": {},
     "output_type": "execute_result"
    }
   ],
   "source": [
    "stats.zscore(Frequency_Distributions_df).loc[18]"
   ]
  },
  {
   "cell_type": "code",
   "execution_count": 90,
   "id": "023837eb",
   "metadata": {},
   "outputs": [],
   "source": [
    "z_values = Frequency_Distributions_df.copy()\n",
    "z_values['Z-score'] = stats.zscore(Frequency_Distributions_df)\n",
    "z_values['Z-score calculated'] = (Frequency_Distributions_df-Frequency_Distributions_df.mean())/Frequency_Distributions_df.std()"
   ]
  },
  {
   "cell_type": "code",
   "execution_count": 91,
   "id": "eaf0f7d6",
   "metadata": {},
   "outputs": [
    {
     "data": {
      "text/html": [
       "<div>\n",
       "<style scoped>\n",
       "    .dataframe tbody tr th:only-of-type {\n",
       "        vertical-align: middle;\n",
       "    }\n",
       "\n",
       "    .dataframe tbody tr th {\n",
       "        vertical-align: top;\n",
       "    }\n",
       "\n",
       "    .dataframe thead th {\n",
       "        text-align: right;\n",
       "    }\n",
       "</style>\n",
       "<table border=\"1\" class=\"dataframe\">\n",
       "  <thead>\n",
       "    <tr style=\"text-align: right;\">\n",
       "      <th></th>\n",
       "      <th>MBA Grade</th>\n",
       "      <th>Z-score</th>\n",
       "      <th>Z-score calculated</th>\n",
       "    </tr>\n",
       "  </thead>\n",
       "  <tbody>\n",
       "    <tr>\n",
       "      <th>0</th>\n",
       "      <td>90.2</td>\n",
       "      <td>1.634111</td>\n",
       "      <td>1.625488</td>\n",
       "    </tr>\n",
       "    <tr>\n",
       "      <th>1</th>\n",
       "      <td>92.8</td>\n",
       "      <td>2.057687</td>\n",
       "      <td>2.046828</td>\n",
       "    </tr>\n",
       "    <tr>\n",
       "      <th>2</th>\n",
       "      <td>68.7</td>\n",
       "      <td>-1.868535</td>\n",
       "      <td>-1.858675</td>\n",
       "    </tr>\n",
       "    <tr>\n",
       "      <th>3</th>\n",
       "      <td>80.7</td>\n",
       "      <td>0.086430</td>\n",
       "      <td>0.085974</td>\n",
       "    </tr>\n",
       "    <tr>\n",
       "      <th>4</th>\n",
       "      <td>74.9</td>\n",
       "      <td>-0.858470</td>\n",
       "      <td>-0.853940</td>\n",
       "    </tr>\n",
       "    <tr>\n",
       "      <th>...</th>\n",
       "      <td>...</td>\n",
       "      <td>...</td>\n",
       "      <td>...</td>\n",
       "    </tr>\n",
       "    <tr>\n",
       "      <th>90</th>\n",
       "      <td>77.9</td>\n",
       "      <td>-0.369729</td>\n",
       "      <td>-0.367777</td>\n",
       "    </tr>\n",
       "    <tr>\n",
       "      <th>91</th>\n",
       "      <td>86.1</td>\n",
       "      <td>0.966164</td>\n",
       "      <td>0.961066</td>\n",
       "    </tr>\n",
       "    <tr>\n",
       "      <th>92</th>\n",
       "      <td>89.9</td>\n",
       "      <td>1.585237</td>\n",
       "      <td>1.576871</td>\n",
       "    </tr>\n",
       "    <tr>\n",
       "      <th>93</th>\n",
       "      <td>83.1</td>\n",
       "      <td>0.477423</td>\n",
       "      <td>0.474904</td>\n",
       "    </tr>\n",
       "    <tr>\n",
       "      <th>94</th>\n",
       "      <td>82.6</td>\n",
       "      <td>0.395966</td>\n",
       "      <td>0.393877</td>\n",
       "    </tr>\n",
       "  </tbody>\n",
       "</table>\n",
       "<p>95 rows × 3 columns</p>\n",
       "</div>"
      ],
      "text/plain": [
       "    MBA Grade   Z-score  Z-score calculated\n",
       "0        90.2  1.634111            1.625488\n",
       "1        92.8  2.057687            2.046828\n",
       "2        68.7 -1.868535           -1.858675\n",
       "3        80.7  0.086430            0.085974\n",
       "4        74.9 -0.858470           -0.853940\n",
       "..        ...       ...                 ...\n",
       "90       77.9 -0.369729           -0.367777\n",
       "91       86.1  0.966164            0.961066\n",
       "92       89.9  1.585237            1.576871\n",
       "93       83.1  0.477423            0.474904\n",
       "94       82.6  0.395966            0.393877\n",
       "\n",
       "[95 rows x 3 columns]"
      ]
     },
     "execution_count": 91,
     "metadata": {},
     "output_type": "execute_result"
    }
   ],
   "source": [
    "z_values"
   ]
  },
  {
   "cell_type": "code",
   "execution_count": 92,
   "id": "2b99c299",
   "metadata": {},
   "outputs": [
    {
     "data": {
      "image/png": "[encoded data removed]",
      "text/plain": [
       "<Figure size 1600x800 with 1 Axes>"
      ]
     },
     "metadata": {
      "needs_background": "light"
     },
     "output_type": "display_data"
    }
   ],
   "source": [
    "plt.figure(figsize=(8, 4), dpi=200)\n",
    "sns.histplot(data=stats.zscore(Frequency_Distributions_df),\n",
    "             bins=8,\n",
    "             kde=True)\n",
    "plt.xlabel('Z-score of MBA Grades')\n",
    "plt.title('No. of Samples')\n",
    "plt.show()"
   ]
  },
  {
   "cell_type": "code",
   "execution_count": 93,
   "id": "41b891be",
   "metadata": {},
   "outputs": [
    {
     "data": {
      "image/png": "[encoded data removed]",
      "text/plain": [
       "<Figure size 432x288 with 1 Axes>"
      ]
     },
     "metadata": {
      "needs_background": "light"
     },
     "output_type": "display_data"
    }
   ],
   "source": [
    "Frequency_Distributions_df.plot.kde();"
   ]
  },
  {
   "cell_type": "code",
   "execution_count": 94,
   "id": "32eb6bf5",
   "metadata": {},
   "outputs": [],
   "source": [
    "# Empirical Rule"
   ]
  },
  {
   "cell_type": "code",
   "execution_count": 95,
   "id": "3285ec8b",
   "metadata": {},
   "outputs": [
    {
     "data": {
      "text/html": [
       "<div>\n",
       "<style scoped>\n",
       "    .dataframe tbody tr th:only-of-type {\n",
       "        vertical-align: middle;\n",
       "    }\n",
       "\n",
       "    .dataframe tbody tr th {\n",
       "        vertical-align: top;\n",
       "    }\n",
       "\n",
       "    .dataframe thead th {\n",
       "        text-align: right;\n",
       "    }\n",
       "</style>\n",
       "<table border=\"1\" class=\"dataframe\">\n",
       "  <thead>\n",
       "    <tr style=\"text-align: right;\">\n",
       "      <th></th>\n",
       "      <th>MBA Grade</th>\n",
       "    </tr>\n",
       "  </thead>\n",
       "  <tbody>\n",
       "    <tr>\n",
       "      <th>0</th>\n",
       "      <td>90.2</td>\n",
       "    </tr>\n",
       "    <tr>\n",
       "      <th>1</th>\n",
       "      <td>92.8</td>\n",
       "    </tr>\n",
       "    <tr>\n",
       "      <th>2</th>\n",
       "      <td>68.7</td>\n",
       "    </tr>\n",
       "    <tr>\n",
       "      <th>3</th>\n",
       "      <td>80.7</td>\n",
       "    </tr>\n",
       "    <tr>\n",
       "      <th>4</th>\n",
       "      <td>74.9</td>\n",
       "    </tr>\n",
       "  </tbody>\n",
       "</table>\n",
       "</div>"
      ],
      "text/plain": [
       "   MBA Grade\n",
       "0       90.2\n",
       "1       92.8\n",
       "2       68.7\n",
       "3       80.7\n",
       "4       74.9"
      ]
     },
     "execution_count": 95,
     "metadata": {},
     "output_type": "execute_result"
    }
   ],
   "source": [
    "Frequency_Distributions_df.head()"
   ]
  },
  {
   "cell_type": "code",
   "execution_count": 96,
   "id": "f8da0970",
   "metadata": {},
   "outputs": [],
   "source": [
    "index = ['Lower',\n",
    "         'Upper',\n",
    "         'Empirical Rule',\n",
    "         'Sample']"
   ]
  },
  {
   "cell_type": "code",
   "execution_count": 97,
   "id": "66b55414",
   "metadata": {},
   "outputs": [
    {
     "data": {
      "text/plain": [
       "[73.99869364309825, 67.827913601986, 61.65713356087373]"
      ]
     },
     "execution_count": 97,
     "metadata": {},
     "output_type": "execute_result"
    }
   ],
   "source": [
    "lower = [Frequency_Distributions_df.mean()[0]-Frequency_Distributions_df.std()[0] * 1, \n",
    "         Frequency_Distributions_df.mean()[0]-Frequency_Distributions_df.std()[0] * 2,\n",
    "         Frequency_Distributions_df.mean()[0]-Frequency_Distributions_df.std()[0] * 3]\n",
    "lower"
   ]
  },
  {
   "cell_type": "code",
   "execution_count": 98,
   "id": "3d97d1d0",
   "metadata": {},
   "outputs": [
    {
     "data": {
      "text/plain": [
       "[86.34025372532278, 92.51103376643503, 98.6818138075473]"
      ]
     },
     "execution_count": 98,
     "metadata": {},
     "output_type": "execute_result"
    }
   ],
   "source": [
    "upper = [Frequency_Distributions_df.mean()[0]+Frequency_Distributions_df.std()[0] * 1, \n",
    "         Frequency_Distributions_df.mean()[0]+Frequency_Distributions_df.std()[0] * 2,\n",
    "         Frequency_Distributions_df.mean()[0]+Frequency_Distributions_df.std()[0] * 3]\n",
    "upper"
   ]
  },
  {
   "cell_type": "code",
   "execution_count": 99,
   "id": "5c780a6f",
   "metadata": {},
   "outputs": [],
   "source": [
    "emp_rule = [68, 95, 99.7]"
   ]
  },
  {
   "cell_type": "code",
   "execution_count": 100,
   "id": "fdf8568e",
   "metadata": {},
   "outputs": [
    {
     "data": {
      "text/plain": [
       "[69.47368421052632, 94.73684210526315, 100.0]"
      ]
     },
     "execution_count": 100,
     "metadata": {},
     "output_type": "execute_result"
    }
   ],
   "source": [
    "sample = [\n",
    "    Frequency_Distributions_df[(Frequency_Distributions_df>=lower[0]) & (Frequency_Distributions_df<=upper[0])].count()[0]/len(Frequency_Distributions_df)*100,\n",
    "    Frequency_Distributions_df[(Frequency_Distributions_df>=lower[1]) & (Frequency_Distributions_df<=upper[1])].count()[0]/len(Frequency_Distributions_df)*100,\n",
    "    Frequency_Distributions_df[(Frequency_Distributions_df>=lower[2]) & (Frequency_Distributions_df<=upper[2])].count()[0]/len(Frequency_Distributions_df)*100\n",
    "]\n",
    "sample"
   ]
  },
  {
   "cell_type": "code",
   "execution_count": 101,
   "id": "95de6490",
   "metadata": {},
   "outputs": [
    {
     "data": {
      "text/html": [
       "<div>\n",
       "<style scoped>\n",
       "    .dataframe tbody tr th:only-of-type {\n",
       "        vertical-align: middle;\n",
       "    }\n",
       "\n",
       "    .dataframe tbody tr th {\n",
       "        vertical-align: top;\n",
       "    }\n",
       "\n",
       "    .dataframe thead th {\n",
       "        text-align: right;\n",
       "    }\n",
       "</style>\n",
       "<table border=\"1\" class=\"dataframe\">\n",
       "  <thead>\n",
       "    <tr style=\"text-align: right;\">\n",
       "      <th></th>\n",
       "      <th>1</th>\n",
       "      <th>2</th>\n",
       "      <th>3</th>\n",
       "    </tr>\n",
       "  </thead>\n",
       "  <tbody>\n",
       "    <tr>\n",
       "      <th>Lower</th>\n",
       "      <td>73.998694</td>\n",
       "      <td>67.827914</td>\n",
       "      <td>61.657134</td>\n",
       "    </tr>\n",
       "    <tr>\n",
       "      <th>Upper</th>\n",
       "      <td>86.340254</td>\n",
       "      <td>92.511034</td>\n",
       "      <td>98.681814</td>\n",
       "    </tr>\n",
       "    <tr>\n",
       "      <th>Empirical Rule</th>\n",
       "      <td>68.000000</td>\n",
       "      <td>95.000000</td>\n",
       "      <td>99.700000</td>\n",
       "    </tr>\n",
       "    <tr>\n",
       "      <th>Sample</th>\n",
       "      <td>69.473684</td>\n",
       "      <td>94.736842</td>\n",
       "      <td>100.000000</td>\n",
       "    </tr>\n",
       "  </tbody>\n",
       "</table>\n",
       "</div>"
      ],
      "text/plain": [
       "                        1          2           3\n",
       "Lower           73.998694  67.827914   61.657134\n",
       "Upper           86.340254  92.511034   98.681814\n",
       "Empirical Rule  68.000000  95.000000   99.700000\n",
       "Sample          69.473684  94.736842  100.000000"
      ]
     },
     "execution_count": 101,
     "metadata": {},
     "output_type": "execute_result"
    }
   ],
   "source": [
    "empirical_rule_df = pd.DataFrame(\n",
    "    index=index,\n",
    "    data=[lower, upper, emp_rule, sample],\n",
    "    columns=({1,2,3})\n",
    ")\n",
    "empirical_rule_df"
   ]
  },
  {
   "cell_type": "code",
   "execution_count": 102,
   "id": "4d2f0a44",
   "metadata": {},
   "outputs": [],
   "source": [
    "def empirical_rule(df):\n",
    "    df = df.copy()\n",
    "    \n",
    "    index = ['Lower',\n",
    "         'Upper',\n",
    "         'Empirical Rule',\n",
    "         'Sample']\n",
    "    \n",
    "    lower = [df.mean()[0]-df.std()[0] * 1, \n",
    "             df.mean()[0]-df.std()[0] * 2,\n",
    "             df.mean()[0]-df.std()[0] * 3]\n",
    "    \n",
    "    upper = [df.mean()[0]+df.std()[0] * 1, \n",
    "             df.mean()[0]+df.std()[0] * 2,\n",
    "             df.mean()[0]+df.std()[0] * 3]\n",
    "    \n",
    "    emp_rule = [68, 95, 99.7]\n",
    "    \n",
    "    sample = [\n",
    "        df[(df>=lower[0]) & (df<=upper[0])].count()[0]/len(df)*100,\n",
    "        df[(df>=lower[1]) & (df<=upper[1])].count()[0]/len(df)*100,\n",
    "        df[(df>=lower[2]) & (df<=upper[2])].count()[0]/len(df)*100\n",
    "    ]\n",
    "    \n",
    "    empirical_rule = pd.DataFrame(\n",
    "        index=index,\n",
    "        data=[lower, upper, emp_rule, sample],\n",
    "        columns=({1,2,3})\n",
    "    )\n",
    "    return empirical_rule"
   ]
  },
  {
   "cell_type": "code",
   "execution_count": 103,
   "id": "70966577",
   "metadata": {},
   "outputs": [
    {
     "data": {
      "text/html": [
       "<div>\n",
       "<style scoped>\n",
       "    .dataframe tbody tr th:only-of-type {\n",
       "        vertical-align: middle;\n",
       "    }\n",
       "\n",
       "    .dataframe tbody tr th {\n",
       "        vertical-align: top;\n",
       "    }\n",
       "\n",
       "    .dataframe thead th {\n",
       "        text-align: right;\n",
       "    }\n",
       "</style>\n",
       "<table border=\"1\" class=\"dataframe\">\n",
       "  <thead>\n",
       "    <tr style=\"text-align: right;\">\n",
       "      <th></th>\n",
       "      <th>1</th>\n",
       "      <th>2</th>\n",
       "      <th>3</th>\n",
       "    </tr>\n",
       "  </thead>\n",
       "  <tbody>\n",
       "    <tr>\n",
       "      <th>Lower</th>\n",
       "      <td>73.998694</td>\n",
       "      <td>67.827914</td>\n",
       "      <td>61.657134</td>\n",
       "    </tr>\n",
       "    <tr>\n",
       "      <th>Upper</th>\n",
       "      <td>86.340254</td>\n",
       "      <td>92.511034</td>\n",
       "      <td>98.681814</td>\n",
       "    </tr>\n",
       "    <tr>\n",
       "      <th>Empirical Rule</th>\n",
       "      <td>68.000000</td>\n",
       "      <td>95.000000</td>\n",
       "      <td>99.700000</td>\n",
       "    </tr>\n",
       "    <tr>\n",
       "      <th>Sample</th>\n",
       "      <td>69.473684</td>\n",
       "      <td>94.736842</td>\n",
       "      <td>100.000000</td>\n",
       "    </tr>\n",
       "  </tbody>\n",
       "</table>\n",
       "</div>"
      ],
      "text/plain": [
       "                        1          2           3\n",
       "Lower           73.998694  67.827914   61.657134\n",
       "Upper           86.340254  92.511034   98.681814\n",
       "Empirical Rule  68.000000  95.000000   99.700000\n",
       "Sample          69.473684  94.736842  100.000000"
      ]
     },
     "execution_count": 103,
     "metadata": {},
     "output_type": "execute_result"
    }
   ],
   "source": [
    "empirical_rule(Frequency_Distributions_df)"
   ]
  },
  {
   "cell_type": "code",
   "execution_count": 104,
   "id": "8a835681",
   "metadata": {},
   "outputs": [
    {
     "data": {
      "text/html": [
       "<div>\n",
       "<style scoped>\n",
       "    .dataframe tbody tr th:only-of-type {\n",
       "        vertical-align: middle;\n",
       "    }\n",
       "\n",
       "    .dataframe tbody tr th {\n",
       "        vertical-align: top;\n",
       "    }\n",
       "\n",
       "    .dataframe thead th {\n",
       "        text-align: right;\n",
       "    }\n",
       "</style>\n",
       "<table border=\"1\" class=\"dataframe\">\n",
       "  <thead>\n",
       "    <tr style=\"text-align: right;\">\n",
       "      <th></th>\n",
       "      <th>1</th>\n",
       "      <th>2</th>\n",
       "      <th>3</th>\n",
       "    </tr>\n",
       "  </thead>\n",
       "  <tbody>\n",
       "    <tr>\n",
       "      <th>Lower</th>\n",
       "      <td>73.839834</td>\n",
       "      <td>28.292876</td>\n",
       "      <td>-17.254082</td>\n",
       "    </tr>\n",
       "    <tr>\n",
       "      <th>Upper</th>\n",
       "      <td>164.933751</td>\n",
       "      <td>210.480709</td>\n",
       "      <td>256.027667</td>\n",
       "    </tr>\n",
       "    <tr>\n",
       "      <th>Empirical Rule</th>\n",
       "      <td>68.000000</td>\n",
       "      <td>95.000000</td>\n",
       "      <td>99.700000</td>\n",
       "    </tr>\n",
       "    <tr>\n",
       "      <th>Sample</th>\n",
       "      <td>88.679245</td>\n",
       "      <td>96.226415</td>\n",
       "      <td>98.113208</td>\n",
       "    </tr>\n",
       "  </tbody>\n",
       "</table>\n",
       "</div>"
      ],
      "text/plain": [
       "                         1           2           3\n",
       "Lower            73.839834   28.292876  -17.254082\n",
       "Upper           164.933751  210.480709  256.027667\n",
       "Empirical Rule   68.000000   95.000000   99.700000\n",
       "Sample           88.679245   96.226415   98.113208"
      ]
     },
     "execution_count": 104,
     "metadata": {},
     "output_type": "execute_result"
    }
   ],
   "source": [
    "empirical_rule(Numerical_Distributions_df)"
   ]
  },
  {
   "cell_type": "code",
   "execution_count": 105,
   "id": "91091777",
   "metadata": {},
   "outputs": [],
   "source": [
    "# Finding the probability for a normal distribution"
   ]
  },
  {
   "cell_type": "code",
   "execution_count": 106,
   "id": "4f0cbac6",
   "metadata": {},
   "outputs": [
    {
     "data": {
      "text/html": [
       "<div>\n",
       "<style scoped>\n",
       "    .dataframe tbody tr th:only-of-type {\n",
       "        vertical-align: middle;\n",
       "    }\n",
       "\n",
       "    .dataframe tbody tr th {\n",
       "        vertical-align: top;\n",
       "    }\n",
       "\n",
       "    .dataframe thead th {\n",
       "        text-align: right;\n",
       "    }\n",
       "</style>\n",
       "<table border=\"1\" class=\"dataframe\">\n",
       "  <thead>\n",
       "    <tr style=\"text-align: right;\">\n",
       "      <th></th>\n",
       "      <th>MBA Grade</th>\n",
       "    </tr>\n",
       "  </thead>\n",
       "  <tbody>\n",
       "    <tr>\n",
       "      <th>0</th>\n",
       "      <td>90.2</td>\n",
       "    </tr>\n",
       "    <tr>\n",
       "      <th>1</th>\n",
       "      <td>92.8</td>\n",
       "    </tr>\n",
       "    <tr>\n",
       "      <th>2</th>\n",
       "      <td>68.7</td>\n",
       "    </tr>\n",
       "    <tr>\n",
       "      <th>3</th>\n",
       "      <td>80.7</td>\n",
       "    </tr>\n",
       "    <tr>\n",
       "      <th>4</th>\n",
       "      <td>74.9</td>\n",
       "    </tr>\n",
       "  </tbody>\n",
       "</table>\n",
       "</div>"
      ],
      "text/plain": [
       "   MBA Grade\n",
       "0       90.2\n",
       "1       92.8\n",
       "2       68.7\n",
       "3       80.7\n",
       "4       74.9"
      ]
     },
     "execution_count": 106,
     "metadata": {},
     "output_type": "execute_result"
    }
   ],
   "source": [
    "Frequency_Distributions_df.head()"
   ]
  },
  {
   "cell_type": "code",
   "execution_count": 107,
   "id": "6691155b",
   "metadata": {},
   "outputs": [
    {
     "data": {
      "text/plain": [
       "0.016627067938365894"
      ]
     },
     "execution_count": 107,
     "metadata": {},
     "output_type": "execute_result"
    }
   ],
   "source": [
    "NormalDist(mu=Frequency_Distributions_df.mean()[0], sigma=Frequency_Distributions_df.std()[0]).pdf(70)"
   ]
  },
  {
   "cell_type": "code",
   "execution_count": 108,
   "id": "681ffa46",
   "metadata": {},
   "outputs": [
    {
     "data": {
      "text/plain": [
       "4.967586709822819"
      ]
     },
     "execution_count": 108,
     "metadata": {},
     "output_type": "execute_result"
    }
   ],
   "source": [
    "# Probability that a student will score at least a grade of 70 <70\n",
    "NormalDist(mu=Frequency_Distributions_df.mean()[0], sigma=Frequency_Distributions_df.std()[0]).cdf(70)*100"
   ]
  },
  {
   "cell_type": "code",
   "execution_count": 109,
   "id": "66ccb0ca",
   "metadata": {},
   "outputs": [
    {
     "data": {
      "text/plain": [
       "15.865525393145708"
      ]
     },
     "execution_count": 109,
     "metadata": {},
     "output_type": "execute_result"
    }
   ],
   "source": [
    "# What is the probability of a graduate getting a final grade 1 standard deviation away from the mean at the most?\n",
    "z_lower = stats.norm.cdf(-1)\n",
    "z_lower*100"
   ]
  },
  {
   "cell_type": "code",
   "execution_count": 110,
   "id": "4eb869b5",
   "metadata": {},
   "outputs": [
    {
     "data": {
      "text/plain": [
       "84.1344746068543"
      ]
     },
     "execution_count": 110,
     "metadata": {},
     "output_type": "execute_result"
    }
   ],
   "source": [
    "z_upper = stats.norm.cdf(1)\n",
    "z_upper*100"
   ]
  },
  {
   "cell_type": "code",
   "execution_count": 111,
   "id": "0ede8fc5",
   "metadata": {},
   "outputs": [
    {
     "data": {
      "text/plain": [
       "68.26894921370858"
      ]
     },
     "execution_count": 111,
     "metadata": {},
     "output_type": "execute_result"
    }
   ],
   "source": [
    "(z_upper-z_lower)*100"
   ]
  },
  {
   "cell_type": "code",
   "execution_count": 112,
   "id": "599abb13",
   "metadata": {},
   "outputs": [
    {
     "data": {
      "text/plain": [
       "5.557148533193246"
      ]
     },
     "execution_count": 112,
     "metadata": {},
     "output_type": "execute_result"
    }
   ],
   "source": [
    "# What is the probability of a graduate getting a final grade of 90 or higher? >90\n",
    "(1-NormalDist(mu=Frequency_Distributions_df.mean()[0], sigma=Frequency_Distributions_df.std()[0]).cdf(90))*100"
   ]
  },
  {
   "cell_type": "code",
   "execution_count": 178,
   "id": "d077a0ec",
   "metadata": {},
   "outputs": [
    {
     "data": {
      "text/plain": [
       "0.034852627336031755"
      ]
     },
     "execution_count": 178,
     "metadata": {},
     "output_type": "execute_result"
    }
   ],
   "source": [
    "# Examples\n",
    "NormalDist(mu=195.2, sigma=10.26).pdf(200)"
   ]
  },
  {
   "cell_type": "code",
   "execution_count": 179,
   "id": "5edcec16",
   "metadata": {},
   "outputs": [
    {
     "data": {
      "text/plain": [
       "0.37390951048328214"
      ]
     },
     "execution_count": 179,
     "metadata": {},
     "output_type": "execute_result"
    }
   ],
   "source": [
    "NormalDist(mu=195.2, sigma=10.26).cdf(200) - NormalDist(mu=195.2, sigma=10.26).cdf(190)"
   ]
  },
  {
   "cell_type": "code",
   "execution_count": 180,
   "id": "de9822be",
   "metadata": {},
   "outputs": [
    {
     "data": {
      "text/plain": [
       "0.31995084502443927"
      ]
     },
     "execution_count": 180,
     "metadata": {},
     "output_type": "execute_result"
    }
   ],
   "source": [
    "1 - NormalDist(mu=195.2, sigma=10.26).cdf(200)"
   ]
  },
  {
   "cell_type": "code",
   "execution_count": 218,
   "id": "598bb3ea",
   "metadata": {},
   "outputs": [
    {
     "data": {
      "text/plain": [
       "0.0003095293139565681"
      ]
     },
     "execution_count": 218,
     "metadata": {},
     "output_type": "execute_result"
    }
   ],
   "source": [
    "mean = Frequency_Distributions_df.mean().values[0]\n",
    "stdiv = Frequency_Distributions_df.std().values[0]\n",
    "mean, stdiv\n",
    "pdf = NormalDist(mu=mean, sigma=stdiv).pdf(60)\n",
    "pdf"
   ]
  },
  {
   "cell_type": "code",
   "execution_count": 206,
   "id": "8eb0abf9",
   "metadata": {},
   "outputs": [],
   "source": [
    "def PDF_CDF(df):\n",
    "    df_new = df.copy()\n",
    "    df_new.sort_values(by=df.columns[0], inplace=True)\n",
    "    df_new.reset_index(inplace=True)\n",
    "    df_new.drop('index', axis=1, inplace=True)\n",
    "    mean = df_new.mean().values[0]\n",
    "    stdiv = df_new.std().values[0]\n",
    "    pdf = []\n",
    "    cdf = []\n",
    "#     pdf = (1/(stdiv*np.sqrt(2*np.pi))) * np.exp((-0.5)*np.square((df_new-mean)/stdiv))\n",
    "    for value in df_new.values:\n",
    "        pdf.append(NormalDist(mu=mean, sigma=stdiv).pdf(value))\n",
    "        cdf.append(NormalDist(mu=mean, sigma=stdiv).cdf(value))\n",
    "    df_new.insert(1, 'PDF', pdf)\n",
    "    df_new.insert(2, 'CDF', cdf)\n",
    "    return df_new"
   ]
  },
  {
   "cell_type": "code",
   "execution_count": 213,
   "id": "8f6662f5",
   "metadata": {},
   "outputs": [
    {
     "name": "stdout",
     "output_type": "stream",
     "text": [
      "80.16947368421052\n"
     ]
    },
    {
     "data": {
      "text/html": [
       "<div>\n",
       "<style scoped>\n",
       "    .dataframe tbody tr th:only-of-type {\n",
       "        vertical-align: middle;\n",
       "    }\n",
       "\n",
       "    .dataframe tbody tr th {\n",
       "        vertical-align: top;\n",
       "    }\n",
       "\n",
       "    .dataframe thead th {\n",
       "        text-align: right;\n",
       "    }\n",
       "</style>\n",
       "<table border=\"1\" class=\"dataframe\">\n",
       "  <thead>\n",
       "    <tr style=\"text-align: right;\">\n",
       "      <th></th>\n",
       "      <th>MBA Grade</th>\n",
       "      <th>PDF</th>\n",
       "      <th>CDF</th>\n",
       "    </tr>\n",
       "  </thead>\n",
       "  <tbody>\n",
       "    <tr>\n",
       "      <th>0</th>\n",
       "      <td>62.6</td>\n",
       "      <td>0.001123</td>\n",
       "      <td>0.002205</td>\n",
       "    </tr>\n",
       "    <tr>\n",
       "      <th>1</th>\n",
       "      <td>66.9</td>\n",
       "      <td>0.006404</td>\n",
       "      <td>0.015763</td>\n",
       "    </tr>\n",
       "    <tr>\n",
       "      <th>2</th>\n",
       "      <td>68.7</td>\n",
       "      <td>0.011492</td>\n",
       "      <td>0.031537</td>\n",
       "    </tr>\n",
       "    <tr>\n",
       "      <th>3</th>\n",
       "      <td>69.9</td>\n",
       "      <td>0.016187</td>\n",
       "      <td>0.048035</td>\n",
       "    </tr>\n",
       "    <tr>\n",
       "      <th>4</th>\n",
       "      <td>70.5</td>\n",
       "      <td>0.018940</td>\n",
       "      <td>0.058560</td>\n",
       "    </tr>\n",
       "    <tr>\n",
       "      <th>...</th>\n",
       "      <td>...</td>\n",
       "      <td>...</td>\n",
       "      <td>...</td>\n",
       "    </tr>\n",
       "    <tr>\n",
       "      <th>90</th>\n",
       "      <td>89.9</td>\n",
       "      <td>0.018648</td>\n",
       "      <td>0.942587</td>\n",
       "    </tr>\n",
       "    <tr>\n",
       "      <th>91</th>\n",
       "      <td>90.2</td>\n",
       "      <td>0.017251</td>\n",
       "      <td>0.947971</td>\n",
       "    </tr>\n",
       "    <tr>\n",
       "      <th>92</th>\n",
       "      <td>92.7</td>\n",
       "      <td>0.008226</td>\n",
       "      <td>0.978853</td>\n",
       "    </tr>\n",
       "    <tr>\n",
       "      <th>93</th>\n",
       "      <td>92.8</td>\n",
       "      <td>0.007958</td>\n",
       "      <td>0.979663</td>\n",
       "    </tr>\n",
       "    <tr>\n",
       "      <th>94</th>\n",
       "      <td>96.1</td>\n",
       "      <td>0.002309</td>\n",
       "      <td>0.995083</td>\n",
       "    </tr>\n",
       "  </tbody>\n",
       "</table>\n",
       "<p>95 rows × 3 columns</p>\n",
       "</div>"
      ],
      "text/plain": [
       "    MBA Grade       PDF       CDF\n",
       "0        62.6  0.001123  0.002205\n",
       "1        66.9  0.006404  0.015763\n",
       "2        68.7  0.011492  0.031537\n",
       "3        69.9  0.016187  0.048035\n",
       "4        70.5  0.018940  0.058560\n",
       "..        ...       ...       ...\n",
       "90       89.9  0.018648  0.942587\n",
       "91       90.2  0.017251  0.947971\n",
       "92       92.7  0.008226  0.978853\n",
       "93       92.8  0.007958  0.979663\n",
       "94       96.1  0.002309  0.995083\n",
       "\n",
       "[95 rows x 3 columns]"
      ]
     },
     "execution_count": 213,
     "metadata": {},
     "output_type": "execute_result"
    }
   ],
   "source": [
    "pdf_df = PDF_CDF(Frequency_Distributions_df)\n",
    "pdf_df"
   ]
  },
  {
   "cell_type": "code",
   "execution_count": 219,
   "id": "830d11e4",
   "metadata": {},
   "outputs": [
    {
     "data": {
      "text/plain": [
       "<AxesSubplot:>"
      ]
     },
     "execution_count": 219,
     "metadata": {},
     "output_type": "execute_result"
    },
    {
     "data": {
      "image/png": "[encoded data removed]",
      "text/plain": [
       "<Figure size 432x288 with 1 Axes>"
      ]
     },
     "metadata": {
      "needs_background": "light"
     },
     "output_type": "display_data"
    }
   ],
   "source": [
    "pdf_df.PDF.plot()"
   ]
  },
  {
   "cell_type": "code",
   "execution_count": 221,
   "id": "13d13c5b",
   "metadata": {},
   "outputs": [
    {
     "data": {
      "text/plain": [
       "76.00734579576574"
      ]
     },
     "execution_count": 221,
     "metadata": {},
     "output_type": "execute_result"
    }
   ],
   "source": [
    "# Inverse Normal distribution\n",
    "mean = Frequency_Distributions_df.mean().values[0]\n",
    "stdiv = Frequency_Distributions_df.std().values[0]\n",
    "mean, stdiv\n",
    "NormalDist(mu=mean, sigma=stdiv).inv_cdf(0.25)"
   ]
  },
  {
   "cell_type": "code",
   "execution_count": 222,
   "id": "45256f89",
   "metadata": {},
   "outputs": [
    {
     "data": {
      "text/plain": [
       "84.33160157265529"
      ]
     },
     "execution_count": 222,
     "metadata": {},
     "output_type": "execute_result"
    }
   ],
   "source": [
    "NormalDist(mu=mean, sigma=stdiv).inv_cdf(0.75)"
   ]
  },
  {
   "cell_type": "code",
   "execution_count": 234,
   "id": "0470c50e",
   "metadata": {},
   "outputs": [
    {
     "data": {
      "text/plain": [
       "-0.8416212335729139"
      ]
     },
     "execution_count": 234,
     "metadata": {},
     "output_type": "execute_result"
    }
   ],
   "source": [
    "# How many standard deviations away from the average MBA grade are the bottom 20% of graduates?\n",
    "NormalDist(mu=mean, sigma=stdiv).zscore(NormalDist(mu=mean, sigma=stdiv).inv_cdf(0.20))"
   ]
  },
  {
   "cell_type": "code",
   "execution_count": 237,
   "id": "6ff8103d",
   "metadata": {},
   "outputs": [
    {
     "data": {
      "text/plain": [
       "88.0776465065293"
      ]
     },
     "execution_count": 237,
     "metadata": {},
     "output_type": "execute_result"
    }
   ],
   "source": [
    "# What grade do graduates need to score in the top 10% of the class?\n",
    "NormalDist(mu=mean, sigma=stdiv).inv_cdf(0.90)"
   ]
  },
  {
   "cell_type": "code",
   "execution_count": 238,
   "id": "55eb10bc",
   "metadata": {},
   "outputs": [
    {
     "data": {
      "text/plain": [
       "1.2815515655446001"
      ]
     },
     "execution_count": 238,
     "metadata": {},
     "output_type": "execute_result"
    }
   ],
   "source": [
    "NormalDist(mu=mean, sigma=stdiv).zscore(NormalDist(mu=mean, sigma=stdiv).inv_cdf(0.90))"
   ]
  },
  {
   "cell_type": "code",
   "execution_count": 259,
   "id": "a9d9e80f",
   "metadata": {},
   "outputs": [],
   "source": [
    "# CLT"
   ]
  },
  {
   "cell_type": "code",
   "execution_count": 260,
   "id": "373175da",
   "metadata": {},
   "outputs": [],
   "source": [
    "# Margin of error"
   ]
  },
  {
   "cell_type": "code",
   "execution_count": 292,
   "id": "5ae5eff2",
   "metadata": {},
   "outputs": [],
   "source": [
    "# What is the mean employability score we can expect from our future graduates, with 90% confidence?"
   ]
  },
  {
   "cell_type": "code",
   "execution_count": 261,
   "id": "20186669",
   "metadata": {},
   "outputs": [],
   "source": [
    "Margin_of_Error_df = pd.read_csv('Margin of Error.csv')"
   ]
  },
  {
   "cell_type": "code",
   "execution_count": 262,
   "id": "b655ad13",
   "metadata": {},
   "outputs": [
    {
     "data": {
      "text/html": [
       "<div>\n",
       "<style scoped>\n",
       "    .dataframe tbody tr th:only-of-type {\n",
       "        vertical-align: middle;\n",
       "    }\n",
       "\n",
       "    .dataframe tbody tr th {\n",
       "        vertical-align: top;\n",
       "    }\n",
       "\n",
       "    .dataframe thead th {\n",
       "        text-align: right;\n",
       "    }\n",
       "</style>\n",
       "<table border=\"1\" class=\"dataframe\">\n",
       "  <thead>\n",
       "    <tr style=\"text-align: right;\">\n",
       "      <th></th>\n",
       "      <th>Employability (After)</th>\n",
       "    </tr>\n",
       "  </thead>\n",
       "  <tbody>\n",
       "    <tr>\n",
       "      <th>0</th>\n",
       "      <td>276</td>\n",
       "    </tr>\n",
       "    <tr>\n",
       "      <th>1</th>\n",
       "      <td>410</td>\n",
       "    </tr>\n",
       "    <tr>\n",
       "      <th>2</th>\n",
       "      <td>119</td>\n",
       "    </tr>\n",
       "    <tr>\n",
       "      <th>3</th>\n",
       "      <td>334</td>\n",
       "    </tr>\n",
       "    <tr>\n",
       "      <th>4</th>\n",
       "      <td>252</td>\n",
       "    </tr>\n",
       "  </tbody>\n",
       "</table>\n",
       "</div>"
      ],
      "text/plain": [
       "   Employability (After)\n",
       "0                    276\n",
       "1                    410\n",
       "2                    119\n",
       "3                    334\n",
       "4                    252"
      ]
     },
     "execution_count": 262,
     "metadata": {},
     "output_type": "execute_result"
    }
   ],
   "source": [
    "Margin_of_Error_df.head()"
   ]
  },
  {
   "cell_type": "code",
   "execution_count": 264,
   "id": "b45d095b",
   "metadata": {},
   "outputs": [
    {
     "data": {
      "text/plain": [
       "95"
      ]
     },
     "execution_count": 264,
     "metadata": {},
     "output_type": "execute_result"
    }
   ],
   "source": [
    "samples = len(Margin_of_Error_df)\n",
    "samples"
   ]
  },
  {
   "cell_type": "code",
   "execution_count": 267,
   "id": "c9c0ea8a",
   "metadata": {},
   "outputs": [
    {
     "data": {
      "text/plain": [
       "289.34736842105264"
      ]
     },
     "execution_count": 267,
     "metadata": {},
     "output_type": "execute_result"
    }
   ],
   "source": [
    "mean = Margin_of_Error_df.mean().values[0]\n",
    "mean"
   ]
  },
  {
   "cell_type": "code",
   "execution_count": 275,
   "id": "51189cf4",
   "metadata": {},
   "outputs": [
    {
     "data": {
      "text/plain": [
       "93.52104876523815"
      ]
     },
     "execution_count": 275,
     "metadata": {},
     "output_type": "execute_result"
    }
   ],
   "source": [
    "std = Margin_of_Error_df.std().values[0]\n",
    "std"
   ]
  },
  {
   "cell_type": "code",
   "execution_count": 276,
   "id": "8563ba4a",
   "metadata": {},
   "outputs": [
    {
     "data": {
      "text/plain": [
       "90"
      ]
     },
     "execution_count": 276,
     "metadata": {},
     "output_type": "execute_result"
    }
   ],
   "source": [
    "population_std = 90\n",
    "population_std"
   ]
  },
  {
   "cell_type": "code",
   "execution_count": 286,
   "id": "869c50a1",
   "metadata": {},
   "outputs": [],
   "source": [
    "confidence_level = 0.9"
   ]
  },
  {
   "cell_type": "code",
   "execution_count": 287,
   "id": "58944efb",
   "metadata": {},
   "outputs": [
    {
     "data": {
      "text/plain": [
       "0.09999999999999998"
      ]
     },
     "execution_count": 287,
     "metadata": {},
     "output_type": "execute_result"
    }
   ],
   "source": [
    "alpha = 1-confidence_level\n",
    "alpha"
   ]
  },
  {
   "cell_type": "code",
   "execution_count": 288,
   "id": "f98c384d",
   "metadata": {},
   "outputs": [
    {
     "data": {
      "text/plain": [
       "1.6448536269514726"
      ]
     },
     "execution_count": 288,
     "metadata": {},
     "output_type": "execute_result"
    }
   ],
   "source": [
    "critical_value_z = np.abs(NormalDist(mu=mean, sigma=std).zscore(NormalDist(mu=mean, sigma=std).inv_cdf(alpha/2)))\n",
    "critical_value_z"
   ]
  },
  {
   "cell_type": "code",
   "execution_count": 289,
   "id": "c5b4f5b5",
   "metadata": {},
   "outputs": [
    {
     "data": {
      "text/plain": [
       "9.233805168766388"
      ]
     },
     "execution_count": 289,
     "metadata": {},
     "output_type": "execute_result"
    }
   ],
   "source": [
    "standard_error = population_std/(np.sqrt(samples))\n",
    "standard_error"
   ]
  },
  {
   "cell_type": "code",
   "execution_count": 290,
   "id": "edcd0672",
   "metadata": {},
   "outputs": [
    {
     "data": {
      "text/plain": [
       "[274.159110498644, 304.5356263434613]"
      ]
     },
     "execution_count": 290,
     "metadata": {},
     "output_type": "execute_result"
    }
   ],
   "source": [
    "confidence_interval = [mean - (critical_value_z*standard_error), mean + (critical_value_z*standard_error)]\n",
    "confidence_interval"
   ]
  },
  {
   "cell_type": "code",
   "execution_count": 291,
   "id": "5c25abbb",
   "metadata": {},
   "outputs": [
    {
     "data": {
      "text/plain": [
       "15.188257922408647"
      ]
     },
     "execution_count": 291,
     "metadata": {},
     "output_type": "execute_result"
    }
   ],
   "source": [
    "margin_of_error = standard_error*critical_value_z\n",
    "margin_of_error"
   ]
  },
  {
   "cell_type": "code",
   "execution_count": 293,
   "id": "dea33405",
   "metadata": {},
   "outputs": [],
   "source": [
    "# What is the mean annual salary we can expect from our future graduates?"
   ]
  },
  {
   "cell_type": "code",
   "execution_count": 313,
   "id": "e8ce4ab5",
   "metadata": {},
   "outputs": [],
   "source": [
    "Confidence_Intervals_df = pd.read_csv('Confidence Intervals (z).csv')"
   ]
  },
  {
   "cell_type": "code",
   "execution_count": 314,
   "id": "9ee4d8c3",
   "metadata": {},
   "outputs": [
    {
     "data": {
      "text/html": [
       "<div>\n",
       "<style scoped>\n",
       "    .dataframe tbody tr th:only-of-type {\n",
       "        vertical-align: middle;\n",
       "    }\n",
       "\n",
       "    .dataframe tbody tr th {\n",
       "        vertical-align: top;\n",
       "    }\n",
       "\n",
       "    .dataframe thead th {\n",
       "        text-align: right;\n",
       "    }\n",
       "</style>\n",
       "<table border=\"1\" class=\"dataframe\">\n",
       "  <thead>\n",
       "    <tr style=\"text-align: right;\">\n",
       "      <th></th>\n",
       "      <th>Annual Salary</th>\n",
       "    </tr>\n",
       "  </thead>\n",
       "  <tbody>\n",
       "    <tr>\n",
       "      <th>0</th>\n",
       "      <td>$111,000</td>\n",
       "    </tr>\n",
       "    <tr>\n",
       "      <th>1</th>\n",
       "      <td>$107,000</td>\n",
       "    </tr>\n",
       "    <tr>\n",
       "      <th>2</th>\n",
       "      <td>$109,000</td>\n",
       "    </tr>\n",
       "    <tr>\n",
       "      <th>3</th>\n",
       "      <td>$148,000</td>\n",
       "    </tr>\n",
       "    <tr>\n",
       "      <th>4</th>\n",
       "      <td>$255,500</td>\n",
       "    </tr>\n",
       "  </tbody>\n",
       "</table>\n",
       "</div>"
      ],
      "text/plain": [
       "  Annual Salary\n",
       "0     $111,000 \n",
       "1     $107,000 \n",
       "2     $109,000 \n",
       "3     $148,000 \n",
       "4     $255,500 "
      ]
     },
     "execution_count": 314,
     "metadata": {},
     "output_type": "execute_result"
    }
   ],
   "source": [
    "Confidence_Intervals_df.head()"
   ]
  },
  {
   "cell_type": "code",
   "execution_count": 315,
   "id": "71a004da",
   "metadata": {},
   "outputs": [],
   "source": [
    "Confidence_Intervals_df['Annual Salary'] = Confidence_Intervals_df['Annual Salary'].astype(str).str.replace('$', '', regex=False)\n",
    "Confidence_Intervals_df['Annual Salary'] = Confidence_Intervals_df['Annual Salary'].astype(str).str.replace(',', '', regex=False)\n",
    "Confidence_Intervals_df['Annual Salary'] = pd.to_numeric(Confidence_Intervals_df['Annual Salary'])"
   ]
  },
  {
   "cell_type": "code",
   "execution_count": 316,
   "id": "a88a27c7",
   "metadata": {},
   "outputs": [
    {
     "data": {
      "text/html": [
       "<div>\n",
       "<style scoped>\n",
       "    .dataframe tbody tr th:only-of-type {\n",
       "        vertical-align: middle;\n",
       "    }\n",
       "\n",
       "    .dataframe tbody tr th {\n",
       "        vertical-align: top;\n",
       "    }\n",
       "\n",
       "    .dataframe thead th {\n",
       "        text-align: right;\n",
       "    }\n",
       "</style>\n",
       "<table border=\"1\" class=\"dataframe\">\n",
       "  <thead>\n",
       "    <tr style=\"text-align: right;\">\n",
       "      <th></th>\n",
       "      <th>Annual Salary</th>\n",
       "    </tr>\n",
       "  </thead>\n",
       "  <tbody>\n",
       "    <tr>\n",
       "      <th>0</th>\n",
       "      <td>111000</td>\n",
       "    </tr>\n",
       "    <tr>\n",
       "      <th>1</th>\n",
       "      <td>107000</td>\n",
       "    </tr>\n",
       "    <tr>\n",
       "      <th>2</th>\n",
       "      <td>109000</td>\n",
       "    </tr>\n",
       "    <tr>\n",
       "      <th>3</th>\n",
       "      <td>148000</td>\n",
       "    </tr>\n",
       "    <tr>\n",
       "      <th>4</th>\n",
       "      <td>255500</td>\n",
       "    </tr>\n",
       "  </tbody>\n",
       "</table>\n",
       "</div>"
      ],
      "text/plain": [
       "   Annual Salary\n",
       "0         111000\n",
       "1         107000\n",
       "2         109000\n",
       "3         148000\n",
       "4         255500"
      ]
     },
     "execution_count": 316,
     "metadata": {},
     "output_type": "execute_result"
    }
   ],
   "source": [
    "Confidence_Intervals_df.head()"
   ]
  },
  {
   "cell_type": "code",
   "execution_count": 317,
   "id": "e3b39a3e",
   "metadata": {},
   "outputs": [
    {
     "data": {
      "text/plain": [
       "53"
      ]
     },
     "execution_count": 317,
     "metadata": {},
     "output_type": "execute_result"
    }
   ],
   "source": [
    "sample_size = len(Confidence_Intervals_df)\n",
    "sample_size"
   ]
  },
  {
   "cell_type": "code",
   "execution_count": 318,
   "id": "7ae996ed",
   "metadata": {},
   "outputs": [
    {
     "data": {
      "text/plain": [
       "119386.7924528302"
      ]
     },
     "execution_count": 318,
     "metadata": {},
     "output_type": "execute_result"
    }
   ],
   "source": [
    "sample_mean = Confidence_Intervals_df.mean().values[0]\n",
    "sample_mean"
   ]
  },
  {
   "cell_type": "code",
   "execution_count": 319,
   "id": "e3ba6ccb",
   "metadata": {},
   "outputs": [
    {
     "data": {
      "text/plain": [
       "45546.95817647072"
      ]
     },
     "execution_count": 319,
     "metadata": {},
     "output_type": "execute_result"
    }
   ],
   "source": [
    "sample_std = Confidence_Intervals_df.std().values[0]\n",
    "sample_std"
   ]
  },
  {
   "cell_type": "code",
   "execution_count": 320,
   "id": "9df9fed8",
   "metadata": {},
   "outputs": [
    {
     "data": {
      "text/plain": [
       "101000"
      ]
     },
     "execution_count": 320,
     "metadata": {},
     "output_type": "execute_result"
    }
   ],
   "source": [
    "population_mean = 101000\n",
    "population_mean"
   ]
  },
  {
   "cell_type": "code",
   "execution_count": 321,
   "id": "2868828f",
   "metadata": {},
   "outputs": [
    {
     "data": {
      "text/plain": [
       "76000"
      ]
     },
     "execution_count": 321,
     "metadata": {},
     "output_type": "execute_result"
    }
   ],
   "source": [
    "population_std = 76000\n",
    "population_std"
   ]
  },
  {
   "cell_type": "code",
   "execution_count": 322,
   "id": "1c1f7ba3",
   "metadata": {},
   "outputs": [
    {
     "data": {
      "text/plain": [
       "0.95"
      ]
     },
     "execution_count": 322,
     "metadata": {},
     "output_type": "execute_result"
    }
   ],
   "source": [
    "confidence_level = 0.95\n",
    "confidence_level"
   ]
  },
  {
   "cell_type": "code",
   "execution_count": 323,
   "id": "92157c6a",
   "metadata": {},
   "outputs": [
    {
     "data": {
      "text/plain": [
       "0.050000000000000044"
      ]
     },
     "execution_count": 323,
     "metadata": {},
     "output_type": "execute_result"
    }
   ],
   "source": [
    "alpha = 1-confidence_level\n",
    "alpha"
   ]
  },
  {
   "cell_type": "code",
   "execution_count": 329,
   "id": "16bf3bce",
   "metadata": {},
   "outputs": [
    {
     "data": {
      "text/plain": [
       "1.9599639845400536"
      ]
     },
     "execution_count": 329,
     "metadata": {},
     "output_type": "execute_result"
    }
   ],
   "source": [
    "critical_value_z = np.abs(NormalDist(mu=population_mean, sigma=population_std).zscore(NormalDist(mu=population_mean, sigma=population_std).inv_cdf(alpha/2)))\n",
    "critical_value_z"
   ]
  },
  {
   "cell_type": "code",
   "execution_count": 330,
   "id": "580fb4cb",
   "metadata": {},
   "outputs": [
    {
     "data": {
      "text/plain": [
       "10439.402860100367"
      ]
     },
     "execution_count": 330,
     "metadata": {},
     "output_type": "execute_result"
    }
   ],
   "source": [
    "standard_error = population_std/(np.sqrt(sample_size))\n",
    "standard_error"
   ]
  },
  {
   "cell_type": "code",
   "execution_count": 331,
   "id": "2a017bba",
   "metadata": {},
   "outputs": [
    {
     "data": {
      "text/plain": [
       "20460.853625901145"
      ]
     },
     "execution_count": 331,
     "metadata": {},
     "output_type": "execute_result"
    }
   ],
   "source": [
    "margin_of_error = standard_error*critical_value_z\n",
    "margin_of_error"
   ]
  },
  {
   "cell_type": "code",
   "execution_count": 332,
   "id": "29460b7d",
   "metadata": {},
   "outputs": [
    {
     "data": {
      "text/plain": [
       "[80539.14637409885, 121460.85362590115]"
      ]
     },
     "execution_count": 332,
     "metadata": {},
     "output_type": "execute_result"
    }
   ],
   "source": [
    "confidence_interval = [population_mean - (critical_value_z*standard_error), population_mean + (critical_value_z*standard_error)]\n",
    "confidence_interval"
   ]
  },
  {
   "cell_type": "code",
   "execution_count": 333,
   "id": "dcceed7b",
   "metadata": {},
   "outputs": [],
   "source": [
    "# T Distribution where population std is unknown"
   ]
  },
  {
   "cell_type": "code",
   "execution_count": 334,
   "id": "7a8701c0",
   "metadata": {},
   "outputs": [],
   "source": [
    "# What is the mean employability score we can expect from our future graduates, with 90% confidence?"
   ]
  },
  {
   "cell_type": "code",
   "execution_count": 470,
   "id": "3d97c604",
   "metadata": {},
   "outputs": [],
   "source": [
    "Margin_of_Error_df = pd.read_csv('Margin of Error.csv')"
   ]
  },
  {
   "cell_type": "code",
   "execution_count": 471,
   "id": "5682fc5d",
   "metadata": {},
   "outputs": [
    {
     "data": {
      "text/html": [
       "<div>\n",
       "<style scoped>\n",
       "    .dataframe tbody tr th:only-of-type {\n",
       "        vertical-align: middle;\n",
       "    }\n",
       "\n",
       "    .dataframe tbody tr th {\n",
       "        vertical-align: top;\n",
       "    }\n",
       "\n",
       "    .dataframe thead th {\n",
       "        text-align: right;\n",
       "    }\n",
       "</style>\n",
       "<table border=\"1\" class=\"dataframe\">\n",
       "  <thead>\n",
       "    <tr style=\"text-align: right;\">\n",
       "      <th></th>\n",
       "      <th>Employability (After)</th>\n",
       "    </tr>\n",
       "  </thead>\n",
       "  <tbody>\n",
       "    <tr>\n",
       "      <th>0</th>\n",
       "      <td>276</td>\n",
       "    </tr>\n",
       "    <tr>\n",
       "      <th>1</th>\n",
       "      <td>410</td>\n",
       "    </tr>\n",
       "    <tr>\n",
       "      <th>2</th>\n",
       "      <td>119</td>\n",
       "    </tr>\n",
       "    <tr>\n",
       "      <th>3</th>\n",
       "      <td>334</td>\n",
       "    </tr>\n",
       "    <tr>\n",
       "      <th>4</th>\n",
       "      <td>252</td>\n",
       "    </tr>\n",
       "  </tbody>\n",
       "</table>\n",
       "</div>"
      ],
      "text/plain": [
       "   Employability (After)\n",
       "0                    276\n",
       "1                    410\n",
       "2                    119\n",
       "3                    334\n",
       "4                    252"
      ]
     },
     "execution_count": 471,
     "metadata": {},
     "output_type": "execute_result"
    }
   ],
   "source": [
    "Margin_of_Error_df.head()"
   ]
  },
  {
   "cell_type": "code",
   "execution_count": 472,
   "id": "16b28b5a",
   "metadata": {},
   "outputs": [
    {
     "data": {
      "text/plain": [
       "95"
      ]
     },
     "execution_count": 472,
     "metadata": {},
     "output_type": "execute_result"
    }
   ],
   "source": [
    "sample_size = len(Margin_of_Error_df)\n",
    "sample_size"
   ]
  },
  {
   "cell_type": "code",
   "execution_count": 473,
   "id": "d63392b0",
   "metadata": {},
   "outputs": [
    {
     "data": {
      "text/plain": [
       "289.34736842105264"
      ]
     },
     "execution_count": 473,
     "metadata": {},
     "output_type": "execute_result"
    }
   ],
   "source": [
    "sample_mean = Margin_of_Error_df.mean().values[0]\n",
    "sample_mean"
   ]
  },
  {
   "cell_type": "code",
   "execution_count": 474,
   "id": "5d1f9ff8",
   "metadata": {},
   "outputs": [
    {
     "data": {
      "text/plain": [
       "93.52104876523815"
      ]
     },
     "execution_count": 474,
     "metadata": {},
     "output_type": "execute_result"
    }
   ],
   "source": [
    "sample_std = Margin_of_Error_df.std().values[0]\n",
    "sample_std"
   ]
  },
  {
   "cell_type": "code",
   "execution_count": 475,
   "id": "a224e24b",
   "metadata": {},
   "outputs": [],
   "source": [
    "confidence_level = 0.9"
   ]
  },
  {
   "cell_type": "code",
   "execution_count": 476,
   "id": "83ba8da2",
   "metadata": {},
   "outputs": [
    {
     "data": {
      "text/plain": [
       "0.09999999999999998"
      ]
     },
     "execution_count": 476,
     "metadata": {},
     "output_type": "execute_result"
    }
   ],
   "source": [
    "alpha = 1-confidence_level\n",
    "alpha"
   ]
  },
  {
   "cell_type": "code",
   "execution_count": 477,
   "id": "12be9ba3",
   "metadata": {},
   "outputs": [
    {
     "data": {
      "text/plain": [
       "1.6612258552697992"
      ]
     },
     "execution_count": 477,
     "metadata": {},
     "output_type": "execute_result"
    }
   ],
   "source": [
    "critical_value_t = np.absolute(stats.t.ppf(q=alpha/2,df=sample_size-1))\n",
    "critical_value_t"
   ]
  },
  {
   "cell_type": "code",
   "execution_count": 478,
   "id": "3cbd0567",
   "metadata": {},
   "outputs": [
    {
     "data": {
      "text/plain": [
       "9.595057149743438"
      ]
     },
     "execution_count": 478,
     "metadata": {},
     "output_type": "execute_result"
    }
   ],
   "source": [
    "standard_error = sample_std/(np.sqrt(sample_size))\n",
    "standard_error"
   ]
  },
  {
   "cell_type": "code",
   "execution_count": 479,
   "id": "ea2bbac5",
   "metadata": {},
   "outputs": [
    {
     "data": {
      "text/plain": [
       "15.939557019945143"
      ]
     },
     "execution_count": 479,
     "metadata": {},
     "output_type": "execute_result"
    }
   ],
   "source": [
    "margin_of_error = standard_error*critical_value_t\n",
    "margin_of_error"
   ]
  },
  {
   "cell_type": "code",
   "execution_count": 480,
   "id": "7c26b0aa",
   "metadata": {},
   "outputs": [
    {
     "data": {
      "text/plain": [
       "[273.4078114011075, 305.2869254409978]"
      ]
     },
     "execution_count": 480,
     "metadata": {},
     "output_type": "execute_result"
    }
   ],
   "source": [
    "confidence_interval = [sample_mean - (critical_value_t*standard_error), sample_mean + (critical_value_t*standard_error)]\n",
    "confidence_interval"
   ]
  },
  {
   "cell_type": "code",
   "execution_count": 481,
   "id": "07268d34",
   "metadata": {},
   "outputs": [],
   "source": [
    "# What is the mean annual salary we can expect from our future graduates?"
   ]
  },
  {
   "cell_type": "code",
   "execution_count": 482,
   "id": "061f3dbc",
   "metadata": {},
   "outputs": [],
   "source": [
    "Confidence_Intervals_df = pd.read_csv('Confidence Intervals (z).csv')"
   ]
  },
  {
   "cell_type": "code",
   "execution_count": 483,
   "id": "aa2ed100",
   "metadata": {},
   "outputs": [
    {
     "data": {
      "text/html": [
       "<div>\n",
       "<style scoped>\n",
       "    .dataframe tbody tr th:only-of-type {\n",
       "        vertical-align: middle;\n",
       "    }\n",
       "\n",
       "    .dataframe tbody tr th {\n",
       "        vertical-align: top;\n",
       "    }\n",
       "\n",
       "    .dataframe thead th {\n",
       "        text-align: right;\n",
       "    }\n",
       "</style>\n",
       "<table border=\"1\" class=\"dataframe\">\n",
       "  <thead>\n",
       "    <tr style=\"text-align: right;\">\n",
       "      <th></th>\n",
       "      <th>Annual Salary</th>\n",
       "    </tr>\n",
       "  </thead>\n",
       "  <tbody>\n",
       "    <tr>\n",
       "      <th>0</th>\n",
       "      <td>$111,000</td>\n",
       "    </tr>\n",
       "    <tr>\n",
       "      <th>1</th>\n",
       "      <td>$107,000</td>\n",
       "    </tr>\n",
       "    <tr>\n",
       "      <th>2</th>\n",
       "      <td>$109,000</td>\n",
       "    </tr>\n",
       "    <tr>\n",
       "      <th>3</th>\n",
       "      <td>$148,000</td>\n",
       "    </tr>\n",
       "    <tr>\n",
       "      <th>4</th>\n",
       "      <td>$255,500</td>\n",
       "    </tr>\n",
       "  </tbody>\n",
       "</table>\n",
       "</div>"
      ],
      "text/plain": [
       "  Annual Salary\n",
       "0     $111,000 \n",
       "1     $107,000 \n",
       "2     $109,000 \n",
       "3     $148,000 \n",
       "4     $255,500 "
      ]
     },
     "execution_count": 483,
     "metadata": {},
     "output_type": "execute_result"
    }
   ],
   "source": [
    "Confidence_Intervals_df.head()"
   ]
  },
  {
   "cell_type": "code",
   "execution_count": 484,
   "id": "74607037",
   "metadata": {},
   "outputs": [],
   "source": [
    "Confidence_Intervals_df['Annual Salary'] = Confidence_Intervals_df['Annual Salary'].astype(str).str.replace('$', '', regex=False)\n",
    "Confidence_Intervals_df['Annual Salary'] = Confidence_Intervals_df['Annual Salary'].astype(str).str.replace(',', '', regex=False)\n",
    "Confidence_Intervals_df['Annual Salary'] = pd.to_numeric(Confidence_Intervals_df['Annual Salary'])"
   ]
  },
  {
   "cell_type": "code",
   "execution_count": 485,
   "id": "f22c5d9a",
   "metadata": {},
   "outputs": [
    {
     "data": {
      "text/html": [
       "<div>\n",
       "<style scoped>\n",
       "    .dataframe tbody tr th:only-of-type {\n",
       "        vertical-align: middle;\n",
       "    }\n",
       "\n",
       "    .dataframe tbody tr th {\n",
       "        vertical-align: top;\n",
       "    }\n",
       "\n",
       "    .dataframe thead th {\n",
       "        text-align: right;\n",
       "    }\n",
       "</style>\n",
       "<table border=\"1\" class=\"dataframe\">\n",
       "  <thead>\n",
       "    <tr style=\"text-align: right;\">\n",
       "      <th></th>\n",
       "      <th>Annual Salary</th>\n",
       "    </tr>\n",
       "  </thead>\n",
       "  <tbody>\n",
       "    <tr>\n",
       "      <th>0</th>\n",
       "      <td>111000</td>\n",
       "    </tr>\n",
       "    <tr>\n",
       "      <th>1</th>\n",
       "      <td>107000</td>\n",
       "    </tr>\n",
       "    <tr>\n",
       "      <th>2</th>\n",
       "      <td>109000</td>\n",
       "    </tr>\n",
       "    <tr>\n",
       "      <th>3</th>\n",
       "      <td>148000</td>\n",
       "    </tr>\n",
       "    <tr>\n",
       "      <th>4</th>\n",
       "      <td>255500</td>\n",
       "    </tr>\n",
       "  </tbody>\n",
       "</table>\n",
       "</div>"
      ],
      "text/plain": [
       "   Annual Salary\n",
       "0         111000\n",
       "1         107000\n",
       "2         109000\n",
       "3         148000\n",
       "4         255500"
      ]
     },
     "execution_count": 485,
     "metadata": {},
     "output_type": "execute_result"
    }
   ],
   "source": [
    "Confidence_Intervals_df.head()"
   ]
  },
  {
   "cell_type": "code",
   "execution_count": 486,
   "id": "f384c955",
   "metadata": {},
   "outputs": [
    {
     "data": {
      "text/plain": [
       "53"
      ]
     },
     "execution_count": 486,
     "metadata": {},
     "output_type": "execute_result"
    }
   ],
   "source": [
    "sample_size = len(Confidence_Intervals_df)\n",
    "sample_size"
   ]
  },
  {
   "cell_type": "code",
   "execution_count": 487,
   "id": "5504480a",
   "metadata": {},
   "outputs": [
    {
     "data": {
      "text/plain": [
       "119386.7924528302"
      ]
     },
     "execution_count": 487,
     "metadata": {},
     "output_type": "execute_result"
    }
   ],
   "source": [
    "sample_mean = Confidence_Intervals_df.mean().values[0]\n",
    "sample_mean"
   ]
  },
  {
   "cell_type": "code",
   "execution_count": 488,
   "id": "ec7dd1c5",
   "metadata": {},
   "outputs": [
    {
     "data": {
      "text/plain": [
       "45546.95817647072"
      ]
     },
     "execution_count": 488,
     "metadata": {},
     "output_type": "execute_result"
    }
   ],
   "source": [
    "sample_std = Confidence_Intervals_df.std().values[0]\n",
    "sample_std"
   ]
  },
  {
   "cell_type": "code",
   "execution_count": 489,
   "id": "0f2cbf4b",
   "metadata": {},
   "outputs": [],
   "source": [
    "confidence_level = 0.8"
   ]
  },
  {
   "cell_type": "code",
   "execution_count": 490,
   "id": "9a859964",
   "metadata": {},
   "outputs": [
    {
     "data": {
      "text/plain": [
       "0.19999999999999996"
      ]
     },
     "execution_count": 490,
     "metadata": {},
     "output_type": "execute_result"
    }
   ],
   "source": [
    "alpha = 1-confidence_level\n",
    "alpha"
   ]
  },
  {
   "cell_type": "code",
   "execution_count": 491,
   "id": "083b8888",
   "metadata": {},
   "outputs": [
    {
     "data": {
      "text/plain": [
       "1.2980450160327173"
      ]
     },
     "execution_count": 491,
     "metadata": {},
     "output_type": "execute_result"
    }
   ],
   "source": [
    "critical_value_t = stats.t.isf(alpha/2, df=sample_size-1)\n",
    "critical_value_t"
   ]
  },
  {
   "cell_type": "code",
   "execution_count": 492,
   "id": "6355f7cf",
   "metadata": {},
   "outputs": [
    {
     "data": {
      "text/plain": [
       "6256.3558612673705"
      ]
     },
     "execution_count": 492,
     "metadata": {},
     "output_type": "execute_result"
    }
   ],
   "source": [
    "standard_error = sample_std/(np.sqrt(sample_size))\n",
    "standard_error"
   ]
  },
  {
   "cell_type": "code",
   "execution_count": 493,
   "id": "871c5e6f",
   "metadata": {},
   "outputs": [
    {
     "data": {
      "text/plain": [
       "8121.031544245188"
      ]
     },
     "execution_count": 493,
     "metadata": {},
     "output_type": "execute_result"
    }
   ],
   "source": [
    "margin_of_error = standard_error*critical_value_t\n",
    "margin_of_error"
   ]
  },
  {
   "cell_type": "code",
   "execution_count": 494,
   "id": "a6d9433c",
   "metadata": {},
   "outputs": [
    {
     "data": {
      "text/plain": [
       "[111265.76090858501, 127507.82399707538]"
      ]
     },
     "execution_count": 494,
     "metadata": {},
     "output_type": "execute_result"
    }
   ],
   "source": [
    "confidence_interval = [sample_mean - (critical_value_t*standard_error), sample_mean + (critical_value_t*standard_error)]\n",
    "confidence_interval"
   ]
  },
  {
   "cell_type": "code",
   "execution_count": 495,
   "id": "06741812",
   "metadata": {},
   "outputs": [],
   "source": [
    "# Using Proportions"
   ]
  },
  {
   "cell_type": "code",
   "execution_count": 496,
   "id": "ec4df20b",
   "metadata": {},
   "outputs": [],
   "source": [
    "Proportions_df = pd.read_csv('Proportions.csv')"
   ]
  },
  {
   "cell_type": "code",
   "execution_count": 497,
   "id": "bfb4b328",
   "metadata": {},
   "outputs": [
    {
     "data": {
      "text/html": [
       "<div>\n",
       "<style scoped>\n",
       "    .dataframe tbody tr th:only-of-type {\n",
       "        vertical-align: middle;\n",
       "    }\n",
       "\n",
       "    .dataframe tbody tr th {\n",
       "        vertical-align: top;\n",
       "    }\n",
       "\n",
       "    .dataframe thead th {\n",
       "        text-align: right;\n",
       "    }\n",
       "</style>\n",
       "<table border=\"1\" class=\"dataframe\">\n",
       "  <thead>\n",
       "    <tr style=\"text-align: right;\">\n",
       "      <th></th>\n",
       "      <th>Work Experience</th>\n",
       "    </tr>\n",
       "  </thead>\n",
       "  <tbody>\n",
       "    <tr>\n",
       "      <th>0</th>\n",
       "      <td>No</td>\n",
       "    </tr>\n",
       "    <tr>\n",
       "      <th>1</th>\n",
       "      <td>No</td>\n",
       "    </tr>\n",
       "    <tr>\n",
       "      <th>2</th>\n",
       "      <td>Yes</td>\n",
       "    </tr>\n",
       "    <tr>\n",
       "      <th>3</th>\n",
       "      <td>No</td>\n",
       "    </tr>\n",
       "    <tr>\n",
       "      <th>4</th>\n",
       "      <td>No</td>\n",
       "    </tr>\n",
       "  </tbody>\n",
       "</table>\n",
       "</div>"
      ],
      "text/plain": [
       "  Work Experience\n",
       "0              No\n",
       "1              No\n",
       "2             Yes\n",
       "3              No\n",
       "4              No"
      ]
     },
     "execution_count": 497,
     "metadata": {},
     "output_type": "execute_result"
    }
   ],
   "source": [
    "Proportions_df.head()"
   ]
  },
  {
   "cell_type": "code",
   "execution_count": 498,
   "id": "2e00c2f9",
   "metadata": {},
   "outputs": [
    {
     "data": {
      "text/plain": [
       "95"
      ]
     },
     "execution_count": 498,
     "metadata": {},
     "output_type": "execute_result"
    }
   ],
   "source": [
    "sample_size = len(Proportions_df)\n",
    "sample_size"
   ]
  },
  {
   "cell_type": "code",
   "execution_count": 499,
   "id": "42e2b589",
   "metadata": {},
   "outputs": [
    {
     "data": {
      "text/plain": [
       "Work Experience\n",
       "No                 72\n",
       "Yes                23\n",
       "dtype: int64"
      ]
     },
     "execution_count": 499,
     "metadata": {},
     "output_type": "execute_result"
    }
   ],
   "source": [
    "Proportions_df.value_counts()"
   ]
  },
  {
   "cell_type": "code",
   "execution_count": 500,
   "id": "bfd86d06",
   "metadata": {},
   "outputs": [
    {
     "data": {
      "text/plain": [
       "0.24210526315789474"
      ]
     },
     "execution_count": 500,
     "metadata": {},
     "output_type": "execute_result"
    }
   ],
   "source": [
    "p = Proportions_df.value_counts().values[1]/sample_size\n",
    "p"
   ]
  },
  {
   "cell_type": "code",
   "execution_count": 501,
   "id": "216c37e6",
   "metadata": {},
   "outputs": [
    {
     "data": {
      "text/plain": [
       "0.7578947368421053"
      ]
     },
     "execution_count": 501,
     "metadata": {},
     "output_type": "execute_result"
    }
   ],
   "source": [
    "p_1 = 1-p\n",
    "p_1"
   ]
  },
  {
   "cell_type": "code",
   "execution_count": 502,
   "id": "83d03c6d",
   "metadata": {},
   "outputs": [
    {
     "name": "stdout",
     "output_type": "stream",
     "text": [
      "True\n",
      "True\n"
     ]
    }
   ],
   "source": [
    "# CLT TESTS\n",
    "print(p*sample_size>5)\n",
    "print(p_1*sample_size>5)"
   ]
  },
  {
   "cell_type": "code",
   "execution_count": 503,
   "id": "2c23140b",
   "metadata": {},
   "outputs": [],
   "source": [
    "confidence_level = 0.9"
   ]
  },
  {
   "cell_type": "code",
   "execution_count": 504,
   "id": "60315674",
   "metadata": {},
   "outputs": [
    {
     "data": {
      "text/plain": [
       "0.09999999999999998"
      ]
     },
     "execution_count": 504,
     "metadata": {},
     "output_type": "execute_result"
    }
   ],
   "source": [
    "alpha = 1-confidence_level\n",
    "alpha"
   ]
  },
  {
   "cell_type": "code",
   "execution_count": 505,
   "id": "c31c9710",
   "metadata": {},
   "outputs": [
    {
     "data": {
      "text/plain": [
       "1.6448536269514729"
      ]
     },
     "execution_count": 505,
     "metadata": {},
     "output_type": "execute_result"
    }
   ],
   "source": [
    "critical_value_z = np.abs(stats.norm.ppf(alpha/2))\n",
    "critical_value_z"
   ]
  },
  {
   "cell_type": "code",
   "execution_count": 506,
   "id": "209b89a8",
   "metadata": {},
   "outputs": [
    {
     "data": {
      "text/plain": [
       "4.394857098558691"
      ]
     },
     "execution_count": 506,
     "metadata": {},
     "output_type": "execute_result"
    }
   ],
   "source": [
    "standard_error = np.sqrt((p*p_1)/sample_size)*100\n",
    "standard_error"
   ]
  },
  {
   "cell_type": "code",
   "execution_count": 507,
   "id": "b7c9c935",
   "metadata": {},
   "outputs": [
    {
     "data": {
      "text/plain": [
       "7.228896638497689"
      ]
     },
     "execution_count": 507,
     "metadata": {},
     "output_type": "execute_result"
    }
   ],
   "source": [
    "margin_of_error = standard_error*critical_value_z\n",
    "margin_of_error"
   ]
  },
  {
   "cell_type": "code",
   "execution_count": 508,
   "id": "e8b24c6f",
   "metadata": {},
   "outputs": [
    {
     "data": {
      "text/plain": [
       "[16.981629677291785, 31.43942295428716]"
      ]
     },
     "execution_count": 508,
     "metadata": {},
     "output_type": "execute_result"
    }
   ],
   "source": [
    "confidence_interval = [p*100 - margin_of_error, p*100 + margin_of_error]\n",
    "confidence_interval"
   ]
  },
  {
   "cell_type": "code",
   "execution_count": 509,
   "id": "9ae062e8",
   "metadata": {},
   "outputs": [],
   "source": [
    "# What percentage of graduates can we expect to land a job by 2 months of graduating?"
   ]
  },
  {
   "cell_type": "code",
   "execution_count": 510,
   "id": "2b146857",
   "metadata": {},
   "outputs": [],
   "source": [
    "Confidence_Intervals_p_df = pd.read_csv('Confidence Intervals (p).csv')"
   ]
  },
  {
   "cell_type": "code",
   "execution_count": 511,
   "id": "16addbfd",
   "metadata": {},
   "outputs": [
    {
     "data": {
      "text/html": [
       "<div>\n",
       "<style scoped>\n",
       "    .dataframe tbody tr th:only-of-type {\n",
       "        vertical-align: middle;\n",
       "    }\n",
       "\n",
       "    .dataframe tbody tr th {\n",
       "        vertical-align: top;\n",
       "    }\n",
       "\n",
       "    .dataframe thead th {\n",
       "        text-align: right;\n",
       "    }\n",
       "</style>\n",
       "<table border=\"1\" class=\"dataframe\">\n",
       "  <thead>\n",
       "    <tr style=\"text-align: right;\">\n",
       "      <th></th>\n",
       "      <th>Status</th>\n",
       "    </tr>\n",
       "  </thead>\n",
       "  <tbody>\n",
       "    <tr>\n",
       "      <th>0</th>\n",
       "      <td>Placed</td>\n",
       "    </tr>\n",
       "    <tr>\n",
       "      <th>1</th>\n",
       "      <td>Not Placed</td>\n",
       "    </tr>\n",
       "    <tr>\n",
       "      <th>2</th>\n",
       "      <td>Placed</td>\n",
       "    </tr>\n",
       "    <tr>\n",
       "      <th>3</th>\n",
       "      <td>Not Placed</td>\n",
       "    </tr>\n",
       "    <tr>\n",
       "      <th>4</th>\n",
       "      <td>Not Placed</td>\n",
       "    </tr>\n",
       "  </tbody>\n",
       "</table>\n",
       "</div>"
      ],
      "text/plain": [
       "       Status\n",
       "0      Placed\n",
       "1  Not Placed\n",
       "2      Placed\n",
       "3  Not Placed\n",
       "4  Not Placed"
      ]
     },
     "execution_count": 511,
     "metadata": {},
     "output_type": "execute_result"
    }
   ],
   "source": [
    "Confidence_Intervals_p_df.head()"
   ]
  },
  {
   "cell_type": "code",
   "execution_count": 512,
   "id": "1c9c921d",
   "metadata": {},
   "outputs": [
    {
     "data": {
      "text/plain": [
       "Status    \n",
       "Placed        53\n",
       "Not Placed    42\n",
       "dtype: int64"
      ]
     },
     "execution_count": 512,
     "metadata": {},
     "output_type": "execute_result"
    }
   ],
   "source": [
    "Confidence_Intervals_p_df.value_counts()"
   ]
  },
  {
   "cell_type": "code",
   "execution_count": 513,
   "id": "6c5fb5d2",
   "metadata": {},
   "outputs": [
    {
     "data": {
      "text/plain": [
       "95"
      ]
     },
     "execution_count": 513,
     "metadata": {},
     "output_type": "execute_result"
    }
   ],
   "source": [
    "sample_size = len(Confidence_Intervals_p_df)\n",
    "sample_size"
   ]
  },
  {
   "cell_type": "code",
   "execution_count": 514,
   "id": "5d2304ca",
   "metadata": {},
   "outputs": [
    {
     "data": {
      "text/plain": [
       "0.5578947368421052"
      ]
     },
     "execution_count": 514,
     "metadata": {},
     "output_type": "execute_result"
    }
   ],
   "source": [
    "p = Confidence_Intervals_p_df.value_counts().values[0]/sample_size\n",
    "p"
   ]
  },
  {
   "cell_type": "code",
   "execution_count": 515,
   "id": "fb549e57",
   "metadata": {},
   "outputs": [
    {
     "data": {
      "text/plain": [
       "0.4421052631578947"
      ]
     },
     "execution_count": 515,
     "metadata": {},
     "output_type": "execute_result"
    }
   ],
   "source": [
    "p_1 = Confidence_Intervals_p_df.value_counts().values[1]/sample_size\n",
    "p_1"
   ]
  },
  {
   "cell_type": "code",
   "execution_count": 516,
   "id": "59bd79ba",
   "metadata": {},
   "outputs": [
    {
     "name": "stdout",
     "output_type": "stream",
     "text": [
      "True\n",
      "True\n"
     ]
    }
   ],
   "source": [
    "# CLT TESTS\n",
    "print(p*sample_size>5)\n",
    "print(p_1*sample_size>5)"
   ]
  },
  {
   "cell_type": "code",
   "execution_count": 517,
   "id": "c4dcf863",
   "metadata": {},
   "outputs": [],
   "source": [
    "confidence_level = 0.95"
   ]
  },
  {
   "cell_type": "code",
   "execution_count": 518,
   "id": "d50d6166",
   "metadata": {},
   "outputs": [
    {
     "data": {
      "text/plain": [
       "0.050000000000000044"
      ]
     },
     "execution_count": 518,
     "metadata": {},
     "output_type": "execute_result"
    }
   ],
   "source": [
    "alpha = 1-confidence_level\n",
    "alpha"
   ]
  },
  {
   "cell_type": "code",
   "execution_count": 519,
   "id": "5786b5a2",
   "metadata": {},
   "outputs": [
    {
     "data": {
      "text/plain": [
       "1.959963984540054"
      ]
     },
     "execution_count": 519,
     "metadata": {},
     "output_type": "execute_result"
    }
   ],
   "source": [
    "critical_value_z = np.abs(stats.norm.ppf(alpha/2))\n",
    "critical_value_z"
   ]
  },
  {
   "cell_type": "code",
   "execution_count": 520,
   "id": "39a789dc",
   "metadata": {},
   "outputs": [
    {
     "data": {
      "text/plain": [
       "5.095386968890105"
      ]
     },
     "execution_count": 520,
     "metadata": {},
     "output_type": "execute_result"
    }
   ],
   "source": [
    "standard_error = np.sqrt((p*p_1)/sample_size)*100\n",
    "standard_error"
   ]
  },
  {
   "cell_type": "code",
   "execution_count": 521,
   "id": "c434e8c2",
   "metadata": {},
   "outputs": [
    {
     "data": {
      "text/plain": [
       "9.986774946319319"
      ]
     },
     "execution_count": 521,
     "metadata": {},
     "output_type": "execute_result"
    }
   ],
   "source": [
    "margin_of_error = standard_error*critical_value_z\n",
    "margin_of_error"
   ]
  },
  {
   "cell_type": "code",
   "execution_count": 522,
   "id": "0c8af988",
   "metadata": {},
   "outputs": [
    {
     "data": {
      "text/plain": [
       "[45.802698737891205, 65.77624863052984]"
      ]
     },
     "execution_count": 522,
     "metadata": {},
     "output_type": "execute_result"
    }
   ],
   "source": [
    "confidence_interval = [p*100 - margin_of_error, p*100 + margin_of_error]\n",
    "confidence_interval"
   ]
  },
  {
   "cell_type": "code",
   "execution_count": 523,
   "id": "7d8312a9",
   "metadata": {},
   "outputs": [],
   "source": [
    "# TWO DEPENDENT POPULATION SAMPLES"
   ]
  },
  {
   "cell_type": "code",
   "execution_count": 531,
   "id": "fb48ad36",
   "metadata": {},
   "outputs": [],
   "source": [
    "# How much will student MBA Grades change on average compared to their Undergrad Grades?"
   ]
  },
  {
   "cell_type": "code",
   "execution_count": 532,
   "id": "720cb7d6",
   "metadata": {},
   "outputs": [],
   "source": [
    "Dependent_Samples_df = pd.read_csv('Dependent Samples.csv')"
   ]
  },
  {
   "cell_type": "code",
   "execution_count": 533,
   "id": "e130b180",
   "metadata": {},
   "outputs": [
    {
     "data": {
      "text/html": [
       "<div>\n",
       "<style scoped>\n",
       "    .dataframe tbody tr th:only-of-type {\n",
       "        vertical-align: middle;\n",
       "    }\n",
       "\n",
       "    .dataframe tbody tr th {\n",
       "        vertical-align: top;\n",
       "    }\n",
       "\n",
       "    .dataframe thead th {\n",
       "        text-align: right;\n",
       "    }\n",
       "</style>\n",
       "<table border=\"1\" class=\"dataframe\">\n",
       "  <thead>\n",
       "    <tr style=\"text-align: right;\">\n",
       "      <th></th>\n",
       "      <th>Student ID</th>\n",
       "      <th>Undergrad Grade</th>\n",
       "      <th>MBA Grade</th>\n",
       "    </tr>\n",
       "  </thead>\n",
       "  <tbody>\n",
       "    <tr>\n",
       "      <th>0</th>\n",
       "      <td>1</td>\n",
       "      <td>68.4</td>\n",
       "      <td>90.2</td>\n",
       "    </tr>\n",
       "    <tr>\n",
       "      <th>1</th>\n",
       "      <td>2</td>\n",
       "      <td>62.1</td>\n",
       "      <td>92.8</td>\n",
       "    </tr>\n",
       "    <tr>\n",
       "      <th>2</th>\n",
       "      <td>3</td>\n",
       "      <td>70.2</td>\n",
       "      <td>68.7</td>\n",
       "    </tr>\n",
       "    <tr>\n",
       "      <th>3</th>\n",
       "      <td>4</td>\n",
       "      <td>75.1</td>\n",
       "      <td>80.7</td>\n",
       "    </tr>\n",
       "    <tr>\n",
       "      <th>4</th>\n",
       "      <td>5</td>\n",
       "      <td>60.9</td>\n",
       "      <td>74.9</td>\n",
       "    </tr>\n",
       "  </tbody>\n",
       "</table>\n",
       "</div>"
      ],
      "text/plain": [
       "   Student ID  Undergrad Grade  MBA Grade\n",
       "0           1             68.4       90.2\n",
       "1           2             62.1       92.8\n",
       "2           3             70.2       68.7\n",
       "3           4             75.1       80.7\n",
       "4           5             60.9       74.9"
      ]
     },
     "execution_count": 533,
     "metadata": {},
     "output_type": "execute_result"
    }
   ],
   "source": [
    "Dependent_Samples_df.head()"
   ]
  },
  {
   "cell_type": "code",
   "execution_count": 534,
   "id": "cedd5adf",
   "metadata": {},
   "outputs": [],
   "source": [
    "Dependent_Samples_df['Diff'] = Dependent_Samples_df['MBA Grade'] - Dependent_Samples_df['Undergrad Grade']"
   ]
  },
  {
   "cell_type": "code",
   "execution_count": 535,
   "id": "9a6258e2",
   "metadata": {},
   "outputs": [
    {
     "data": {
      "text/html": [
       "<div>\n",
       "<style scoped>\n",
       "    .dataframe tbody tr th:only-of-type {\n",
       "        vertical-align: middle;\n",
       "    }\n",
       "\n",
       "    .dataframe tbody tr th {\n",
       "        vertical-align: top;\n",
       "    }\n",
       "\n",
       "    .dataframe thead th {\n",
       "        text-align: right;\n",
       "    }\n",
       "</style>\n",
       "<table border=\"1\" class=\"dataframe\">\n",
       "  <thead>\n",
       "    <tr style=\"text-align: right;\">\n",
       "      <th></th>\n",
       "      <th>Student ID</th>\n",
       "      <th>Undergrad Grade</th>\n",
       "      <th>MBA Grade</th>\n",
       "      <th>Diff</th>\n",
       "    </tr>\n",
       "  </thead>\n",
       "  <tbody>\n",
       "    <tr>\n",
       "      <th>0</th>\n",
       "      <td>1</td>\n",
       "      <td>68.4</td>\n",
       "      <td>90.2</td>\n",
       "      <td>21.8</td>\n",
       "    </tr>\n",
       "    <tr>\n",
       "      <th>1</th>\n",
       "      <td>2</td>\n",
       "      <td>62.1</td>\n",
       "      <td>92.8</td>\n",
       "      <td>30.7</td>\n",
       "    </tr>\n",
       "    <tr>\n",
       "      <th>2</th>\n",
       "      <td>3</td>\n",
       "      <td>70.2</td>\n",
       "      <td>68.7</td>\n",
       "      <td>-1.5</td>\n",
       "    </tr>\n",
       "    <tr>\n",
       "      <th>3</th>\n",
       "      <td>4</td>\n",
       "      <td>75.1</td>\n",
       "      <td>80.7</td>\n",
       "      <td>5.6</td>\n",
       "    </tr>\n",
       "    <tr>\n",
       "      <th>4</th>\n",
       "      <td>5</td>\n",
       "      <td>60.9</td>\n",
       "      <td>74.9</td>\n",
       "      <td>14.0</td>\n",
       "    </tr>\n",
       "  </tbody>\n",
       "</table>\n",
       "</div>"
      ],
      "text/plain": [
       "   Student ID  Undergrad Grade  MBA Grade  Diff\n",
       "0           1             68.4       90.2  21.8\n",
       "1           2             62.1       92.8  30.7\n",
       "2           3             70.2       68.7  -1.5\n",
       "3           4             75.1       80.7   5.6\n",
       "4           5             60.9       74.9  14.0"
      ]
     },
     "execution_count": 535,
     "metadata": {},
     "output_type": "execute_result"
    }
   ],
   "source": [
    "Dependent_Samples_df.head()"
   ]
  },
  {
   "cell_type": "code",
   "execution_count": 536,
   "id": "5420b504",
   "metadata": {},
   "outputs": [
    {
     "data": {
      "text/plain": [
       "95"
      ]
     },
     "execution_count": 536,
     "metadata": {},
     "output_type": "execute_result"
    }
   ],
   "source": [
    "sample_size = len(Dependent_Samples_df)\n",
    "sample_size"
   ]
  },
  {
   "cell_type": "code",
   "execution_count": 537,
   "id": "a5266d14",
   "metadata": {},
   "outputs": [
    {
     "data": {
      "text/plain": [
       "5.195789473684211"
      ]
     },
     "execution_count": 537,
     "metadata": {},
     "output_type": "execute_result"
    }
   ],
   "source": [
    "sample_mean = Dependent_Samples_df.Diff.mean()\n",
    "sample_mean"
   ]
  },
  {
   "cell_type": "code",
   "execution_count": 538,
   "id": "88fb4873",
   "metadata": {},
   "outputs": [
    {
     "data": {
      "text/plain": [
       "9.22414633989986"
      ]
     },
     "execution_count": 538,
     "metadata": {},
     "output_type": "execute_result"
    }
   ],
   "source": [
    "sample_std = Dependent_Samples_df.Diff.std()\n",
    "sample_std"
   ]
  },
  {
   "cell_type": "code",
   "execution_count": 539,
   "id": "9aff4523",
   "metadata": {},
   "outputs": [],
   "source": [
    "confidence_level = 0.95"
   ]
  },
  {
   "cell_type": "code",
   "execution_count": 540,
   "id": "4fad153c",
   "metadata": {},
   "outputs": [
    {
     "data": {
      "text/plain": [
       "0.050000000000000044"
      ]
     },
     "execution_count": 540,
     "metadata": {},
     "output_type": "execute_result"
    }
   ],
   "source": [
    "alpha = 1-confidence_level\n",
    "alpha"
   ]
  },
  {
   "cell_type": "code",
   "execution_count": 541,
   "id": "f7334812",
   "metadata": {},
   "outputs": [
    {
     "data": {
      "text/plain": [
       "1.9855234417658298"
      ]
     },
     "execution_count": 541,
     "metadata": {},
     "output_type": "execute_result"
    }
   ],
   "source": [
    "critical_value_t = stats.t.isf(alpha/2, df=sample_size-1)\n",
    "critical_value_t"
   ]
  },
  {
   "cell_type": "code",
   "execution_count": 542,
   "id": "a33f305b",
   "metadata": {},
   "outputs": [
    {
     "data": {
      "text/plain": [
       "0.9463774461202765"
      ]
     },
     "execution_count": 542,
     "metadata": {},
     "output_type": "execute_result"
    }
   ],
   "source": [
    "standard_error = sample_std/(np.sqrt(sample_size))\n",
    "standard_error"
   ]
  },
  {
   "cell_type": "code",
   "execution_count": 544,
   "id": "c88acd35",
   "metadata": {},
   "outputs": [
    {
     "data": {
      "text/plain": [
       "1.8790546040302876"
      ]
     },
     "execution_count": 544,
     "metadata": {},
     "output_type": "execute_result"
    }
   ],
   "source": [
    "margin_of_error = standard_error*critical_value_t\n",
    "margin_of_error"
   ]
  },
  {
   "cell_type": "code",
   "execution_count": 545,
   "id": "70b3cb12",
   "metadata": {},
   "outputs": [
    {
     "data": {
      "text/plain": [
       "[3.316734869653924, 7.0748440777144985]"
      ]
     },
     "execution_count": 545,
     "metadata": {},
     "output_type": "execute_result"
    }
   ],
   "source": [
    "confidence_interval = [sample_mean - margin_of_error, sample_mean + margin_of_error]\n",
    "confidence_interval"
   ]
  },
  {
   "cell_type": "code",
   "execution_count": 548,
   "id": "fd14c606",
   "metadata": {},
   "outputs": [],
   "source": [
    "# How much will Employability scores change on average after students graduate?\n",
    "Confidence_Intervals_d_df = pd.read_csv('Confidence Intervals (d).csv')"
   ]
  },
  {
   "cell_type": "code",
   "execution_count": 549,
   "id": "e5cd6d28",
   "metadata": {},
   "outputs": [
    {
     "data": {
      "text/html": [
       "<div>\n",
       "<style scoped>\n",
       "    .dataframe tbody tr th:only-of-type {\n",
       "        vertical-align: middle;\n",
       "    }\n",
       "\n",
       "    .dataframe tbody tr th {\n",
       "        vertical-align: top;\n",
       "    }\n",
       "\n",
       "    .dataframe thead th {\n",
       "        text-align: right;\n",
       "    }\n",
       "</style>\n",
       "<table border=\"1\" class=\"dataframe\">\n",
       "  <thead>\n",
       "    <tr style=\"text-align: right;\">\n",
       "      <th></th>\n",
       "      <th>Student ID</th>\n",
       "      <th>Employability (Before)</th>\n",
       "      <th>Employability (After)</th>\n",
       "    </tr>\n",
       "  </thead>\n",
       "  <tbody>\n",
       "    <tr>\n",
       "      <th>0</th>\n",
       "      <td>1</td>\n",
       "      <td>252</td>\n",
       "      <td>276</td>\n",
       "    </tr>\n",
       "    <tr>\n",
       "      <th>1</th>\n",
       "      <td>2</td>\n",
       "      <td>423</td>\n",
       "      <td>410</td>\n",
       "    </tr>\n",
       "    <tr>\n",
       "      <th>2</th>\n",
       "      <td>3</td>\n",
       "      <td>101</td>\n",
       "      <td>119</td>\n",
       "    </tr>\n",
       "    <tr>\n",
       "      <th>3</th>\n",
       "      <td>4</td>\n",
       "      <td>288</td>\n",
       "      <td>334</td>\n",
       "    </tr>\n",
       "    <tr>\n",
       "      <th>4</th>\n",
       "      <td>5</td>\n",
       "      <td>248</td>\n",
       "      <td>252</td>\n",
       "    </tr>\n",
       "  </tbody>\n",
       "</table>\n",
       "</div>"
      ],
      "text/plain": [
       "   Student ID  Employability (Before)  Employability (After)\n",
       "0           1                     252                    276\n",
       "1           2                     423                    410\n",
       "2           3                     101                    119\n",
       "3           4                     288                    334\n",
       "4           5                     248                    252"
      ]
     },
     "execution_count": 549,
     "metadata": {},
     "output_type": "execute_result"
    }
   ],
   "source": [
    "Confidence_Intervals_d_df.head()"
   ]
  },
  {
   "cell_type": "code",
   "execution_count": 550,
   "id": "a8ebe3b9",
   "metadata": {},
   "outputs": [
    {
     "data": {
      "text/html": [
       "<div>\n",
       "<style scoped>\n",
       "    .dataframe tbody tr th:only-of-type {\n",
       "        vertical-align: middle;\n",
       "    }\n",
       "\n",
       "    .dataframe tbody tr th {\n",
       "        vertical-align: top;\n",
       "    }\n",
       "\n",
       "    .dataframe thead th {\n",
       "        text-align: right;\n",
       "    }\n",
       "</style>\n",
       "<table border=\"1\" class=\"dataframe\">\n",
       "  <thead>\n",
       "    <tr style=\"text-align: right;\">\n",
       "      <th></th>\n",
       "      <th>Student ID</th>\n",
       "      <th>Employability (Before)</th>\n",
       "      <th>Employability (After)</th>\n",
       "      <th>Diff</th>\n",
       "    </tr>\n",
       "  </thead>\n",
       "  <tbody>\n",
       "    <tr>\n",
       "      <th>0</th>\n",
       "      <td>1</td>\n",
       "      <td>252</td>\n",
       "      <td>276</td>\n",
       "      <td>24</td>\n",
       "    </tr>\n",
       "    <tr>\n",
       "      <th>1</th>\n",
       "      <td>2</td>\n",
       "      <td>423</td>\n",
       "      <td>410</td>\n",
       "      <td>-13</td>\n",
       "    </tr>\n",
       "    <tr>\n",
       "      <th>2</th>\n",
       "      <td>3</td>\n",
       "      <td>101</td>\n",
       "      <td>119</td>\n",
       "      <td>18</td>\n",
       "    </tr>\n",
       "    <tr>\n",
       "      <th>3</th>\n",
       "      <td>4</td>\n",
       "      <td>288</td>\n",
       "      <td>334</td>\n",
       "      <td>46</td>\n",
       "    </tr>\n",
       "    <tr>\n",
       "      <th>4</th>\n",
       "      <td>5</td>\n",
       "      <td>248</td>\n",
       "      <td>252</td>\n",
       "      <td>4</td>\n",
       "    </tr>\n",
       "  </tbody>\n",
       "</table>\n",
       "</div>"
      ],
      "text/plain": [
       "   Student ID  Employability (Before)  Employability (After)  Diff\n",
       "0           1                     252                    276    24\n",
       "1           2                     423                    410   -13\n",
       "2           3                     101                    119    18\n",
       "3           4                     288                    334    46\n",
       "4           5                     248                    252     4"
      ]
     },
     "execution_count": 550,
     "metadata": {},
     "output_type": "execute_result"
    }
   ],
   "source": [
    "Confidence_Intervals_d_df['Diff'] = Confidence_Intervals_d_df['Employability (After)'] - Confidence_Intervals_d_df['Employability (Before)']\n",
    "Confidence_Intervals_d_df.head()"
   ]
  },
  {
   "cell_type": "code",
   "execution_count": 551,
   "id": "58bda7fd",
   "metadata": {},
   "outputs": [
    {
     "data": {
      "text/plain": [
       "95"
      ]
     },
     "execution_count": 551,
     "metadata": {},
     "output_type": "execute_result"
    }
   ],
   "source": [
    "sample_size = len(Confidence_Intervals_d_df)\n",
    "sample_size"
   ]
  },
  {
   "cell_type": "code",
   "execution_count": 552,
   "id": "39178e19",
   "metadata": {},
   "outputs": [
    {
     "data": {
      "text/plain": [
       "49.44210526315789"
      ]
     },
     "execution_count": 552,
     "metadata": {},
     "output_type": "execute_result"
    }
   ],
   "source": [
    "sample_mean = Confidence_Intervals_d_df.Diff.mean()\n",
    "sample_mean"
   ]
  },
  {
   "cell_type": "code",
   "execution_count": 553,
   "id": "c06aaadf",
   "metadata": {},
   "outputs": [
    {
     "data": {
      "text/plain": [
       "29.655007753875545"
      ]
     },
     "execution_count": 553,
     "metadata": {},
     "output_type": "execute_result"
    }
   ],
   "source": [
    "sample_std = Confidence_Intervals_d_df.Diff.std()\n",
    "sample_std"
   ]
  },
  {
   "cell_type": "code",
   "execution_count": 554,
   "id": "5dc1651b",
   "metadata": {},
   "outputs": [],
   "source": [
    "confidence_level = 0.9"
   ]
  },
  {
   "cell_type": "code",
   "execution_count": 555,
   "id": "17af1376",
   "metadata": {},
   "outputs": [
    {
     "data": {
      "text/plain": [
       "0.09999999999999998"
      ]
     },
     "execution_count": 555,
     "metadata": {},
     "output_type": "execute_result"
    }
   ],
   "source": [
    "alpha = 1-confidence_level\n",
    "alpha"
   ]
  },
  {
   "cell_type": "code",
   "execution_count": 560,
   "id": "5d342c98",
   "metadata": {},
   "outputs": [
    {
     "data": {
      "text/plain": [
       "1.6612258552697992"
      ]
     },
     "execution_count": 560,
     "metadata": {},
     "output_type": "execute_result"
    }
   ],
   "source": [
    "critical_value_t = np.abs(stats.t.ppf(alpha/2, df=sample_size-1))\n",
    "critical_value_t"
   ]
  },
  {
   "cell_type": "code",
   "execution_count": 561,
   "id": "1b83c109",
   "metadata": {},
   "outputs": [
    {
     "data": {
      "text/plain": [
       "3.04253959863937"
      ]
     },
     "execution_count": 561,
     "metadata": {},
     "output_type": "execute_result"
    }
   ],
   "source": [
    "standard_error = sample_std/(np.sqrt(sample_size))\n",
    "standard_error"
   ]
  },
  {
   "cell_type": "code",
   "execution_count": 562,
   "id": "42b592c6",
   "metadata": {},
   "outputs": [
    {
     "data": {
      "text/plain": [
       "5.05434544694192"
      ]
     },
     "execution_count": 562,
     "metadata": {},
     "output_type": "execute_result"
    }
   ],
   "source": [
    "margin_of_error = standard_error*critical_value_t\n",
    "margin_of_error"
   ]
  },
  {
   "cell_type": "code",
   "execution_count": 563,
   "id": "9e253708",
   "metadata": {},
   "outputs": [
    {
     "data": {
      "text/plain": [
       "[44.387759816215976, 54.49645071009981]"
      ]
     },
     "execution_count": 563,
     "metadata": {},
     "output_type": "execute_result"
    }
   ],
   "source": [
    "confidence_interval = [sample_mean - margin_of_error, sample_mean + margin_of_error]\n",
    "confidence_interval"
   ]
  },
  {
   "cell_type": "code",
   "execution_count": 564,
   "id": "4b70ecc9",
   "metadata": {},
   "outputs": [],
   "source": [
    "# INDEPENDENT SAMPLES\n",
    "# Do Business undergrads achieve higher MBA grades on average than the rest?"
   ]
  },
  {
   "cell_type": "code",
   "execution_count": 565,
   "id": "91c46733",
   "metadata": {},
   "outputs": [],
   "source": [
    "Independent_Samples_df = pd.read_csv('Independent Samples.csv')"
   ]
  },
  {
   "cell_type": "code",
   "execution_count": 566,
   "id": "5f349ec3",
   "metadata": {},
   "outputs": [
    {
     "data": {
      "text/html": [
       "<div>\n",
       "<style scoped>\n",
       "    .dataframe tbody tr th:only-of-type {\n",
       "        vertical-align: middle;\n",
       "    }\n",
       "\n",
       "    .dataframe tbody tr th {\n",
       "        vertical-align: top;\n",
       "    }\n",
       "\n",
       "    .dataframe thead th {\n",
       "        text-align: right;\n",
       "    }\n",
       "</style>\n",
       "<table border=\"1\" class=\"dataframe\">\n",
       "  <thead>\n",
       "    <tr style=\"text-align: right;\">\n",
       "      <th></th>\n",
       "      <th>Business Undergrads</th>\n",
       "      <th>Other Undergrads</th>\n",
       "    </tr>\n",
       "  </thead>\n",
       "  <tbody>\n",
       "    <tr>\n",
       "      <th>0</th>\n",
       "      <td>90.2</td>\n",
       "      <td>68.7</td>\n",
       "    </tr>\n",
       "    <tr>\n",
       "      <th>1</th>\n",
       "      <td>92.8</td>\n",
       "      <td>80.7</td>\n",
       "    </tr>\n",
       "    <tr>\n",
       "      <th>2</th>\n",
       "      <td>88.7</td>\n",
       "      <td>74.9</td>\n",
       "    </tr>\n",
       "    <tr>\n",
       "      <th>3</th>\n",
       "      <td>87.5</td>\n",
       "      <td>80.7</td>\n",
       "    </tr>\n",
       "    <tr>\n",
       "      <th>4</th>\n",
       "      <td>71.3</td>\n",
       "      <td>83.3</td>\n",
       "    </tr>\n",
       "  </tbody>\n",
       "</table>\n",
       "</div>"
      ],
      "text/plain": [
       "   Business Undergrads  Other Undergrads\n",
       "0                 90.2              68.7\n",
       "1                 92.8              80.7\n",
       "2                 88.7              74.9\n",
       "3                 87.5              80.7\n",
       "4                 71.3              83.3"
      ]
     },
     "execution_count": 566,
     "metadata": {},
     "output_type": "execute_result"
    }
   ],
   "source": [
    "Independent_Samples_df.head()"
   ]
  },
  {
   "cell_type": "code",
   "execution_count": 568,
   "id": "c3966c3f",
   "metadata": {},
   "outputs": [
    {
     "data": {
      "text/plain": [
       "36"
      ]
     },
     "execution_count": 568,
     "metadata": {},
     "output_type": "execute_result"
    }
   ],
   "source": [
    "business_sample_size = len(Independent_Samples_df['Business Undergrads'].dropna())\n",
    "business_sample_size"
   ]
  },
  {
   "cell_type": "code",
   "execution_count": 569,
   "id": "614b42cd",
   "metadata": {},
   "outputs": [
    {
     "data": {
      "text/plain": [
       "81.32777777777778"
      ]
     },
     "execution_count": 569,
     "metadata": {},
     "output_type": "execute_result"
    }
   ],
   "source": [
    "business_mean = Independent_Samples_df['Business Undergrads'].dropna().mean()\n",
    "business_mean"
   ]
  },
  {
   "cell_type": "code",
   "execution_count": 570,
   "id": "aba02194",
   "metadata": {},
   "outputs": [
    {
     "data": {
      "text/plain": [
       "44.13520634920636"
      ]
     },
     "execution_count": 570,
     "metadata": {},
     "output_type": "execute_result"
    }
   ],
   "source": [
    "business_variance = Independent_Samples_df['Business Undergrads'].dropna().var()\n",
    "business_variance"
   ]
  },
  {
   "cell_type": "code",
   "execution_count": 571,
   "id": "c1a06eef",
   "metadata": {},
   "outputs": [
    {
     "data": {
      "text/plain": [
       "1.2259779541446212"
      ]
     },
     "execution_count": 571,
     "metadata": {},
     "output_type": "execute_result"
    }
   ],
   "source": [
    "business_s_n = business_variance/business_sample_size\n",
    "business_s_n"
   ]
  },
  {
   "cell_type": "code",
   "execution_count": 572,
   "id": "63047813",
   "metadata": {},
   "outputs": [
    {
     "data": {
      "text/plain": [
       "59"
      ]
     },
     "execution_count": 572,
     "metadata": {},
     "output_type": "execute_result"
    }
   ],
   "source": [
    "others_sample_size = len(Independent_Samples_df['Other Undergrads'])\n",
    "others_sample_size"
   ]
  },
  {
   "cell_type": "code",
   "execution_count": 573,
   "id": "335ba5a9",
   "metadata": {},
   "outputs": [
    {
     "data": {
      "text/plain": [
       "79.46271186440678"
      ]
     },
     "execution_count": 573,
     "metadata": {},
     "output_type": "execute_result"
    }
   ],
   "source": [
    "others_mean = Independent_Samples_df['Other Undergrads'].mean()\n",
    "others_mean"
   ]
  },
  {
   "cell_type": "code",
   "execution_count": 574,
   "id": "dfc66df6",
   "metadata": {},
   "outputs": [
    {
     "data": {
      "text/plain": [
       "33.73927527761543"
      ]
     },
     "execution_count": 574,
     "metadata": {},
     "output_type": "execute_result"
    }
   ],
   "source": [
    "others_variance = Independent_Samples_df['Other Undergrads'].var()\n",
    "others_variance"
   ]
  },
  {
   "cell_type": "code",
   "execution_count": 575,
   "id": "16e6dcae",
   "metadata": {},
   "outputs": [
    {
     "data": {
      "text/plain": [
       "0.571852123349414"
      ]
     },
     "execution_count": 575,
     "metadata": {},
     "output_type": "execute_result"
    }
   ],
   "source": [
    "others_s_n = others_variance/others_sample_size\n",
    "others_s_n"
   ]
  },
  {
   "cell_type": "code",
   "execution_count": 576,
   "id": "1a4f9bfd",
   "metadata": {},
   "outputs": [
    {
     "data": {
      "text/plain": [
       "1.865065913370998"
      ]
     },
     "execution_count": 576,
     "metadata": {},
     "output_type": "execute_result"
    }
   ],
   "source": [
    "x1_x2 = business_mean-others_mean\n",
    "x1_x2"
   ]
  },
  {
   "cell_type": "code",
   "execution_count": 577,
   "id": "622488b8",
   "metadata": {},
   "outputs": [],
   "source": [
    "confidence_level = 0.9"
   ]
  },
  {
   "cell_type": "code",
   "execution_count": 578,
   "id": "45e7426c",
   "metadata": {},
   "outputs": [
    {
     "data": {
      "text/plain": [
       "0.09999999999999998"
      ]
     },
     "execution_count": 578,
     "metadata": {},
     "output_type": "execute_result"
    }
   ],
   "source": [
    "alpha = 1-confidence_level\n",
    "alpha"
   ]
  },
  {
   "cell_type": "code",
   "execution_count": 579,
   "id": "37db134f",
   "metadata": {},
   "outputs": [
    {
     "data": {
      "text/plain": [
       "66.53111981542565"
      ]
     },
     "execution_count": 579,
     "metadata": {},
     "output_type": "execute_result"
    }
   ],
   "source": [
    "degree_of_freedom = np.power(business_s_n+others_s_n, 2) / ((np.power(business_s_n, 2)/(business_sample_size-1))+(np.power(others_s_n, 2)/(others_sample_size-1)))\n",
    "degree_of_freedom"
   ]
  },
  {
   "cell_type": "code",
   "execution_count": 580,
   "id": "ac7fdfb5",
   "metadata": {},
   "outputs": [
    {
     "data": {
      "text/plain": [
       "1.6680809399598062"
      ]
     },
     "execution_count": 580,
     "metadata": {},
     "output_type": "execute_result"
    }
   ],
   "source": [
    "critical_value_t = np.abs(stats.t.ppf(alpha/2, df=degree_of_freedom))\n",
    "critical_value_t"
   ]
  },
  {
   "cell_type": "code",
   "execution_count": 583,
   "id": "4c58dccc",
   "metadata": {},
   "outputs": [
    {
     "data": {
      "text/plain": [
       "1.3408318602621416"
      ]
     },
     "execution_count": 583,
     "metadata": {},
     "output_type": "execute_result"
    }
   ],
   "source": [
    "standard_error = np.sqrt(business_s_n+others_s_n)\n",
    "standard_error"
   ]
  },
  {
   "cell_type": "code",
   "execution_count": 584,
   "id": "0d3df2bc",
   "metadata": {},
   "outputs": [
    {
     "data": {
      "text/plain": [
       "2.236616069794129"
      ]
     },
     "execution_count": 584,
     "metadata": {},
     "output_type": "execute_result"
    }
   ],
   "source": [
    "margin_of_error = standard_error*critical_value_t\n",
    "margin_of_error"
   ]
  },
  {
   "cell_type": "code",
   "execution_count": 585,
   "id": "3efc7b90",
   "metadata": {},
   "outputs": [
    {
     "data": {
      "text/plain": [
       "[-0.37155015642313094, 4.101681983165127]"
      ]
     },
     "execution_count": 585,
     "metadata": {},
     "output_type": "execute_result"
    }
   ],
   "source": [
    "confidence_interval = [x1_x2 - margin_of_error, x1_x2 + margin_of_error]\n",
    "confidence_interval"
   ]
  },
  {
   "cell_type": "code",
   "execution_count": 586,
   "id": "5bfb5b6d",
   "metadata": {},
   "outputs": [],
   "source": [
    "# Are graduates with previous work experience placed at a higher rate?"
   ]
  },
  {
   "cell_type": "code",
   "execution_count": 587,
   "id": "89ba6b0a",
   "metadata": {},
   "outputs": [],
   "source": [
    "Confidence_Intervals_p_df = pd.read_csv('Confidence Intervals (p1-p2).csv')"
   ]
  },
  {
   "cell_type": "code",
   "execution_count": 588,
   "id": "14d318b0",
   "metadata": {},
   "outputs": [
    {
     "data": {
      "text/html": [
       "<div>\n",
       "<style scoped>\n",
       "    .dataframe tbody tr th:only-of-type {\n",
       "        vertical-align: middle;\n",
       "    }\n",
       "\n",
       "    .dataframe tbody tr th {\n",
       "        vertical-align: top;\n",
       "    }\n",
       "\n",
       "    .dataframe thead th {\n",
       "        text-align: right;\n",
       "    }\n",
       "</style>\n",
       "<table border=\"1\" class=\"dataframe\">\n",
       "  <thead>\n",
       "    <tr style=\"text-align: right;\">\n",
       "      <th></th>\n",
       "      <th>Work Experience</th>\n",
       "      <th>Status</th>\n",
       "    </tr>\n",
       "  </thead>\n",
       "  <tbody>\n",
       "    <tr>\n",
       "      <th>0</th>\n",
       "      <td>No</td>\n",
       "      <td>Placed</td>\n",
       "    </tr>\n",
       "    <tr>\n",
       "      <th>1</th>\n",
       "      <td>No</td>\n",
       "      <td>Not Placed</td>\n",
       "    </tr>\n",
       "    <tr>\n",
       "      <th>2</th>\n",
       "      <td>Yes</td>\n",
       "      <td>Placed</td>\n",
       "    </tr>\n",
       "    <tr>\n",
       "      <th>3</th>\n",
       "      <td>No</td>\n",
       "      <td>Not Placed</td>\n",
       "    </tr>\n",
       "    <tr>\n",
       "      <th>4</th>\n",
       "      <td>No</td>\n",
       "      <td>Not Placed</td>\n",
       "    </tr>\n",
       "  </tbody>\n",
       "</table>\n",
       "</div>"
      ],
      "text/plain": [
       "  Work Experience      Status\n",
       "0              No      Placed\n",
       "1              No  Not Placed\n",
       "2             Yes      Placed\n",
       "3              No  Not Placed\n",
       "4              No  Not Placed"
      ]
     },
     "execution_count": 588,
     "metadata": {},
     "output_type": "execute_result"
    }
   ],
   "source": [
    "Confidence_Intervals_p_df.head()"
   ]
  },
  {
   "cell_type": "code",
   "execution_count": 604,
   "id": "452827b6",
   "metadata": {},
   "outputs": [
    {
     "data": {
      "text/plain": [
       "23"
      ]
     },
     "execution_count": 604,
     "metadata": {},
     "output_type": "execute_result"
    }
   ],
   "source": [
    "Confidence_Intervals_yes_sample_size = len(Confidence_Intervals_p_df[Confidence_Intervals_p_df['Work Experience'] == 'Yes'])\n",
    "Confidence_Intervals_yes_sample_size"
   ]
  },
  {
   "cell_type": "code",
   "execution_count": 605,
   "id": "4741e61f",
   "metadata": {},
   "outputs": [
    {
     "data": {
      "text/plain": [
       "72"
      ]
     },
     "execution_count": 605,
     "metadata": {},
     "output_type": "execute_result"
    }
   ],
   "source": [
    "Confidence_Intervals_no_sample_size = len(Confidence_Intervals_p_df[Confidence_Intervals_p_df['Work Experience'] == 'No'])\n",
    "Confidence_Intervals_no_sample_size"
   ]
  },
  {
   "cell_type": "code",
   "execution_count": 606,
   "id": "c231991a",
   "metadata": {},
   "outputs": [
    {
     "data": {
      "text/plain": [
       "0.7391304347826086"
      ]
     },
     "execution_count": 606,
     "metadata": {},
     "output_type": "execute_result"
    }
   ],
   "source": [
    "p_yes_placed = Confidence_Intervals_p_df[(Confidence_Intervals_p_df['Status'] == 'Placed') & (Confidence_Intervals_p_df['Work Experience'] == 'Yes')].count().values[0]/Confidence_Intervals_yes_sample_size\n",
    "p_yes_placed"
   ]
  },
  {
   "cell_type": "code",
   "execution_count": 607,
   "id": "99d6b4c5",
   "metadata": {},
   "outputs": [
    {
     "data": {
      "text/plain": [
       "0.5"
      ]
     },
     "execution_count": 607,
     "metadata": {},
     "output_type": "execute_result"
    }
   ],
   "source": [
    "p_no_placed = Confidence_Intervals_p_df[(Confidence_Intervals_p_df['Status'] == 'Placed') & (Confidence_Intervals_p_df['Work Experience'] == 'No')].count().values[0]/Confidence_Intervals_no_sample_size\n",
    "p_no_placed"
   ]
  },
  {
   "cell_type": "code",
   "execution_count": 610,
   "id": "b6996559",
   "metadata": {},
   "outputs": [
    {
     "name": "stdout",
     "output_type": "stream",
     "text": [
      "True\n",
      "True\n",
      "True\n",
      "True\n"
     ]
    }
   ],
   "source": [
    "# CLT TESTS\n",
    "print(p_yes_placed*Confidence_Intervals_yes_sample_size>5)\n",
    "print((1-p_yes_placed)*Confidence_Intervals_yes_sample_size>5)\n",
    "\n",
    "print(p_no_placed*Confidence_Intervals_no_sample_size>5)\n",
    "print((1-p_no_placed)*Confidence_Intervals_no_sample_size>5)"
   ]
  },
  {
   "cell_type": "code",
   "execution_count": 611,
   "id": "7f1c7503",
   "metadata": {},
   "outputs": [
    {
     "data": {
      "text/plain": [
       "0.23913043478260865"
      ]
     },
     "execution_count": 611,
     "metadata": {},
     "output_type": "execute_result"
    }
   ],
   "source": [
    "p1_p2 = p_yes_placed-p_no_placed\n",
    "p1_p2"
   ]
  },
  {
   "cell_type": "code",
   "execution_count": 652,
   "id": "3f74c948",
   "metadata": {},
   "outputs": [],
   "source": [
    "confidence_level = 0.95"
   ]
  },
  {
   "cell_type": "code",
   "execution_count": 653,
   "id": "e6386cda",
   "metadata": {},
   "outputs": [
    {
     "data": {
      "text/plain": [
       "0.050000000000000044"
      ]
     },
     "execution_count": 653,
     "metadata": {},
     "output_type": "execute_result"
    }
   ],
   "source": [
    "alpha = 1-confidence_level\n",
    "alpha"
   ]
  },
  {
   "cell_type": "code",
   "execution_count": 654,
   "id": "fcb1c179",
   "metadata": {},
   "outputs": [
    {
     "data": {
      "text/plain": [
       "1.959963984540054"
      ]
     },
     "execution_count": 654,
     "metadata": {},
     "output_type": "execute_result"
    }
   ],
   "source": [
    "critical_value_z = stats.norm.ppf(1-(alpha/2))\n",
    "critical_value_z"
   ]
  },
  {
   "cell_type": "code",
   "execution_count": 655,
   "id": "cbebd3a2",
   "metadata": {},
   "outputs": [
    {
     "data": {
      "text/plain": [
       "0.10888321351673119"
      ]
     },
     "execution_count": 655,
     "metadata": {},
     "output_type": "execute_result"
    }
   ],
   "source": [
    "standard_error = np.sqrt(((p_yes_placed*(1-p_yes_placed))/Confidence_Intervals_yes_sample_size)+((p_no_placed*(1-p_no_placed))/Confidence_Intervals_no_sample_size))\n",
    "standard_error"
   ]
  },
  {
   "cell_type": "code",
   "execution_count": 656,
   "id": "a00ba8f5",
   "metadata": {},
   "outputs": [
    {
     "data": {
      "text/plain": [
       "0.21340717701377793"
      ]
     },
     "execution_count": 656,
     "metadata": {},
     "output_type": "execute_result"
    }
   ],
   "source": [
    "margin_of_error = standard_error*critical_value_z\n",
    "margin_of_error"
   ]
  },
  {
   "cell_type": "code",
   "execution_count": 660,
   "id": "8e6428b7",
   "metadata": {},
   "outputs": [
    {
     "data": {
      "text/plain": [
       "[2.572325776883072, 45.25376117963866]"
      ]
     },
     "execution_count": 660,
     "metadata": {},
     "output_type": "execute_result"
    }
   ],
   "source": [
    "confidence_interval = [(p1_p2 - margin_of_error)*100, (p1_p2 + margin_of_error)*100]\n",
    "confidence_interval"
   ]
  },
  {
   "cell_type": "code",
   "execution_count": null,
   "id": "9037cf5b",
   "metadata": {},
   "outputs": [],
   "source": [
    "# NULL HYPOTHESIS"
   ]
  },
  {
   "cell_type": "code",
   "execution_count": 704,
   "id": "78dba2a0",
   "metadata": {},
   "outputs": [],
   "source": [
    "# We're currently stating that our graduates will achieve average employability scores of 300, is that true based on our first graduating class? (I'd be willing to be wrong 1 in 10 times)"
   ]
  },
  {
   "cell_type": "code",
   "execution_count": 702,
   "id": "be539e70",
   "metadata": {},
   "outputs": [],
   "source": [
    "Test_Statistic_df = pd.read_csv('Test Statistic.csv')"
   ]
  },
  {
   "cell_type": "code",
   "execution_count": 703,
   "id": "553a0f29",
   "metadata": {},
   "outputs": [
    {
     "data": {
      "text/html": [
       "<div>\n",
       "<style scoped>\n",
       "    .dataframe tbody tr th:only-of-type {\n",
       "        vertical-align: middle;\n",
       "    }\n",
       "\n",
       "    .dataframe tbody tr th {\n",
       "        vertical-align: top;\n",
       "    }\n",
       "\n",
       "    .dataframe thead th {\n",
       "        text-align: right;\n",
       "    }\n",
       "</style>\n",
       "<table border=\"1\" class=\"dataframe\">\n",
       "  <thead>\n",
       "    <tr style=\"text-align: right;\">\n",
       "      <th></th>\n",
       "      <th>Employability (After)</th>\n",
       "    </tr>\n",
       "  </thead>\n",
       "  <tbody>\n",
       "    <tr>\n",
       "      <th>0</th>\n",
       "      <td>276</td>\n",
       "    </tr>\n",
       "    <tr>\n",
       "      <th>1</th>\n",
       "      <td>410</td>\n",
       "    </tr>\n",
       "    <tr>\n",
       "      <th>2</th>\n",
       "      <td>119</td>\n",
       "    </tr>\n",
       "    <tr>\n",
       "      <th>3</th>\n",
       "      <td>334</td>\n",
       "    </tr>\n",
       "    <tr>\n",
       "      <th>4</th>\n",
       "      <td>252</td>\n",
       "    </tr>\n",
       "  </tbody>\n",
       "</table>\n",
       "</div>"
      ],
      "text/plain": [
       "   Employability (After)\n",
       "0                    276\n",
       "1                    410\n",
       "2                    119\n",
       "3                    334\n",
       "4                    252"
      ]
     },
     "execution_count": 703,
     "metadata": {},
     "output_type": "execute_result"
    }
   ],
   "source": [
    "Test_Statistic_df.head()"
   ]
  },
  {
   "cell_type": "code",
   "execution_count": 705,
   "id": "cb5c3183",
   "metadata": {},
   "outputs": [],
   "source": [
    "h_n = 300"
   ]
  },
  {
   "cell_type": "code",
   "execution_count": 706,
   "id": "00a354c5",
   "metadata": {},
   "outputs": [
    {
     "data": {
      "text/plain": [
       "0.1"
      ]
     },
     "execution_count": 706,
     "metadata": {},
     "output_type": "execute_result"
    }
   ],
   "source": [
    "alpha = 1/10\n",
    "alpha"
   ]
  },
  {
   "cell_type": "code",
   "execution_count": 707,
   "id": "ca78cc7b",
   "metadata": {},
   "outputs": [
    {
     "data": {
      "text/plain": [
       "95"
      ]
     },
     "execution_count": 707,
     "metadata": {},
     "output_type": "execute_result"
    }
   ],
   "source": [
    "sample_size = len(Test_Statistic_df)\n",
    "sample_size"
   ]
  },
  {
   "cell_type": "code",
   "execution_count": 709,
   "id": "00046c93",
   "metadata": {},
   "outputs": [
    {
     "data": {
      "text/plain": [
       "289.34736842105264"
      ]
     },
     "execution_count": 709,
     "metadata": {},
     "output_type": "execute_result"
    }
   ],
   "source": [
    "sample_mean = Test_Statistic_df.mean().values[0]\n",
    "sample_mean"
   ]
  },
  {
   "cell_type": "code",
   "execution_count": 710,
   "id": "f1567f7c",
   "metadata": {},
   "outputs": [
    {
     "data": {
      "text/plain": [
       "93.52104876523815"
      ]
     },
     "execution_count": 710,
     "metadata": {},
     "output_type": "execute_result"
    }
   ],
   "source": [
    "sample_std = Test_Statistic_df.std().values[0]\n",
    "sample_std"
   ]
  },
  {
   "cell_type": "code",
   "execution_count": 712,
   "id": "b934a972",
   "metadata": {},
   "outputs": [
    {
     "data": {
      "text/plain": [
       "9.595057149743438"
      ]
     },
     "execution_count": 712,
     "metadata": {},
     "output_type": "execute_result"
    }
   ],
   "source": [
    "standard_error = sample_std/np.sqrt(sample_size)\n",
    "standard_error"
   ]
  },
  {
   "cell_type": "code",
   "execution_count": 713,
   "id": "068e00c6",
   "metadata": {},
   "outputs": [
    {
     "data": {
      "text/plain": [
       "-1.1102207535295614"
      ]
     },
     "execution_count": 713,
     "metadata": {},
     "output_type": "execute_result"
    }
   ],
   "source": [
    "test_statistic = (sample_mean-h_n)/standard_error\n",
    "test_statistic"
   ]
  },
  {
   "cell_type": "code",
   "execution_count": 720,
   "id": "839015f7",
   "metadata": {},
   "outputs": [
    {
     "data": {
      "text/plain": [
       "0.2697358988443296"
      ]
     },
     "execution_count": 720,
     "metadata": {},
     "output_type": "execute_result"
    }
   ],
   "source": [
    "p_value = stats.t.cdf(test_statistic, df=sample_size-1)*2\n",
    "p_value"
   ]
  },
  {
   "cell_type": "code",
   "execution_count": 721,
   "id": "7de01aa9",
   "metadata": {},
   "outputs": [
    {
     "name": "stdout",
     "output_type": "stream",
     "text": [
      "Failed to reject the null hypothesis, the assumption is true\n"
     ]
    }
   ],
   "source": [
    "if p_value > alpha:\n",
    "    print('Failed to reject the null hypothesis, the assumption is true')\n",
    "else:\n",
    "    print('Reject the null hypothesis, the assumption is false')"
   ]
  },
  {
   "cell_type": "code",
   "execution_count": 722,
   "id": "4708d914",
   "metadata": {},
   "outputs": [],
   "source": [
    "# RIGHT TALE\n",
    "# We're assuming average employability scores of 300 from our graduates… but are they higher than 300 for placed graduates? (let's accept a 15% chance of type I error)"
   ]
  },
  {
   "cell_type": "code",
   "execution_count": 723,
   "id": "9319e0bc",
   "metadata": {},
   "outputs": [],
   "source": [
    "One_Tail_Hypothesis_Test_df = pd.read_csv('One Tail Hypothesis Test.csv')"
   ]
  },
  {
   "cell_type": "code",
   "execution_count": 724,
   "id": "698f0d9c",
   "metadata": {},
   "outputs": [
    {
     "data": {
      "text/html": [
       "<div>\n",
       "<style scoped>\n",
       "    .dataframe tbody tr th:only-of-type {\n",
       "        vertical-align: middle;\n",
       "    }\n",
       "\n",
       "    .dataframe tbody tr th {\n",
       "        vertical-align: top;\n",
       "    }\n",
       "\n",
       "    .dataframe thead th {\n",
       "        text-align: right;\n",
       "    }\n",
       "</style>\n",
       "<table border=\"1\" class=\"dataframe\">\n",
       "  <thead>\n",
       "    <tr style=\"text-align: right;\">\n",
       "      <th></th>\n",
       "      <th>Employability (After)</th>\n",
       "      <th>Status</th>\n",
       "    </tr>\n",
       "  </thead>\n",
       "  <tbody>\n",
       "    <tr>\n",
       "      <th>0</th>\n",
       "      <td>276</td>\n",
       "      <td>Placed</td>\n",
       "    </tr>\n",
       "    <tr>\n",
       "      <th>1</th>\n",
       "      <td>410</td>\n",
       "      <td>Not Placed</td>\n",
       "    </tr>\n",
       "    <tr>\n",
       "      <th>2</th>\n",
       "      <td>119</td>\n",
       "      <td>Placed</td>\n",
       "    </tr>\n",
       "    <tr>\n",
       "      <th>3</th>\n",
       "      <td>334</td>\n",
       "      <td>Not Placed</td>\n",
       "    </tr>\n",
       "    <tr>\n",
       "      <th>4</th>\n",
       "      <td>252</td>\n",
       "      <td>Not Placed</td>\n",
       "    </tr>\n",
       "  </tbody>\n",
       "</table>\n",
       "</div>"
      ],
      "text/plain": [
       "   Employability (After)      Status\n",
       "0                    276      Placed\n",
       "1                    410  Not Placed\n",
       "2                    119      Placed\n",
       "3                    334  Not Placed\n",
       "4                    252  Not Placed"
      ]
     },
     "execution_count": 724,
     "metadata": {},
     "output_type": "execute_result"
    }
   ],
   "source": [
    "One_Tail_Hypothesis_Test_df.head()"
   ]
  },
  {
   "cell_type": "code",
   "execution_count": 725,
   "id": "3d56d6a9",
   "metadata": {},
   "outputs": [],
   "source": [
    "h_null = 300"
   ]
  },
  {
   "cell_type": "code",
   "execution_count": 726,
   "id": "03d13ccb",
   "metadata": {},
   "outputs": [],
   "source": [
    "alpha = 0.15"
   ]
  },
  {
   "cell_type": "code",
   "execution_count": 730,
   "id": "4b857d7d",
   "metadata": {},
   "outputs": [
    {
     "data": {
      "text/plain": [
       "53"
      ]
     },
     "execution_count": 730,
     "metadata": {},
     "output_type": "execute_result"
    }
   ],
   "source": [
    "sample_size = One_Tail_Hypothesis_Test_df.Status.value_counts()[0]\n",
    "sample_size"
   ]
  },
  {
   "cell_type": "code",
   "execution_count": 733,
   "id": "125a9e00",
   "metadata": {},
   "outputs": [
    {
     "data": {
      "text/plain": [
       "320.52830188679246"
      ]
     },
     "execution_count": 733,
     "metadata": {},
     "output_type": "execute_result"
    }
   ],
   "source": [
    "sample_mean = One_Tail_Hypothesis_Test_df['Employability (After)'][One_Tail_Hypothesis_Test_df.Status == 'Placed'].mean()\n",
    "sample_mean"
   ]
  },
  {
   "cell_type": "code",
   "execution_count": 734,
   "id": "17622d05",
   "metadata": {},
   "outputs": [
    {
     "data": {
      "text/plain": [
       "86.48579335839031"
      ]
     },
     "execution_count": 734,
     "metadata": {},
     "output_type": "execute_result"
    }
   ],
   "source": [
    "sample_std = One_Tail_Hypothesis_Test_df['Employability (After)'][One_Tail_Hypothesis_Test_df.Status == 'Placed'].std()\n",
    "sample_std"
   ]
  },
  {
   "cell_type": "code",
   "execution_count": 735,
   "id": "48df8394",
   "metadata": {},
   "outputs": [
    {
     "data": {
      "text/plain": [
       "11.879737349258278"
      ]
     },
     "execution_count": 735,
     "metadata": {},
     "output_type": "execute_result"
    }
   ],
   "source": [
    "standard_error = sample_std/np.sqrt(sample_size)\n",
    "standard_error"
   ]
  },
  {
   "cell_type": "code",
   "execution_count": 736,
   "id": "ba5200ac",
   "metadata": {},
   "outputs": [
    {
     "data": {
      "text/plain": [
       "1.7280097432519554"
      ]
     },
     "execution_count": 736,
     "metadata": {},
     "output_type": "execute_result"
    }
   ],
   "source": [
    "test_statistic = (sample_mean-h_n)/standard_error\n",
    "test_statistic"
   ]
  },
  {
   "cell_type": "code",
   "execution_count": 739,
   "id": "30fba21b",
   "metadata": {},
   "outputs": [
    {
     "data": {
      "text/plain": [
       "0.044960734951048464"
      ]
     },
     "execution_count": 739,
     "metadata": {},
     "output_type": "execute_result"
    }
   ],
   "source": [
    "p_value = 1-stats.t.cdf(test_statistic, df=sample_size-1)\n",
    "p_value"
   ]
  },
  {
   "cell_type": "code",
   "execution_count": 740,
   "id": "9b970c82",
   "metadata": {},
   "outputs": [
    {
     "name": "stdout",
     "output_type": "stream",
     "text": [
      "Reject the null hypothesis, the assumption is false\n"
     ]
    }
   ],
   "source": [
    "if p_value > alpha:\n",
    "    print('Failed to reject the null hypothesis, the assumption is true')\n",
    "else:\n",
    "    print('Reject the null hypothesis, the assumption is false')"
   ]
  },
  {
   "cell_type": "code",
   "execution_count": 741,
   "id": "4569267b",
   "metadata": {},
   "outputs": [],
   "source": [
    "# Can we be 95% sure that over half of our placed graduates earn six digits?"
   ]
  },
  {
   "cell_type": "code",
   "execution_count": 742,
   "id": "40870ee9",
   "metadata": {},
   "outputs": [],
   "source": [
    "Confidence_Intervals_df = pd.read_csv('Confidence Intervals (z).csv')"
   ]
  },
  {
   "cell_type": "code",
   "execution_count": 743,
   "id": "9b9bd851",
   "metadata": {},
   "outputs": [
    {
     "data": {
      "text/html": [
       "<div>\n",
       "<style scoped>\n",
       "    .dataframe tbody tr th:only-of-type {\n",
       "        vertical-align: middle;\n",
       "    }\n",
       "\n",
       "    .dataframe tbody tr th {\n",
       "        vertical-align: top;\n",
       "    }\n",
       "\n",
       "    .dataframe thead th {\n",
       "        text-align: right;\n",
       "    }\n",
       "</style>\n",
       "<table border=\"1\" class=\"dataframe\">\n",
       "  <thead>\n",
       "    <tr style=\"text-align: right;\">\n",
       "      <th></th>\n",
       "      <th>Annual Salary</th>\n",
       "    </tr>\n",
       "  </thead>\n",
       "  <tbody>\n",
       "    <tr>\n",
       "      <th>0</th>\n",
       "      <td>$111,000</td>\n",
       "    </tr>\n",
       "    <tr>\n",
       "      <th>1</th>\n",
       "      <td>$107,000</td>\n",
       "    </tr>\n",
       "    <tr>\n",
       "      <th>2</th>\n",
       "      <td>$109,000</td>\n",
       "    </tr>\n",
       "    <tr>\n",
       "      <th>3</th>\n",
       "      <td>$148,000</td>\n",
       "    </tr>\n",
       "    <tr>\n",
       "      <th>4</th>\n",
       "      <td>$255,500</td>\n",
       "    </tr>\n",
       "  </tbody>\n",
       "</table>\n",
       "</div>"
      ],
      "text/plain": [
       "  Annual Salary\n",
       "0     $111,000 \n",
       "1     $107,000 \n",
       "2     $109,000 \n",
       "3     $148,000 \n",
       "4     $255,500 "
      ]
     },
     "execution_count": 743,
     "metadata": {},
     "output_type": "execute_result"
    }
   ],
   "source": [
    "Confidence_Intervals_df.head()"
   ]
  },
  {
   "cell_type": "code",
   "execution_count": 744,
   "id": "e97075a6",
   "metadata": {},
   "outputs": [],
   "source": [
    "Confidence_Intervals_df['Annual Salary'] = Confidence_Intervals_df['Annual Salary'].astype(str).str.replace('$', '', regex=False)\n",
    "Confidence_Intervals_df['Annual Salary'] = Confidence_Intervals_df['Annual Salary'].astype(str).str.replace(',', '', regex=False)\n",
    "Confidence_Intervals_df['Annual Salary'] = pd.to_numeric(Confidence_Intervals_df['Annual Salary'])"
   ]
  },
  {
   "cell_type": "code",
   "execution_count": 745,
   "id": "480a39e4",
   "metadata": {},
   "outputs": [
    {
     "data": {
      "text/html": [
       "<div>\n",
       "<style scoped>\n",
       "    .dataframe tbody tr th:only-of-type {\n",
       "        vertical-align: middle;\n",
       "    }\n",
       "\n",
       "    .dataframe tbody tr th {\n",
       "        vertical-align: top;\n",
       "    }\n",
       "\n",
       "    .dataframe thead th {\n",
       "        text-align: right;\n",
       "    }\n",
       "</style>\n",
       "<table border=\"1\" class=\"dataframe\">\n",
       "  <thead>\n",
       "    <tr style=\"text-align: right;\">\n",
       "      <th></th>\n",
       "      <th>Annual Salary</th>\n",
       "    </tr>\n",
       "  </thead>\n",
       "  <tbody>\n",
       "    <tr>\n",
       "      <th>0</th>\n",
       "      <td>111000</td>\n",
       "    </tr>\n",
       "    <tr>\n",
       "      <th>1</th>\n",
       "      <td>107000</td>\n",
       "    </tr>\n",
       "    <tr>\n",
       "      <th>2</th>\n",
       "      <td>109000</td>\n",
       "    </tr>\n",
       "    <tr>\n",
       "      <th>3</th>\n",
       "      <td>148000</td>\n",
       "    </tr>\n",
       "    <tr>\n",
       "      <th>4</th>\n",
       "      <td>255500</td>\n",
       "    </tr>\n",
       "  </tbody>\n",
       "</table>\n",
       "</div>"
      ],
      "text/plain": [
       "   Annual Salary\n",
       "0         111000\n",
       "1         107000\n",
       "2         109000\n",
       "3         148000\n",
       "4         255500"
      ]
     },
     "execution_count": 745,
     "metadata": {},
     "output_type": "execute_result"
    }
   ],
   "source": [
    "Confidence_Intervals_df.head()"
   ]
  },
  {
   "cell_type": "code",
   "execution_count": 747,
   "id": "4a110836",
   "metadata": {},
   "outputs": [
    {
     "data": {
      "text/plain": [
       "53"
      ]
     },
     "execution_count": 747,
     "metadata": {},
     "output_type": "execute_result"
    }
   ],
   "source": [
    "sample_size = len(Confidence_Intervals_df)\n",
    "sample_size"
   ]
  },
  {
   "cell_type": "code",
   "execution_count": 755,
   "id": "5cb7c381",
   "metadata": {},
   "outputs": [
    {
     "data": {
      "text/plain": [
       "0.6415094339622641"
      ]
     },
     "execution_count": 755,
     "metadata": {},
     "output_type": "execute_result"
    }
   ],
   "source": [
    "p = Confidence_Intervals_df[Confidence_Intervals_df.values > 100000].count()[0]/len(Confidence_Intervals_df)\n",
    "p"
   ]
  },
  {
   "cell_type": "code",
   "execution_count": 756,
   "id": "89d325a7",
   "metadata": {},
   "outputs": [
    {
     "data": {
      "text/plain": [
       "0.3584905660377359"
      ]
     },
     "execution_count": 756,
     "metadata": {},
     "output_type": "execute_result"
    }
   ],
   "source": [
    "p_1 = 1-p\n",
    "p_1"
   ]
  },
  {
   "cell_type": "code",
   "execution_count": 757,
   "id": "b24a396c",
   "metadata": {},
   "outputs": [
    {
     "name": "stdout",
     "output_type": "stream",
     "text": [
      "True\n",
      "True\n"
     ]
    }
   ],
   "source": [
    "# CLT TESTS\n",
    "print(p*sample_size>5)\n",
    "print(p_1*sample_size>5)"
   ]
  },
  {
   "cell_type": "code",
   "execution_count": 758,
   "id": "3b4b5576",
   "metadata": {},
   "outputs": [],
   "source": [
    "h_null = 0.5"
   ]
  },
  {
   "cell_type": "code",
   "execution_count": 759,
   "id": "88d8f005",
   "metadata": {},
   "outputs": [],
   "source": [
    "alpha = 0.05"
   ]
  },
  {
   "cell_type": "code",
   "execution_count": 761,
   "id": "48d473a9",
   "metadata": {},
   "outputs": [
    {
     "data": {
      "text/plain": [
       "0.06587224343159216"
      ]
     },
     "execution_count": 761,
     "metadata": {},
     "output_type": "execute_result"
    }
   ],
   "source": [
    "standard_error = np.sqrt((p*p_1)/sample_size)\n",
    "standard_error"
   ]
  },
  {
   "cell_type": "code",
   "execution_count": 763,
   "id": "8ed07e00",
   "metadata": {},
   "outputs": [
    {
     "data": {
      "text/plain": [
       "2.14824069426481"
      ]
     },
     "execution_count": 763,
     "metadata": {},
     "output_type": "execute_result"
    }
   ],
   "source": [
    "test_statistic_z = (p-h_null)/standard_error\n",
    "test_statistic_z"
   ]
  },
  {
   "cell_type": "code",
   "execution_count": 765,
   "id": "5899342b",
   "metadata": {},
   "outputs": [
    {
     "data": {
      "text/plain": [
       "0.015847319730759257"
      ]
     },
     "execution_count": 765,
     "metadata": {},
     "output_type": "execute_result"
    }
   ],
   "source": [
    "p_value = 1-stats.norm.cdf(test_statistic_z)\n",
    "p_value"
   ]
  },
  {
   "cell_type": "code",
   "execution_count": 766,
   "id": "417f1477",
   "metadata": {},
   "outputs": [
    {
     "name": "stdout",
     "output_type": "stream",
     "text": [
      "Reject the null hypothesis, the assumption is false\n"
     ]
    }
   ],
   "source": [
    "if p_value > alpha:\n",
    "    print('Failed to reject the null hypothesis, the assumption is true')\n",
    "else:\n",
    "    print('Reject the null hypothesis, the assumption is false')"
   ]
  },
  {
   "cell_type": "code",
   "execution_count": 767,
   "id": "419386e0",
   "metadata": {},
   "outputs": [],
   "source": [
    "# DEPENDENT VARIABLES\n",
    "# Are we ok with assuming that student's employability scores are improving by an average of 50 points after the MBA program?"
   ]
  },
  {
   "cell_type": "code",
   "execution_count": 768,
   "id": "13a0f0c2",
   "metadata": {},
   "outputs": [],
   "source": [
    "Confidence_Intervals_d_df = pd.read_csv('Confidence Intervals (d).csv')"
   ]
  },
  {
   "cell_type": "code",
   "execution_count": 769,
   "id": "eae34120",
   "metadata": {},
   "outputs": [
    {
     "data": {
      "text/html": [
       "<div>\n",
       "<style scoped>\n",
       "    .dataframe tbody tr th:only-of-type {\n",
       "        vertical-align: middle;\n",
       "    }\n",
       "\n",
       "    .dataframe tbody tr th {\n",
       "        vertical-align: top;\n",
       "    }\n",
       "\n",
       "    .dataframe thead th {\n",
       "        text-align: right;\n",
       "    }\n",
       "</style>\n",
       "<table border=\"1\" class=\"dataframe\">\n",
       "  <thead>\n",
       "    <tr style=\"text-align: right;\">\n",
       "      <th></th>\n",
       "      <th>Student ID</th>\n",
       "      <th>Employability (Before)</th>\n",
       "      <th>Employability (After)</th>\n",
       "    </tr>\n",
       "  </thead>\n",
       "  <tbody>\n",
       "    <tr>\n",
       "      <th>0</th>\n",
       "      <td>1</td>\n",
       "      <td>252</td>\n",
       "      <td>276</td>\n",
       "    </tr>\n",
       "    <tr>\n",
       "      <th>1</th>\n",
       "      <td>2</td>\n",
       "      <td>423</td>\n",
       "      <td>410</td>\n",
       "    </tr>\n",
       "    <tr>\n",
       "      <th>2</th>\n",
       "      <td>3</td>\n",
       "      <td>101</td>\n",
       "      <td>119</td>\n",
       "    </tr>\n",
       "    <tr>\n",
       "      <th>3</th>\n",
       "      <td>4</td>\n",
       "      <td>288</td>\n",
       "      <td>334</td>\n",
       "    </tr>\n",
       "    <tr>\n",
       "      <th>4</th>\n",
       "      <td>5</td>\n",
       "      <td>248</td>\n",
       "      <td>252</td>\n",
       "    </tr>\n",
       "  </tbody>\n",
       "</table>\n",
       "</div>"
      ],
      "text/plain": [
       "   Student ID  Employability (Before)  Employability (After)\n",
       "0           1                     252                    276\n",
       "1           2                     423                    410\n",
       "2           3                     101                    119\n",
       "3           4                     288                    334\n",
       "4           5                     248                    252"
      ]
     },
     "execution_count": 769,
     "metadata": {},
     "output_type": "execute_result"
    }
   ],
   "source": [
    "Confidence_Intervals_d_df.head()"
   ]
  },
  {
   "cell_type": "code",
   "execution_count": 770,
   "id": "03359a9c",
   "metadata": {},
   "outputs": [],
   "source": [
    "Confidence_Intervals_d_df['Diff'] = Confidence_Intervals_d_df['Employability (After)'] - Confidence_Intervals_d_df['Employability (Before)']"
   ]
  },
  {
   "cell_type": "code",
   "execution_count": 771,
   "id": "886e0066",
   "metadata": {},
   "outputs": [
    {
     "data": {
      "text/html": [
       "<div>\n",
       "<style scoped>\n",
       "    .dataframe tbody tr th:only-of-type {\n",
       "        vertical-align: middle;\n",
       "    }\n",
       "\n",
       "    .dataframe tbody tr th {\n",
       "        vertical-align: top;\n",
       "    }\n",
       "\n",
       "    .dataframe thead th {\n",
       "        text-align: right;\n",
       "    }\n",
       "</style>\n",
       "<table border=\"1\" class=\"dataframe\">\n",
       "  <thead>\n",
       "    <tr style=\"text-align: right;\">\n",
       "      <th></th>\n",
       "      <th>Student ID</th>\n",
       "      <th>Employability (Before)</th>\n",
       "      <th>Employability (After)</th>\n",
       "      <th>Diff</th>\n",
       "    </tr>\n",
       "  </thead>\n",
       "  <tbody>\n",
       "    <tr>\n",
       "      <th>0</th>\n",
       "      <td>1</td>\n",
       "      <td>252</td>\n",
       "      <td>276</td>\n",
       "      <td>24</td>\n",
       "    </tr>\n",
       "    <tr>\n",
       "      <th>1</th>\n",
       "      <td>2</td>\n",
       "      <td>423</td>\n",
       "      <td>410</td>\n",
       "      <td>-13</td>\n",
       "    </tr>\n",
       "    <tr>\n",
       "      <th>2</th>\n",
       "      <td>3</td>\n",
       "      <td>101</td>\n",
       "      <td>119</td>\n",
       "      <td>18</td>\n",
       "    </tr>\n",
       "    <tr>\n",
       "      <th>3</th>\n",
       "      <td>4</td>\n",
       "      <td>288</td>\n",
       "      <td>334</td>\n",
       "      <td>46</td>\n",
       "    </tr>\n",
       "    <tr>\n",
       "      <th>4</th>\n",
       "      <td>5</td>\n",
       "      <td>248</td>\n",
       "      <td>252</td>\n",
       "      <td>4</td>\n",
       "    </tr>\n",
       "  </tbody>\n",
       "</table>\n",
       "</div>"
      ],
      "text/plain": [
       "   Student ID  Employability (Before)  Employability (After)  Diff\n",
       "0           1                     252                    276    24\n",
       "1           2                     423                    410   -13\n",
       "2           3                     101                    119    18\n",
       "3           4                     288                    334    46\n",
       "4           5                     248                    252     4"
      ]
     },
     "execution_count": 771,
     "metadata": {},
     "output_type": "execute_result"
    }
   ],
   "source": [
    "Confidence_Intervals_d_df.head()"
   ]
  },
  {
   "cell_type": "code",
   "execution_count": 773,
   "id": "5b34ef98",
   "metadata": {},
   "outputs": [
    {
     "data": {
      "text/plain": [
       "95"
      ]
     },
     "execution_count": 773,
     "metadata": {},
     "output_type": "execute_result"
    }
   ],
   "source": [
    "sample_size = len(Confidence_Intervals_d_df)\n",
    "sample_size"
   ]
  },
  {
   "cell_type": "code",
   "execution_count": 774,
   "id": "2b37a434",
   "metadata": {},
   "outputs": [
    {
     "data": {
      "text/plain": [
       "49.44210526315789"
      ]
     },
     "execution_count": 774,
     "metadata": {},
     "output_type": "execute_result"
    }
   ],
   "source": [
    "sample_mean = Confidence_Intervals_d_df.Diff.mean()\n",
    "sample_mean"
   ]
  },
  {
   "cell_type": "code",
   "execution_count": 775,
   "id": "e5e83381",
   "metadata": {},
   "outputs": [
    {
     "data": {
      "text/plain": [
       "29.655007753875545"
      ]
     },
     "execution_count": 775,
     "metadata": {},
     "output_type": "execute_result"
    }
   ],
   "source": [
    "sample_std = Confidence_Intervals_d_df.Diff.std()\n",
    "sample_std"
   ]
  },
  {
   "cell_type": "code",
   "execution_count": 776,
   "id": "5f9c6957",
   "metadata": {},
   "outputs": [],
   "source": [
    "h_null = 50"
   ]
  },
  {
   "cell_type": "code",
   "execution_count": 777,
   "id": "bfd21b00",
   "metadata": {},
   "outputs": [],
   "source": [
    "alpha = 0.02"
   ]
  },
  {
   "cell_type": "code",
   "execution_count": 778,
   "id": "527c7a70",
   "metadata": {},
   "outputs": [
    {
     "data": {
      "text/plain": [
       "3.04253959863937"
      ]
     },
     "execution_count": 778,
     "metadata": {},
     "output_type": "execute_result"
    }
   ],
   "source": [
    "standard_error = sample_std/np.sqrt(sample_size)\n",
    "standard_error"
   ]
  },
  {
   "cell_type": "code",
   "execution_count": 779,
   "id": "2e4ce7be",
   "metadata": {},
   "outputs": [
    {
     "data": {
      "text/plain": [
       "-0.183364823613668"
      ]
     },
     "execution_count": 779,
     "metadata": {},
     "output_type": "execute_result"
    }
   ],
   "source": [
    "test_statistic = (sample_mean-h_null)/standard_error\n",
    "test_statistic"
   ]
  },
  {
   "cell_type": "code",
   "execution_count": 781,
   "id": "aea5477b",
   "metadata": {},
   "outputs": [
    {
     "data": {
      "text/plain": [
       "0.42745335670268647"
      ]
     },
     "execution_count": 781,
     "metadata": {},
     "output_type": "execute_result"
    }
   ],
   "source": [
    "p_value = stats.t.cdf(test_statistic, df=sample_size-1)\n",
    "p_value"
   ]
  },
  {
   "cell_type": "code",
   "execution_count": 782,
   "id": "6ab35378",
   "metadata": {},
   "outputs": [
    {
     "name": "stdout",
     "output_type": "stream",
     "text": [
      "Failed to reject the null hypothesis, the assumption is true\n"
     ]
    }
   ],
   "source": [
    "if p_value > alpha:\n",
    "    print('Failed to reject the null hypothesis, the assumption is true')\n",
    "else:\n",
    "    print('Reject the null hypothesis, the assumption is false')"
   ]
  },
  {
   "cell_type": "code",
   "execution_count": 783,
   "id": "1976b75d",
   "metadata": {},
   "outputs": [],
   "source": [
    "# INDEPENDENT SAMPLES\n",
    "# Can we prove with 99% certainty that graduates with previous work experience earn more on average than those without?"
   ]
  },
  {
   "cell_type": "code",
   "execution_count": 784,
   "id": "e9ae64bc",
   "metadata": {},
   "outputs": [],
   "source": [
    "Hypothesis_Tests_x1_x2_df = pd.read_csv('Hypothesis Tests (x1-x2).csv')"
   ]
  },
  {
   "cell_type": "code",
   "execution_count": 785,
   "id": "716d917a",
   "metadata": {},
   "outputs": [
    {
     "data": {
      "text/html": [
       "<div>\n",
       "<style scoped>\n",
       "    .dataframe tbody tr th:only-of-type {\n",
       "        vertical-align: middle;\n",
       "    }\n",
       "\n",
       "    .dataframe tbody tr th {\n",
       "        vertical-align: top;\n",
       "    }\n",
       "\n",
       "    .dataframe thead th {\n",
       "        text-align: right;\n",
       "    }\n",
       "</style>\n",
       "<table border=\"1\" class=\"dataframe\">\n",
       "  <thead>\n",
       "    <tr style=\"text-align: right;\">\n",
       "      <th></th>\n",
       "      <th>Work Experience</th>\n",
       "      <th>Annual Salary</th>\n",
       "    </tr>\n",
       "  </thead>\n",
       "  <tbody>\n",
       "    <tr>\n",
       "      <th>0</th>\n",
       "      <td>No</td>\n",
       "      <td>$111,000</td>\n",
       "    </tr>\n",
       "    <tr>\n",
       "      <th>1</th>\n",
       "      <td>Yes</td>\n",
       "      <td>$107,000</td>\n",
       "    </tr>\n",
       "    <tr>\n",
       "      <th>2</th>\n",
       "      <td>No</td>\n",
       "      <td>$109,000</td>\n",
       "    </tr>\n",
       "    <tr>\n",
       "      <th>3</th>\n",
       "      <td>No</td>\n",
       "      <td>$148,000</td>\n",
       "    </tr>\n",
       "    <tr>\n",
       "      <th>4</th>\n",
       "      <td>No</td>\n",
       "      <td>$255,500</td>\n",
       "    </tr>\n",
       "  </tbody>\n",
       "</table>\n",
       "</div>"
      ],
      "text/plain": [
       "  Work Experience Annual Salary\n",
       "0              No     $111,000 \n",
       "1             Yes     $107,000 \n",
       "2              No     $109,000 \n",
       "3              No     $148,000 \n",
       "4              No     $255,500 "
      ]
     },
     "execution_count": 785,
     "metadata": {},
     "output_type": "execute_result"
    }
   ],
   "source": [
    "Hypothesis_Tests_x1_x2_df.head()"
   ]
  },
  {
   "cell_type": "code",
   "execution_count": 786,
   "id": "9fa1292a",
   "metadata": {},
   "outputs": [],
   "source": [
    "Hypothesis_Tests_x1_x2_df['Annual Salary'] = Hypothesis_Tests_x1_x2_df['Annual Salary'].astype(str).str.replace('$', '', regex=False)\n",
    "Hypothesis_Tests_x1_x2_df['Annual Salary'] = Hypothesis_Tests_x1_x2_df['Annual Salary'].astype(str).str.replace(',', '', regex=False)\n",
    "Hypothesis_Tests_x1_x2_df['Annual Salary'] = pd.to_numeric(Hypothesis_Tests_x1_x2_df['Annual Salary'])"
   ]
  },
  {
   "cell_type": "code",
   "execution_count": 787,
   "id": "0c4f2b74",
   "metadata": {},
   "outputs": [
    {
     "data": {
      "text/html": [
       "<div>\n",
       "<style scoped>\n",
       "    .dataframe tbody tr th:only-of-type {\n",
       "        vertical-align: middle;\n",
       "    }\n",
       "\n",
       "    .dataframe tbody tr th {\n",
       "        vertical-align: top;\n",
       "    }\n",
       "\n",
       "    .dataframe thead th {\n",
       "        text-align: right;\n",
       "    }\n",
       "</style>\n",
       "<table border=\"1\" class=\"dataframe\">\n",
       "  <thead>\n",
       "    <tr style=\"text-align: right;\">\n",
       "      <th></th>\n",
       "      <th>Work Experience</th>\n",
       "      <th>Annual Salary</th>\n",
       "    </tr>\n",
       "  </thead>\n",
       "  <tbody>\n",
       "    <tr>\n",
       "      <th>0</th>\n",
       "      <td>No</td>\n",
       "      <td>111000</td>\n",
       "    </tr>\n",
       "    <tr>\n",
       "      <th>1</th>\n",
       "      <td>Yes</td>\n",
       "      <td>107000</td>\n",
       "    </tr>\n",
       "    <tr>\n",
       "      <th>2</th>\n",
       "      <td>No</td>\n",
       "      <td>109000</td>\n",
       "    </tr>\n",
       "    <tr>\n",
       "      <th>3</th>\n",
       "      <td>No</td>\n",
       "      <td>148000</td>\n",
       "    </tr>\n",
       "    <tr>\n",
       "      <th>4</th>\n",
       "      <td>No</td>\n",
       "      <td>255500</td>\n",
       "    </tr>\n",
       "  </tbody>\n",
       "</table>\n",
       "</div>"
      ],
      "text/plain": [
       "  Work Experience  Annual Salary\n",
       "0              No         111000\n",
       "1             Yes         107000\n",
       "2              No         109000\n",
       "3              No         148000\n",
       "4              No         255500"
      ]
     },
     "execution_count": 787,
     "metadata": {},
     "output_type": "execute_result"
    }
   ],
   "source": [
    "Hypothesis_Tests_x1_x2_df.head()"
   ]
  },
  {
   "cell_type": "code",
   "execution_count": 791,
   "id": "89c2e771",
   "metadata": {},
   "outputs": [
    {
     "data": {
      "text/plain": [
       "17"
      ]
     },
     "execution_count": 791,
     "metadata": {},
     "output_type": "execute_result"
    }
   ],
   "source": [
    "sample_size_yes = Hypothesis_Tests_x1_x2_df[Hypothesis_Tests_x1_x2_df['Work Experience'] == 'Yes'].count()[0]\n",
    "sample_size_yes"
   ]
  },
  {
   "cell_type": "code",
   "execution_count": 792,
   "id": "4b69bd36",
   "metadata": {},
   "outputs": [
    {
     "data": {
      "text/plain": [
       "36"
      ]
     },
     "execution_count": 792,
     "metadata": {},
     "output_type": "execute_result"
    }
   ],
   "source": [
    "sample_size_no = Hypothesis_Tests_x1_x2_df[Hypothesis_Tests_x1_x2_df['Work Experience'] == 'No'].count()[0]\n",
    "sample_size_no"
   ]
  },
  {
   "cell_type": "code",
   "execution_count": 793,
   "id": "c8227012",
   "metadata": {},
   "outputs": [
    {
     "data": {
      "text/plain": [
       "124647.05882352941"
      ]
     },
     "execution_count": 793,
     "metadata": {},
     "output_type": "execute_result"
    }
   ],
   "source": [
    "sample_mean_yes = Hypothesis_Tests_x1_x2_df['Annual Salary'][Hypothesis_Tests_x1_x2_df['Work Experience'] == 'Yes'].mean()\n",
    "sample_mean_yes"
   ]
  },
  {
   "cell_type": "code",
   "execution_count": 794,
   "id": "15198b73",
   "metadata": {},
   "outputs": [
    {
     "data": {
      "text/plain": [
       "116902.77777777778"
      ]
     },
     "execution_count": 794,
     "metadata": {},
     "output_type": "execute_result"
    }
   ],
   "source": [
    "sample_mean_no = Hypothesis_Tests_x1_x2_df['Annual Salary'][Hypothesis_Tests_x1_x2_df['Work Experience'] == 'No'].mean()\n",
    "sample_mean_no"
   ]
  },
  {
   "cell_type": "code",
   "execution_count": 799,
   "id": "568dd91f",
   "metadata": {},
   "outputs": [
    {
     "data": {
      "text/plain": [
       "3526773897.0588236"
      ]
     },
     "execution_count": 799,
     "metadata": {},
     "output_type": "execute_result"
    }
   ],
   "source": [
    "sample_variance_yes = Hypothesis_Tests_x1_x2_df['Annual Salary'][Hypothesis_Tests_x1_x2_df['Work Experience'] == 'Yes'].var()\n",
    "sample_variance_yes"
   ]
  },
  {
   "cell_type": "code",
   "execution_count": 796,
   "id": "b38ee69c",
   "metadata": {},
   "outputs": [
    {
     "data": {
      "text/plain": [
       "1450125992.0634923"
      ]
     },
     "execution_count": 796,
     "metadata": {},
     "output_type": "execute_result"
    }
   ],
   "source": [
    "sample_variance_no = Hypothesis_Tests_x1_x2_df['Annual Salary'][Hypothesis_Tests_x1_x2_df['Work Experience'] == 'No'].var()\n",
    "sample_variance_no"
   ]
  },
  {
   "cell_type": "code",
   "execution_count": 801,
   "id": "e5a850d7",
   "metadata": {},
   "outputs": [
    {
     "data": {
      "text/plain": [
       "207457288.06228375"
      ]
     },
     "execution_count": 801,
     "metadata": {},
     "output_type": "execute_result"
    }
   ],
   "source": [
    "s_n_yes = sample_variance_yes/sample_size_yes\n",
    "s_n_yes"
   ]
  },
  {
   "cell_type": "code",
   "execution_count": 802,
   "id": "475f0eab",
   "metadata": {},
   "outputs": [
    {
     "data": {
      "text/plain": [
       "40281277.55731923"
      ]
     },
     "execution_count": 802,
     "metadata": {},
     "output_type": "execute_result"
    }
   ],
   "source": [
    "s_n_no = sample_variance_no/sample_size_no\n",
    "s_n_no"
   ]
  },
  {
   "cell_type": "code",
   "execution_count": 803,
   "id": "f681f95d",
   "metadata": {},
   "outputs": [
    {
     "data": {
      "text/plain": [
       "7744.281045751632"
      ]
     },
     "execution_count": 803,
     "metadata": {},
     "output_type": "execute_result"
    }
   ],
   "source": [
    "x1_x2 = sample_mean_yes-sample_mean_no\n",
    "x1_x2"
   ]
  },
  {
   "cell_type": "code",
   "execution_count": 807,
   "id": "5199d5c3",
   "metadata": {},
   "outputs": [],
   "source": [
    "h_null = 0"
   ]
  },
  {
   "cell_type": "code",
   "execution_count": 804,
   "id": "b2b52bd1",
   "metadata": {},
   "outputs": [
    {
     "data": {
      "text/plain": [
       "0.01"
      ]
     },
     "execution_count": 804,
     "metadata": {},
     "output_type": "execute_result"
    }
   ],
   "source": [
    "alpha = 0.01\n",
    "alpha"
   ]
  },
  {
   "cell_type": "code",
   "execution_count": 806,
   "id": "2a47428b",
   "metadata": {},
   "outputs": [
    {
     "data": {
      "text/plain": [
       "15739.713009442166"
      ]
     },
     "execution_count": 806,
     "metadata": {},
     "output_type": "execute_result"
    }
   ],
   "source": [
    "standard_error = np.sqrt(s_n_yes+s_n_no)\n",
    "standard_error"
   ]
  },
  {
   "cell_type": "code",
   "execution_count": 808,
   "id": "fd7c2e52",
   "metadata": {},
   "outputs": [
    {
     "data": {
      "text/plain": [
       "0.49202174404996335"
      ]
     },
     "execution_count": 808,
     "metadata": {},
     "output_type": "execute_result"
    }
   ],
   "source": [
    "test_statistic = (x1_x2-h_null)/standard_error\n",
    "test_statistic"
   ]
  },
  {
   "cell_type": "code",
   "execution_count": 833,
   "id": "728bb7de",
   "metadata": {},
   "outputs": [
    {
     "data": {
      "text/plain": [
       "22.429970730290123"
      ]
     },
     "execution_count": 833,
     "metadata": {},
     "output_type": "execute_result"
    }
   ],
   "source": [
    "degree_of_freedom = (s_n_yes+s_n_no)**2/((s_n_yes**2/(sample_size_yes-1))+(s_n_no**2/(sample_size_no-1)))\n",
    "degree_of_freedom"
   ]
  },
  {
   "cell_type": "code",
   "execution_count": 835,
   "id": "0bd9ab8c",
   "metadata": {},
   "outputs": [
    {
     "data": {
      "text/plain": [
       "0.3137425263081308"
      ]
     },
     "execution_count": 835,
     "metadata": {},
     "output_type": "execute_result"
    }
   ],
   "source": [
    "p_value = 1-stats.t.cdf(test_statistic, df=degree_of_freedom)\n",
    "p_value"
   ]
  },
  {
   "cell_type": "code",
   "execution_count": 836,
   "id": "f57eb313",
   "metadata": {},
   "outputs": [
    {
     "name": "stdout",
     "output_type": "stream",
     "text": [
      "Failed to reject the null hypothesis, the assumption is true\n"
     ]
    }
   ],
   "source": [
    "if p_value > alpha:\n",
    "    print('Failed to reject the null hypothesis, the assumption is true')\n",
    "else:\n",
    "    print('Reject the null hypothesis, the assumption is false')"
   ]
  },
  {
   "cell_type": "code",
   "execution_count": null,
   "id": "1d42d543",
   "metadata": {},
   "outputs": [],
   "source": [
    "# Scatter plots"
   ]
  },
  {
   "cell_type": "code",
   "execution_count": 840,
   "id": "9ab5b237",
   "metadata": {},
   "outputs": [],
   "source": [
    "Scatterplots_df = pd.read_csv('Scatterplots.csv')"
   ]
  },
  {
   "cell_type": "code",
   "execution_count": 841,
   "id": "06e55300",
   "metadata": {},
   "outputs": [
    {
     "data": {
      "text/html": [
       "<div>\n",
       "<style scoped>\n",
       "    .dataframe tbody tr th:only-of-type {\n",
       "        vertical-align: middle;\n",
       "    }\n",
       "\n",
       "    .dataframe tbody tr th {\n",
       "        vertical-align: top;\n",
       "    }\n",
       "\n",
       "    .dataframe thead th {\n",
       "        text-align: right;\n",
       "    }\n",
       "</style>\n",
       "<table border=\"1\" class=\"dataframe\">\n",
       "  <thead>\n",
       "    <tr style=\"text-align: right;\">\n",
       "      <th></th>\n",
       "      <th>Undergrad Grade</th>\n",
       "      <th>MBA Grade</th>\n",
       "    </tr>\n",
       "  </thead>\n",
       "  <tbody>\n",
       "    <tr>\n",
       "      <th>0</th>\n",
       "      <td>68.4</td>\n",
       "      <td>90.2</td>\n",
       "    </tr>\n",
       "    <tr>\n",
       "      <th>1</th>\n",
       "      <td>62.1</td>\n",
       "      <td>92.8</td>\n",
       "    </tr>\n",
       "    <tr>\n",
       "      <th>2</th>\n",
       "      <td>70.2</td>\n",
       "      <td>68.7</td>\n",
       "    </tr>\n",
       "    <tr>\n",
       "      <th>3</th>\n",
       "      <td>75.1</td>\n",
       "      <td>80.7</td>\n",
       "    </tr>\n",
       "    <tr>\n",
       "      <th>4</th>\n",
       "      <td>60.9</td>\n",
       "      <td>74.9</td>\n",
       "    </tr>\n",
       "  </tbody>\n",
       "</table>\n",
       "</div>"
      ],
      "text/plain": [
       "   Undergrad Grade  MBA Grade\n",
       "0             68.4       90.2\n",
       "1             62.1       92.8\n",
       "2             70.2       68.7\n",
       "3             75.1       80.7\n",
       "4             60.9       74.9"
      ]
     },
     "execution_count": 841,
     "metadata": {},
     "output_type": "execute_result"
    }
   ],
   "source": [
    "Scatterplots_df.head()"
   ]
  },
  {
   "cell_type": "code",
   "execution_count": 870,
   "id": "79e12c7f",
   "metadata": {},
   "outputs": [
    {
     "data": {
      "text/html": [
       "<style type=\"text/css\">\n",
       "#T_77c85 thead>tr>th {\n",
       "  text-align: left;\n",
       "}\n",
       "#T_77c85_row0_col0, #T_77c85_row1_col0 {\n",
       "  text-align: left;\n",
       "  font-size: 12px;\n",
       "  vertical-align: middle;\n",
       "  width: 5%;\n",
       "  max-width: 50px;\n",
       "  min-width: 20px;\n",
       "}\n",
       "#T_77c85_row0_col1, #T_77c85_row1_col1 {\n",
       "  text-align: left;\n",
       "  font-size: 12px;\n",
       "  vertical-align: middle;\n",
       "  width: 15%;\n",
       "  max-width: 200px;\n",
       "  min-width: 100px;\n",
       "  word-break: break-word;\n",
       "}\n",
       "#T_77c85_row0_col2, #T_77c85_row1_col2 {\n",
       "  text-align: left;\n",
       "  font-size: 12px;\n",
       "  vertical-align: middle;\n",
       "  width: 30%;\n",
       "  min-width: 100px;\n",
       "}\n",
       "#T_77c85_row0_col3, #T_77c85_row1_col3 {\n",
       "  text-align: left;\n",
       "  font-size: 12px;\n",
       "  vertical-align: middle;\n",
       "  width: 25%;\n",
       "  min-width: 100px;\n",
       "}\n",
       "#T_77c85_row0_col4, #T_77c85_row1_col4 {\n",
       "  text-align: left;\n",
       "  font-size: 12px;\n",
       "  vertical-align: middle;\n",
       "  width: 20%;\n",
       "  min-width: 150px;\n",
       "}\n",
       "#T_77c85_row0_col5, #T_77c85_row1_col5 {\n",
       "  text-align: left;\n",
       "  font-size: 12px;\n",
       "  vertical-align: middle;\n",
       "  width: 10%;\n",
       "}\n",
       "</style>\n",
       "<table id=\"T_77c85\">\n",
       "  <caption><strong>Data Frame Summary</strong><br>Scatterplots_df<br>Dimensions: 95 x 2<br>Duplicates: 0</caption>\n",
       "  <thead>\n",
       "    <tr>\n",
       "      <th id=\"T_77c85_level0_col0\" class=\"col_heading level0 col0\" >No</th>\n",
       "      <th id=\"T_77c85_level0_col1\" class=\"col_heading level0 col1\" >Variable</th>\n",
       "      <th id=\"T_77c85_level0_col2\" class=\"col_heading level0 col2\" >Stats / Values</th>\n",
       "      <th id=\"T_77c85_level0_col3\" class=\"col_heading level0 col3\" >Freqs / (% of Valid)</th>\n",
       "      <th id=\"T_77c85_level0_col4\" class=\"col_heading level0 col4\" >Graph</th>\n",
       "      <th id=\"T_77c85_level0_col5\" class=\"col_heading level0 col5\" >Missing</th>\n",
       "    </tr>\n",
       "  </thead>\n",
       "  <tbody>\n",
       "    <tr>\n",
       "      <td id=\"T_77c85_row0_col0\" class=\"data row0 col0\" >1</td>\n",
       "      <td id=\"T_77c85_row0_col1\" class=\"data row0 col1\" ><strong>Undergrad Grade</strong><br>[float64]</td>\n",
       "      <td id=\"T_77c85_row0_col2\" class=\"data row0 col2\" >Mean (sd) : 75.0 (7.5)<br>min < med < max:<br>60.9 < 75.6 < 100.0<br>IQR (CV) : 10.6 (9.9)</td>\n",
       "      <td id=\"T_77c85_row0_col3\" class=\"data row0 col3\" >75 distinct values</td>\n",
       "      <td id=\"T_77c85_row0_col4\" class=\"data row0 col4\" ><img src = \"data:image/png;base64, iVBORw0KGgoAAAANSUhEUgAAAHoAAAAyCAYAAACTUs/lAAAAOXRFWHRTb2Z0d2FyZQBNYXRwbG90bGliIHZlcnNpb24zLjUuMSwgaHR0cHM6Ly9tYXRwbG90bGliLm9yZy/YYfK9AAAACXBIWXMAAAsTAAALEwEAmpwYAAABWklEQVR4nO3asU3EMBSHcYOQ0jzaXEGDsgAswBA3gVvWygRMwR40FKROEylSGOCUOz8pcXz+f7/ahaVPerYSPyzLElC/x6M3gDyejt7ANW3bns3slLJ2HMe/YRi+9t7TvSo6tJmdYoy/KWv7vn/Zez/3jNEtgtAiCC2C0CIILYLQIggtgtAiCC2C0CIILYLQIjb5qcFfpvJtEpq/TOVjdIsgtIiiHx54TNP03nXdZ8paxXtCNaGbpnnmnrCO0S2C0CKqGd0eiue5ZGjF85zRLYLQIrKPbs/5OM/zWwghacTiuuyhnefjx977UcHoFkFoEYQWQWgRq5cxz6sRbsflWw3tfDXC7bhwjG4RhBZBaBGEFkFoEYQWQWgRhBYh+ZRoL56viSHkfY9G6A15viaGkPc9GqFvqOVFDKFvqOVFDKEP5Hxf/mpmP4lrL85+Qh/IOy1ijN+Jay/O/n+1x3+MC01dGwAAAABJRU5ErkJggg==\"></img></td>\n",
       "      <td id=\"T_77c85_row0_col5\" class=\"data row0 col5\" >0<br>(0.0%)</td>\n",
       "    </tr>\n",
       "    <tr>\n",
       "      <td id=\"T_77c85_row1_col0\" class=\"data row1 col0\" >2</td>\n",
       "      <td id=\"T_77c85_row1_col1\" class=\"data row1 col1\" ><strong>MBA Grade</strong><br>[float64]</td>\n",
       "      <td id=\"T_77c85_row1_col2\" class=\"data row1 col2\" >Mean (sd) : 80.2 (6.2)<br>min < med < max:<br>62.6 < 80.2 < 96.1<br>IQR (CV) : 8.6 (13.0)</td>\n",
       "      <td id=\"T_77c85_row1_col3\" class=\"data row1 col3\" >81 distinct values</td>\n",
       "      <td id=\"T_77c85_row1_col4\" class=\"data row1 col4\" ><img src = \"data:image/png;base64, iVBORw0KGgoAAAANSUhEUgAAAHoAAAAyCAYAAACTUs/lAAAAOXRFWHRTb2Z0d2FyZQBNYXRwbG90bGliIHZlcnNpb24zLjUuMSwgaHR0cHM6Ly9tYXRwbG90bGliLm9yZy/YYfK9AAAACXBIWXMAAAsTAAALEwEAmpwYAAABS0lEQVR4nO3csW2EMABAUSeKROO0XJGOBZIFMkQmoL21mCBTpQg1DRISmeAUrDsby/+/msLoyxZg4Gnf96D2PZ89AJXxcvYAztD3/VeM8XLk2GVZfud5/s49ptyQoWOMl3Ecf44cO03TW+7xlODSDWFoCENDGBrC0BDIq+4U67p+DMNwPXJszbdihv5H13WvLdyKuXRDGBqimaU75bHmtm3vIYRDy3Ermgmd+FjzM/d4auPSDWFoCENDGBrC0BCGhjA0hKEhDA1haIjij0BbftU2Ze86hLLnVzx0y6/apuxdh1D2/Kre1EiZIcQdqRRVh058uwO3I5XCizEIQ0MYGsLQEIaGMDSEoSEMDWFoCENDGBrC0BCGhjA0RNXblK0r+TcFQ5+o5N8UHhLab5Pzu3f2PyS03ybnd+/s92IM4uaMdjluy83QLsdt+QP8GoC5MGgnxwAAAABJRU5ErkJggg==\"></img></td>\n",
       "      <td id=\"T_77c85_row1_col5\" class=\"data row1 col5\" >0<br>(0.0%)</td>\n",
       "    </tr>\n",
       "  </tbody>\n",
       "</table>\n"
      ],
      "text/plain": [
       "<pandas.io.formats.style.Styler at 0x1c71cc89bb0>"
      ]
     },
     "execution_count": 870,
     "metadata": {},
     "output_type": "execute_result"
    }
   ],
   "source": [
    "dfSummary(Scatterplots_df)"
   ]
  },
  {
   "cell_type": "code",
   "execution_count": 844,
   "id": "1559ff5f",
   "metadata": {},
   "outputs": [
    {
     "data": {
      "text/plain": [
       "<AxesSubplot:xlabel='MBA Grade', ylabel='Undergrad Grade'>"
      ]
     },
     "execution_count": 844,
     "metadata": {},
     "output_type": "execute_result"
    },
    {
     "data": {
      "image/png": "[encoded data removed]",
      "text/plain": [
       "<Figure size 432x288 with 1 Axes>"
      ]
     },
     "metadata": {
      "needs_background": "light"
     },
     "output_type": "display_data"
    }
   ],
   "source": [
    "Scatterplots_df.plot(kind='scatter', x='MBA Grade', y='Undergrad Grade')"
   ]
  },
  {
   "cell_type": "code",
   "execution_count": 850,
   "id": "cdb411dc",
   "metadata": {},
   "outputs": [
    {
     "data": {
      "image/png": "[encoded data removed]",
      "text/plain": [
       "<Figure size 1600x800 with 1 Axes>"
      ]
     },
     "metadata": {
      "needs_background": "light"
     },
     "output_type": "display_data"
    }
   ],
   "source": [
    "plt.figure(figsize=(8,4), dpi=200)\n",
    " \n",
    "# set styling on a single chart\n",
    "with sns.axes_style('darkgrid'):\n",
    "  ax = sns.scatterplot(data=Scatterplots_df,x='MBA Grade', y='Undergrad Grade')\n",
    " \n",
    "  ax.set(ylabel='Undergrad Grade',\n",
    "        xlabel='MBA Grade')"
   ]
  },
  {
   "cell_type": "code",
   "execution_count": 851,
   "id": "2934fbb1",
   "metadata": {},
   "outputs": [
    {
     "data": {
      "image/png": "[encoded data removed]",
      "text/plain": [
       "<Figure size 504x504 with 3 Axes>"
      ]
     },
     "metadata": {},
     "output_type": "display_data"
    }
   ],
   "source": [
    "with sns.axes_style('whitegrid'):\n",
    "  sns.jointplot(data=Scatterplots_df,x='MBA Grade', y='Undergrad Grade', \n",
    "                height=7, \n",
    "                color='darkblue',\n",
    "                joint_kws={'alpha':0.5})\n",
    "plt.show()"
   ]
  },
  {
   "cell_type": "code",
   "execution_count": 853,
   "id": "58b77b17",
   "metadata": {},
   "outputs": [
    {
     "data": {
      "text/html": [
       "<div>\n",
       "<style scoped>\n",
       "    .dataframe tbody tr th:only-of-type {\n",
       "        vertical-align: middle;\n",
       "    }\n",
       "\n",
       "    .dataframe tbody tr th {\n",
       "        vertical-align: top;\n",
       "    }\n",
       "\n",
       "    .dataframe thead th {\n",
       "        text-align: right;\n",
       "    }\n",
       "</style>\n",
       "<table border=\"1\" class=\"dataframe\">\n",
       "  <thead>\n",
       "    <tr style=\"text-align: right;\">\n",
       "      <th></th>\n",
       "      <th>Undergrad Grade</th>\n",
       "      <th>MBA Grade</th>\n",
       "    </tr>\n",
       "  </thead>\n",
       "  <tbody>\n",
       "    <tr>\n",
       "      <th>Undergrad Grade</th>\n",
       "      <td>1.000000</td>\n",
       "      <td>0.106056</td>\n",
       "    </tr>\n",
       "    <tr>\n",
       "      <th>MBA Grade</th>\n",
       "      <td>0.106056</td>\n",
       "      <td>1.000000</td>\n",
       "    </tr>\n",
       "  </tbody>\n",
       "</table>\n",
       "</div>"
      ],
      "text/plain": [
       "                 Undergrad Grade  MBA Grade\n",
       "Undergrad Grade         1.000000   0.106056\n",
       "MBA Grade               0.106056   1.000000"
      ]
     },
     "execution_count": 853,
     "metadata": {},
     "output_type": "execute_result"
    }
   ],
   "source": [
    "# Correlation\n",
    "corr = Scatterplots_df.corr()\n",
    "corr"
   ]
  },
  {
   "cell_type": "code",
   "execution_count": 854,
   "id": "4c4017a0",
   "metadata": {},
   "outputs": [],
   "source": [
    "# Linear Relationships\n",
    "Confidence_Intervals_d_df = pd.read_csv('Confidence Intervals (d).csv')"
   ]
  },
  {
   "cell_type": "code",
   "execution_count": 855,
   "id": "b3244b36",
   "metadata": {},
   "outputs": [
    {
     "data": {
      "text/html": [
       "<div>\n",
       "<style scoped>\n",
       "    .dataframe tbody tr th:only-of-type {\n",
       "        vertical-align: middle;\n",
       "    }\n",
       "\n",
       "    .dataframe tbody tr th {\n",
       "        vertical-align: top;\n",
       "    }\n",
       "\n",
       "    .dataframe thead th {\n",
       "        text-align: right;\n",
       "    }\n",
       "</style>\n",
       "<table border=\"1\" class=\"dataframe\">\n",
       "  <thead>\n",
       "    <tr style=\"text-align: right;\">\n",
       "      <th></th>\n",
       "      <th>Student ID</th>\n",
       "      <th>Employability (Before)</th>\n",
       "      <th>Employability (After)</th>\n",
       "    </tr>\n",
       "  </thead>\n",
       "  <tbody>\n",
       "    <tr>\n",
       "      <th>0</th>\n",
       "      <td>1</td>\n",
       "      <td>252</td>\n",
       "      <td>276</td>\n",
       "    </tr>\n",
       "    <tr>\n",
       "      <th>1</th>\n",
       "      <td>2</td>\n",
       "      <td>423</td>\n",
       "      <td>410</td>\n",
       "    </tr>\n",
       "    <tr>\n",
       "      <th>2</th>\n",
       "      <td>3</td>\n",
       "      <td>101</td>\n",
       "      <td>119</td>\n",
       "    </tr>\n",
       "    <tr>\n",
       "      <th>3</th>\n",
       "      <td>4</td>\n",
       "      <td>288</td>\n",
       "      <td>334</td>\n",
       "    </tr>\n",
       "    <tr>\n",
       "      <th>4</th>\n",
       "      <td>5</td>\n",
       "      <td>248</td>\n",
       "      <td>252</td>\n",
       "    </tr>\n",
       "  </tbody>\n",
       "</table>\n",
       "</div>"
      ],
      "text/plain": [
       "   Student ID  Employability (Before)  Employability (After)\n",
       "0           1                     252                    276\n",
       "1           2                     423                    410\n",
       "2           3                     101                    119\n",
       "3           4                     288                    334\n",
       "4           5                     248                    252"
      ]
     },
     "execution_count": 855,
     "metadata": {},
     "output_type": "execute_result"
    }
   ],
   "source": [
    "Confidence_Intervals_d_df.head()"
   ]
  },
  {
   "cell_type": "code",
   "execution_count": 871,
   "id": "65566f14",
   "metadata": {},
   "outputs": [
    {
     "data": {
      "text/html": [
       "<style type=\"text/css\">\n",
       "#T_de8f3 thead>tr>th {\n",
       "  text-align: left;\n",
       "}\n",
       "#T_de8f3_row0_col0, #T_de8f3_row1_col0, #T_de8f3_row2_col0 {\n",
       "  text-align: left;\n",
       "  font-size: 12px;\n",
       "  vertical-align: middle;\n",
       "  width: 5%;\n",
       "  max-width: 50px;\n",
       "  min-width: 20px;\n",
       "}\n",
       "#T_de8f3_row0_col1, #T_de8f3_row1_col1, #T_de8f3_row2_col1 {\n",
       "  text-align: left;\n",
       "  font-size: 12px;\n",
       "  vertical-align: middle;\n",
       "  width: 15%;\n",
       "  max-width: 200px;\n",
       "  min-width: 100px;\n",
       "  word-break: break-word;\n",
       "}\n",
       "#T_de8f3_row0_col2, #T_de8f3_row1_col2, #T_de8f3_row2_col2 {\n",
       "  text-align: left;\n",
       "  font-size: 12px;\n",
       "  vertical-align: middle;\n",
       "  width: 30%;\n",
       "  min-width: 100px;\n",
       "}\n",
       "#T_de8f3_row0_col3, #T_de8f3_row1_col3, #T_de8f3_row2_col3 {\n",
       "  text-align: left;\n",
       "  font-size: 12px;\n",
       "  vertical-align: middle;\n",
       "  width: 25%;\n",
       "  min-width: 100px;\n",
       "}\n",
       "#T_de8f3_row0_col4, #T_de8f3_row1_col4, #T_de8f3_row2_col4 {\n",
       "  text-align: left;\n",
       "  font-size: 12px;\n",
       "  vertical-align: middle;\n",
       "  width: 20%;\n",
       "  min-width: 150px;\n",
       "}\n",
       "#T_de8f3_row0_col5, #T_de8f3_row1_col5, #T_de8f3_row2_col5 {\n",
       "  text-align: left;\n",
       "  font-size: 12px;\n",
       "  vertical-align: middle;\n",
       "  width: 10%;\n",
       "}\n",
       "</style>\n",
       "<table id=\"T_de8f3\">\n",
       "  <caption><strong>Data Frame Summary</strong><br>Confidence_Intervals_d_df<br>Dimensions: 95 x 3<br>Duplicates: 0</caption>\n",
       "  <thead>\n",
       "    <tr>\n",
       "      <th id=\"T_de8f3_level0_col0\" class=\"col_heading level0 col0\" >No</th>\n",
       "      <th id=\"T_de8f3_level0_col1\" class=\"col_heading level0 col1\" >Variable</th>\n",
       "      <th id=\"T_de8f3_level0_col2\" class=\"col_heading level0 col2\" >Stats / Values</th>\n",
       "      <th id=\"T_de8f3_level0_col3\" class=\"col_heading level0 col3\" >Freqs / (% of Valid)</th>\n",
       "      <th id=\"T_de8f3_level0_col4\" class=\"col_heading level0 col4\" >Graph</th>\n",
       "      <th id=\"T_de8f3_level0_col5\" class=\"col_heading level0 col5\" >Missing</th>\n",
       "    </tr>\n",
       "  </thead>\n",
       "  <tbody>\n",
       "    <tr>\n",
       "      <td id=\"T_de8f3_row0_col0\" class=\"data row0 col0\" >1</td>\n",
       "      <td id=\"T_de8f3_row0_col1\" class=\"data row0 col1\" ><strong>Student ID</strong><br>[int64]</td>\n",
       "      <td id=\"T_de8f3_row0_col2\" class=\"data row0 col2\" >Mean (sd) : 48.0 (27.6)<br>min < med < max:<br>1.0 < 48.0 < 95.0<br>IQR (CV) : 47.0 (1.7)</td>\n",
       "      <td id=\"T_de8f3_row0_col3\" class=\"data row0 col3\" >95 distinct values</td>\n",
       "      <td id=\"T_de8f3_row0_col4\" class=\"data row0 col4\" ><img src = \"data:image/png;base64, iVBORw0KGgoAAAANSUhEUgAAAHoAAAAyCAYAAACTUs/lAAAAOXRFWHRTb2Z0d2FyZQBNYXRwbG90bGliIHZlcnNpb24zLjUuMSwgaHR0cHM6Ly9tYXRwbG90bGliLm9yZy/YYfK9AAAACXBIWXMAAAsTAAALEwEAmpwYAAABJUlEQVR4nO3WMUrEQBxG8ShCmr9ttrCRXEAv4CE8wbReKyfwFN7DxsLU0wQCsV82MAOOWXzv1+7wMeFBsjfbtnX6/26PvoD+xt3eD8MwvEbEqWQk5/w9z/N7ydlWuzWu4dlabl/a3Q0dEaeU0lfJ8DRNDyXnWu7WuIZna7l9addXN4ShIQwNsfuNrrEsy/M4jm8lZ9d1feq6ruhbU7Obc36MiM8j71Cz23r73K+E7vv+vuKPwkur3ZTSx9F3KN1tvX3OVzeEoSEMDWFoCENDGBrC0BCGhjA0hKEhDA1haAhDQxgawtAQhoYwNIShIQwNYWgIQ0MYGsLQEIaGMDSEoSEMDWFoCENDGBrC0BCGhjA0hKEhDA1haAhDQxgawtAQhoYwNMQPyGZ5ZnER4gcAAAAASUVORK5CYII=\"></img></td>\n",
       "      <td id=\"T_de8f3_row0_col5\" class=\"data row0 col5\" >0<br>(0.0%)</td>\n",
       "    </tr>\n",
       "    <tr>\n",
       "      <td id=\"T_de8f3_row1_col0\" class=\"data row1 col0\" >2</td>\n",
       "      <td id=\"T_de8f3_row1_col1\" class=\"data row1 col1\" ><strong>Employability (Before)</strong><br>[int64]</td>\n",
       "      <td id=\"T_de8f3_row1_col2\" class=\"data row1 col2\" >Mean (sd) : 239.9 (85.9)<br>min < med < max:<br>62.0 < 236.0 < 423.0<br>IQR (CV) : 105.5 (2.8)</td>\n",
       "      <td id=\"T_de8f3_row1_col3\" class=\"data row1 col3\" >83 distinct values</td>\n",
       "      <td id=\"T_de8f3_row1_col4\" class=\"data row1 col4\" ><img src = \"data:image/png;base64, iVBORw0KGgoAAAANSUhEUgAAAHoAAAAyCAYAAACTUs/lAAAAOXRFWHRTb2Z0d2FyZQBNYXRwbG90bGliIHZlcnNpb24zLjUuMSwgaHR0cHM6Ly9tYXRwbG90bGliLm9yZy/YYfK9AAAACXBIWXMAAAsTAAALEwEAmpwYAAABW0lEQVR4nO3bP2rDMBiHYbUEvKirM2QpvkB7gR4iJ9Caa/kEOUXukaVDPXsxGNwThOjD+hP0e59ZEMGLLWEpb9u2ObTvvfYEUMah9gRS6fv+7L0/xoyd5/lvmqZr7jm9kmZCe++PIYTfmLHjOJ5yz+fV8OoWQWgRhBZBaBGEFkFoEYQWQWgRzXwwsViW5XsYhkvM2Fa+okmG7rruQ+0rGq9uEYQWQWgRhBZBaBGEFkFoEYQWQWgRhBZBaBGEFlH8UMN4//rTe3+PGbuu65dzLuqgQlHx0Mb71z8hhFvs2H0za1uS0JanlCevjiShrU9pit+EDZsxEZI3THKxLGHOlb2mROiELEuYc2WvKRH6CctFwpwbzb1/Cyb0E8aLhNk2mnv/FsxmTAShRRBaBGt0RSU3eoSuqORGj1e3CEKLILSIh2s0R49teRiao8e28OoWQWgRhBZBaBGEFvEPP0pzdMCTMdgAAAAASUVORK5CYII=\"></img></td>\n",
       "      <td id=\"T_de8f3_row1_col5\" class=\"data row1 col5\" >0<br>(0.0%)</td>\n",
       "    </tr>\n",
       "    <tr>\n",
       "      <td id=\"T_de8f3_row2_col0\" class=\"data row2 col0\" >3</td>\n",
       "      <td id=\"T_de8f3_row2_col1\" class=\"data row2 col1\" ><strong>Employability (After)</strong><br>[int64]</td>\n",
       "      <td id=\"T_de8f3_row2_col2\" class=\"data row2 col2\" >Mean (sd) : 289.3 (93.5)<br>min < med < max:<br>102.0 < 286.0 < 481.0<br>IQR (CV) : 120.0 (3.1)</td>\n",
       "      <td id=\"T_de8f3_row2_col3\" class=\"data row2 col3\" >81 distinct values</td>\n",
       "      <td id=\"T_de8f3_row2_col4\" class=\"data row2 col4\" ><img src = \"data:image/png;base64, iVBORw0KGgoAAAANSUhEUgAAAHoAAAAyCAYAAACTUs/lAAAAOXRFWHRTb2Z0d2FyZQBNYXRwbG90bGliIHZlcnNpb24zLjUuMSwgaHR0cHM6Ly9tYXRwbG90bGliLm9yZy/YYfK9AAAACXBIWXMAAAsTAAALEwEAmpwYAAABY0lEQVR4nO3bsW3DMBBGYSYIoObSykWaQAskC3iITMA2a2mCTJE90qSIajYCBCgT2OZZFiXzf19NwIQffLYo+WGe54D6PW69AZTxtPUGzmnb9sPMDjlrU0p/wzB8rb2ne7Xr0GZ2iDH+5qzt+/5l7f3cM0a3CEKLILQIQosgtAhCiyC0CEKLILSIXZ+MeYzj+N513WfO2pTSq5n9ZK6t4mi1mtBN0zw7jkuPMcbvzLVVHK0yukVU84lei/MrYbdjntAXOL8SdjvmGd0iCC2C0CIILaL4jzHPc2DTNL2FELJ+COG84qGdz4Ed196PCka3CEKLILQIQosgtAhCizh5ecX/nvw8d7pC8L1vS3ucDM3/nvw8d7pC8L1vS3swukVwP3pDnlG/9DiY0BvyPue25LUY3SIILYLQIggtgtAiCC2C0CJuch1d8sIf17lJ6JIX/rgOo1sEoUUQWgShRRBaBKFF/APT/3+EFT2PQgAAAABJRU5ErkJggg==\"></img></td>\n",
       "      <td id=\"T_de8f3_row2_col5\" class=\"data row2 col5\" >0<br>(0.0%)</td>\n",
       "    </tr>\n",
       "  </tbody>\n",
       "</table>\n"
      ],
      "text/plain": [
       "<pandas.io.formats.style.Styler at 0x1c71d2ff580>"
      ]
     },
     "execution_count": 871,
     "metadata": {},
     "output_type": "execute_result"
    }
   ],
   "source": [
    "dfSummary(Confidence_Intervals_d_df)"
   ]
  },
  {
   "cell_type": "code",
   "execution_count": 856,
   "id": "42cb1ebf",
   "metadata": {},
   "outputs": [
    {
     "data": {
      "text/plain": [
       "<AxesSubplot:xlabel='Employability (Before)', ylabel='Employability (After)'>"
      ]
     },
     "execution_count": 856,
     "metadata": {},
     "output_type": "execute_result"
    },
    {
     "data": {
      "image/png": "[encoded data removed]",
      "text/plain": [
       "<Figure size 432x288 with 1 Axes>"
      ]
     },
     "metadata": {
      "needs_background": "light"
     },
     "output_type": "display_data"
    }
   ],
   "source": [
    "sns.regplot(data=Confidence_Intervals_d_df, \n",
    "            x='Employability (Before)',\n",
    "            y='Employability (After)')"
   ]
  },
  {
   "cell_type": "code",
   "execution_count": 857,
   "id": "14204ce3",
   "metadata": {},
   "outputs": [
    {
     "data": {
      "text/html": [
       "<div>\n",
       "<style scoped>\n",
       "    .dataframe tbody tr th:only-of-type {\n",
       "        vertical-align: middle;\n",
       "    }\n",
       "\n",
       "    .dataframe tbody tr th {\n",
       "        vertical-align: top;\n",
       "    }\n",
       "\n",
       "    .dataframe thead th {\n",
       "        text-align: right;\n",
       "    }\n",
       "</style>\n",
       "<table border=\"1\" class=\"dataframe\">\n",
       "  <thead>\n",
       "    <tr style=\"text-align: right;\">\n",
       "      <th></th>\n",
       "      <th>Student ID</th>\n",
       "      <th>Employability (Before)</th>\n",
       "      <th>Employability (After)</th>\n",
       "    </tr>\n",
       "  </thead>\n",
       "  <tbody>\n",
       "    <tr>\n",
       "      <th>Student ID</th>\n",
       "      <td>1.000000</td>\n",
       "      <td>0.216702</td>\n",
       "      <td>0.205145</td>\n",
       "    </tr>\n",
       "    <tr>\n",
       "      <th>Employability (Before)</th>\n",
       "      <td>0.216702</td>\n",
       "      <td>1.000000</td>\n",
       "      <td>0.948866</td>\n",
       "    </tr>\n",
       "    <tr>\n",
       "      <th>Employability (After)</th>\n",
       "      <td>0.205145</td>\n",
       "      <td>0.948866</td>\n",
       "      <td>1.000000</td>\n",
       "    </tr>\n",
       "  </tbody>\n",
       "</table>\n",
       "</div>"
      ],
      "text/plain": [
       "                        Student ID  Employability (Before)  \\\n",
       "Student ID                1.000000                0.216702   \n",
       "Employability (Before)    0.216702                1.000000   \n",
       "Employability (After)     0.205145                0.948866   \n",
       "\n",
       "                        Employability (After)  \n",
       "Student ID                           0.205145  \n",
       "Employability (Before)               0.948866  \n",
       "Employability (After)                1.000000  "
      ]
     },
     "execution_count": 857,
     "metadata": {},
     "output_type": "execute_result"
    }
   ],
   "source": [
    "corr = Confidence_Intervals_d_df.corr()\n",
    "corr"
   ]
  },
  {
   "cell_type": "code",
   "execution_count": 859,
   "id": "5252e1ca",
   "metadata": {},
   "outputs": [
    {
     "name": "stdout",
     "output_type": "stream",
     "text": [
      "                              OLS Regression Results                             \n",
      "=================================================================================\n",
      "Dep. Variable:     Employability (After)   R-squared:                       0.900\n",
      "Model:                               OLS   Adj. R-squared:                  0.899\n",
      "Method:                    Least Squares   F-statistic:                     840.2\n",
      "Date:                   Mon, 13 Feb 2023   Prob (F-statistic):           2.34e-48\n",
      "Time:                           17:07:11   Log-Likelihood:                -455.89\n",
      "No. Observations:                     95   AIC:                             915.8\n",
      "Df Residuals:                         93   BIC:                             920.9\n",
      "Df Model:                              1                                         \n",
      "Covariance Type:               nonrobust                                         \n",
      "==========================================================================================\n",
      "                             coef    std err          t      P>|t|      [0.025      0.975]\n",
      "------------------------------------------------------------------------------------------\n",
      "const                     41.6302      9.072      4.589      0.000      23.615      59.646\n",
      "Employability (Before)     1.0326      0.036     28.987      0.000       0.962       1.103\n",
      "==============================================================================\n",
      "Omnibus:                        1.461   Durbin-Watson:                   1.772\n",
      "Prob(Omnibus):                  0.482   Jarque-Bera (JB):                0.939\n",
      "Skew:                           0.201   Prob(JB):                        0.625\n",
      "Kurtosis:                       3.275   Cond. No.                         759.\n",
      "==============================================================================\n",
      "\n",
      "Notes:\n",
      "[1] Standard Errors assume that the covariance matrix of the errors is correctly specified.\n"
     ]
    }
   ],
   "source": [
    "x = Confidence_Intervals_d_df[['Employability (Before)']]\n",
    "y = Confidence_Intervals_d_df['Employability (After)']\n",
    "\n",
    "x = sm.add_constant(x)\n",
    "\n",
    "model = sm.OLS(y, x).fit()\n",
    "predictions = model.predict(x) \n",
    "\n",
    "print_model = model.summary()\n",
    "print(print_model)"
   ]
  },
  {
   "cell_type": "code",
   "execution_count": 861,
   "id": "50e106a4",
   "metadata": {},
   "outputs": [
    {
     "data": {
      "text/plain": [
       "LinearRegression()"
      ]
     },
     "execution_count": 861,
     "metadata": {},
     "output_type": "execute_result"
    }
   ],
   "source": [
    "reg = LinearRegression()\n",
    "reg.fit(Confidence_Intervals_d_df[['Employability (Before)']], Confidence_Intervals_d_df['Employability (After)'])"
   ]
  },
  {
   "cell_type": "code",
   "execution_count": 863,
   "id": "5eff514c",
   "metadata": {},
   "outputs": [
    {
     "data": {
      "text/plain": [
       "{'copy_X': True,\n",
       " 'fit_intercept': True,\n",
       " 'n_jobs': None,\n",
       " 'normalize': 'deprecated',\n",
       " 'positive': False}"
      ]
     },
     "execution_count": 863,
     "metadata": {},
     "output_type": "execute_result"
    }
   ],
   "source": [
    "reg.get_params()"
   ]
  },
  {
   "cell_type": "code",
   "execution_count": 865,
   "id": "124abdd0",
   "metadata": {},
   "outputs": [
    {
     "data": {
      "text/plain": [
       "array([1.0325626])"
      ]
     },
     "execution_count": 865,
     "metadata": {},
     "output_type": "execute_result"
    }
   ],
   "source": [
    "reg.coef_"
   ]
  },
  {
   "cell_type": "code",
   "execution_count": 866,
   "id": "5f0fc461",
   "metadata": {},
   "outputs": [
    {
     "data": {
      "text/plain": [
       "41.63016671209161"
      ]
     },
     "execution_count": 866,
     "metadata": {},
     "output_type": "execute_result"
    }
   ],
   "source": [
    "reg.intercept_"
   ]
  },
  {
   "cell_type": "code",
   "execution_count": 876,
   "id": "7b3b5443",
   "metadata": {},
   "outputs": [],
   "source": [
    "x_input = np.linspace(60, 430, 370).reshape(-1, 1)"
   ]
  },
  {
   "cell_type": "code",
   "execution_count": 877,
   "id": "157f47ac",
   "metadata": {
    "scrolled": false
   },
   "outputs": [
    {
     "name": "stderr",
     "output_type": "stream",
     "text": [
      "C:\\Users\\mahmo\\anaconda3\\lib\\site-packages\\sklearn\\base.py:450: UserWarning: X does not have valid feature names, but LinearRegression was fitted with feature names\n",
      "  warnings.warn(\n"
     ]
    }
   ],
   "source": [
    "y_output = reg.predict(x_input)"
   ]
  },
  {
   "cell_type": "code",
   "execution_count": 882,
   "id": "ad7899df",
   "metadata": {},
   "outputs": [
    {
     "name": "stderr",
     "output_type": "stream",
     "text": [
      "C:\\Users\\mahmo\\anaconda3\\lib\\site-packages\\sklearn\\base.py:450: UserWarning: X does not have valid feature names, but LinearRegression was fitted with feature names\n",
      "  warnings.warn(\n"
     ]
    },
    {
     "data": {
      "text/plain": [
       "array([299.77081612])"
      ]
     },
     "execution_count": 882,
     "metadata": {},
     "output_type": "execute_result"
    }
   ],
   "source": [
    "reg.predict([[250]])"
   ]
  },
  {
   "cell_type": "code",
   "execution_count": null,
   "id": "6ee22e54",
   "metadata": {},
   "outputs": [],
   "source": []
  },
  {
   "cell_type": "code",
   "execution_count": null,
   "id": "3b24fef0",
   "metadata": {},
   "outputs": [],
   "source": []
  },
  {
   "cell_type": "code",
   "execution_count": null,
   "id": "2799149c",
   "metadata": {},
   "outputs": [],
   "source": []
  },
  {
   "cell_type": "code",
   "execution_count": null,
   "id": "3a28d54d",
   "metadata": {},
   "outputs": [],
   "source": []
  },
  {
   "cell_type": "code",
   "execution_count": null,
   "id": "acf0d9d3",
   "metadata": {},
   "outputs": [],
   "source": []
  },
  {
   "cell_type": "code",
   "execution_count": null,
   "id": "b1cefcc0",
   "metadata": {},
   "outputs": [],
   "source": []
  },
  {
   "cell_type": "code",
   "execution_count": null,
   "id": "99cc88f0",
   "metadata": {},
   "outputs": [],
   "source": []
  },
  {
   "cell_type": "code",
   "execution_count": null,
   "id": "adf0b2d9",
   "metadata": {},
   "outputs": [],
   "source": []
  },
  {
   "cell_type": "markdown",
   "id": "f8e0c5d6",
   "metadata": {},
   "source": [
    "# Projects"
   ]
  },
  {
   "cell_type": "code",
   "execution_count": 118,
   "id": "ebbf8496",
   "metadata": {},
   "outputs": [],
   "source": [
    "# Pizza sales"
   ]
  },
  {
   "cell_type": "code",
   "execution_count": 119,
   "id": "d8f87358",
   "metadata": {},
   "outputs": [],
   "source": [
    "pizza_sales_df = pd.read_excel('Pizza_Sales.xlsx')"
   ]
  },
  {
   "cell_type": "code",
   "execution_count": 120,
   "id": "f045b2f6",
   "metadata": {},
   "outputs": [
    {
     "data": {
      "text/html": [
       "<div>\n",
       "<style scoped>\n",
       "    .dataframe tbody tr th:only-of-type {\n",
       "        vertical-align: middle;\n",
       "    }\n",
       "\n",
       "    .dataframe tbody tr th {\n",
       "        vertical-align: top;\n",
       "    }\n",
       "\n",
       "    .dataframe thead th {\n",
       "        text-align: right;\n",
       "    }\n",
       "</style>\n",
       "<table border=\"1\" class=\"dataframe\">\n",
       "  <thead>\n",
       "    <tr style=\"text-align: right;\">\n",
       "      <th></th>\n",
       "      <th>Date</th>\n",
       "      <th>Weekday</th>\n",
       "      <th>Pizzas</th>\n",
       "    </tr>\n",
       "  </thead>\n",
       "  <tbody>\n",
       "    <tr>\n",
       "      <th>0</th>\n",
       "      <td>2015-01-01</td>\n",
       "      <td>Thursday</td>\n",
       "      <td>162</td>\n",
       "    </tr>\n",
       "    <tr>\n",
       "      <th>1</th>\n",
       "      <td>2015-01-02</td>\n",
       "      <td>Friday</td>\n",
       "      <td>165</td>\n",
       "    </tr>\n",
       "    <tr>\n",
       "      <th>2</th>\n",
       "      <td>2015-01-03</td>\n",
       "      <td>Saturday</td>\n",
       "      <td>158</td>\n",
       "    </tr>\n",
       "    <tr>\n",
       "      <th>3</th>\n",
       "      <td>2015-01-04</td>\n",
       "      <td>Sunday</td>\n",
       "      <td>106</td>\n",
       "    </tr>\n",
       "    <tr>\n",
       "      <th>4</th>\n",
       "      <td>2015-01-05</td>\n",
       "      <td>Monday</td>\n",
       "      <td>125</td>\n",
       "    </tr>\n",
       "  </tbody>\n",
       "</table>\n",
       "</div>"
      ],
      "text/plain": [
       "        Date   Weekday  Pizzas\n",
       "0 2015-01-01  Thursday     162\n",
       "1 2015-01-02    Friday     165\n",
       "2 2015-01-03  Saturday     158\n",
       "3 2015-01-04    Sunday     106\n",
       "4 2015-01-05    Monday     125"
      ]
     },
     "execution_count": 120,
     "metadata": {},
     "output_type": "execute_result"
    }
   ],
   "source": [
    "pizza_sales_df.head()"
   ]
  },
  {
   "cell_type": "code",
   "execution_count": 121,
   "id": "e7f2282f",
   "metadata": {},
   "outputs": [
    {
     "name": "stdout",
     "output_type": "stream",
     "text": [
      "<class 'pandas.core.frame.DataFrame'>\n",
      "RangeIndex: 358 entries, 0 to 357\n",
      "Data columns (total 3 columns):\n",
      " #   Column   Non-Null Count  Dtype         \n",
      "---  ------   --------------  -----         \n",
      " 0   Date     358 non-null    datetime64[ns]\n",
      " 1   Weekday  358 non-null    object        \n",
      " 2   Pizzas   358 non-null    int64         \n",
      "dtypes: datetime64[ns](1), int64(1), object(1)\n",
      "memory usage: 8.5+ KB\n"
     ]
    }
   ],
   "source": [
    "pizza_sales_df.info()"
   ]
  },
  {
   "cell_type": "code",
   "execution_count": 129,
   "id": "2e2f0746",
   "metadata": {},
   "outputs": [],
   "source": [
    "mean, median, mode, max_val, min_val, std, var = pizza_sales_df.Pizzas.mean(), pizza_sales_df.Pizzas.median(), pizza_sales_df.Pizzas.mode(), pizza_sales_df.Pizzas.max(), pizza_sales_df.Pizzas.min(), pizza_sales_df.Pizzas.std(), pizza_sales_df.Pizzas.var()"
   ]
  },
  {
   "cell_type": "code",
   "execution_count": 130,
   "id": "cfa7a9c3",
   "metadata": {},
   "outputs": [
    {
     "data": {
      "text/plain": [
       "138.47486033519553"
      ]
     },
     "execution_count": 130,
     "metadata": {},
     "output_type": "execute_result"
    }
   ],
   "source": [
    "mean"
   ]
  },
  {
   "cell_type": "code",
   "execution_count": 131,
   "id": "f9118986",
   "metadata": {},
   "outputs": [
    {
     "data": {
      "text/plain": [
       "136.0"
      ]
     },
     "execution_count": 131,
     "metadata": {},
     "output_type": "execute_result"
    }
   ],
   "source": [
    "median"
   ]
  },
  {
   "cell_type": "code",
   "execution_count": 132,
   "id": "108afefb",
   "metadata": {},
   "outputs": [
    {
     "data": {
      "text/plain": [
       "0    136\n",
       "1    144\n",
       "Name: Pizzas, dtype: int64"
      ]
     },
     "execution_count": 132,
     "metadata": {},
     "output_type": "execute_result"
    }
   ],
   "source": [
    "mode"
   ]
  },
  {
   "cell_type": "code",
   "execution_count": 133,
   "id": "e78902ee",
   "metadata": {},
   "outputs": [
    {
     "data": {
      "text/plain": [
       "266"
      ]
     },
     "execution_count": 133,
     "metadata": {},
     "output_type": "execute_result"
    }
   ],
   "source": [
    "max_val"
   ]
  },
  {
   "cell_type": "code",
   "execution_count": 134,
   "id": "0bf40cfd",
   "metadata": {},
   "outputs": [
    {
     "data": {
      "text/plain": [
       "77"
      ]
     },
     "execution_count": 134,
     "metadata": {},
     "output_type": "execute_result"
    }
   ],
   "source": [
    "min_val"
   ]
  },
  {
   "cell_type": "code",
   "execution_count": 135,
   "id": "c7a78cd8",
   "metadata": {},
   "outputs": [
    {
     "data": {
      "text/plain": [
       "24.428669026957206"
      ]
     },
     "execution_count": 135,
     "metadata": {},
     "output_type": "execute_result"
    }
   ],
   "source": [
    "std"
   ]
  },
  {
   "cell_type": "code",
   "execution_count": 136,
   "id": "53de736a",
   "metadata": {},
   "outputs": [
    {
     "data": {
      "text/plain": [
       "596.7598704286183"
      ]
     },
     "execution_count": 136,
     "metadata": {},
     "output_type": "execute_result"
    }
   ],
   "source": [
    "var"
   ]
  },
  {
   "cell_type": "code",
   "execution_count": 143,
   "id": "26bb235c",
   "metadata": {},
   "outputs": [
    {
     "name": "stdout",
     "output_type": "stream",
     "text": [
      "0.25    124.0\n",
      "0.75    150.0\n",
      "Name: Pizzas, dtype: float64\n"
     ]
    }
   ],
   "source": [
    "print(pizza_sales_df.Pizzas.quantile(q=[0.25, 0.75]))"
   ]
  },
  {
   "cell_type": "code",
   "execution_count": 148,
   "id": "647a70ba",
   "metadata": {},
   "outputs": [
    {
     "data": {
      "text/plain": [
       "124.0"
      ]
     },
     "execution_count": 148,
     "metadata": {},
     "output_type": "execute_result"
    }
   ],
   "source": [
    "pizza_sales_df.Pizzas.quantile(q=0.25)"
   ]
  },
  {
   "cell_type": "code",
   "execution_count": 149,
   "id": "e474e10a",
   "metadata": {},
   "outputs": [
    {
     "name": "stdout",
     "output_type": "stream",
     "text": [
      "Min: 77\n",
      "Q1: 124.0\n",
      "Median: 136.0\n",
      "Q3: 150.0\n",
      "Max: 266\n"
     ]
    }
   ],
   "source": [
    "print(f'Min: {min_val}')\n",
    "print(f'Q1: {pizza_sales_df.Pizzas.quantile(q=0.25)}')\n",
    "print(f'Median: {median}')\n",
    "print(f'Q3: {pizza_sales_df.Pizzas.quantile(q=0.75)}')\n",
    "print(f'Max: {max_val}')"
   ]
  },
  {
   "cell_type": "code",
   "execution_count": 152,
   "id": "e094b46a",
   "metadata": {},
   "outputs": [
    {
     "data": {
      "image/png": "[encoded data removed]",
      "text/plain": [
       "<Figure size 1600x800 with 1 Axes>"
      ]
     },
     "metadata": {
      "needs_background": "light"
     },
     "output_type": "display_data"
    }
   ],
   "source": [
    "plt.figure(figsize=(8, 4), dpi=200)\n",
    "sns.histplot(data=pizza_sales_df.Pizzas,\n",
    "             bins=30,\n",
    "             kde=True)\n",
    "plt.xlabel('No. of Pizza Sales')\n",
    "plt.title('No. of Samples')\n",
    "plt.show()"
   ]
  },
  {
   "cell_type": "code",
   "execution_count": 165,
   "id": "9eaa9489",
   "metadata": {},
   "outputs": [
    {
     "data": {
      "text/html": [
       "<div>\n",
       "<style scoped>\n",
       "    .dataframe tbody tr th:only-of-type {\n",
       "        vertical-align: middle;\n",
       "    }\n",
       "\n",
       "    .dataframe tbody tr th {\n",
       "        vertical-align: top;\n",
       "    }\n",
       "\n",
       "    .dataframe thead th {\n",
       "        text-align: right;\n",
       "    }\n",
       "</style>\n",
       "<table border=\"1\" class=\"dataframe\">\n",
       "  <thead>\n",
       "    <tr style=\"text-align: right;\">\n",
       "      <th></th>\n",
       "      <th>Pizzas</th>\n",
       "    </tr>\n",
       "    <tr>\n",
       "      <th>Weekday</th>\n",
       "      <th></th>\n",
       "    </tr>\n",
       "  </thead>\n",
       "  <tbody>\n",
       "    <tr>\n",
       "      <th>Friday</th>\n",
       "      <td>164.840000</td>\n",
       "    </tr>\n",
       "    <tr>\n",
       "      <th>Monday</th>\n",
       "      <td>135.104167</td>\n",
       "    </tr>\n",
       "    <tr>\n",
       "      <th>Saturday</th>\n",
       "      <td>144.096154</td>\n",
       "    </tr>\n",
       "    <tr>\n",
       "      <th>Sunday</th>\n",
       "      <td>116.057692</td>\n",
       "    </tr>\n",
       "    <tr>\n",
       "      <th>Thursday</th>\n",
       "      <td>143.807692</td>\n",
       "    </tr>\n",
       "    <tr>\n",
       "      <th>Tuesday</th>\n",
       "      <td>132.596154</td>\n",
       "    </tr>\n",
       "    <tr>\n",
       "      <th>Wednesday</th>\n",
       "      <td>133.576923</td>\n",
       "    </tr>\n",
       "  </tbody>\n",
       "</table>\n",
       "</div>"
      ],
      "text/plain": [
       "               Pizzas\n",
       "Weekday              \n",
       "Friday     164.840000\n",
       "Monday     135.104167\n",
       "Saturday   144.096154\n",
       "Sunday     116.057692\n",
       "Thursday   143.807692\n",
       "Tuesday    132.596154\n",
       "Wednesday  133.576923"
      ]
     },
     "execution_count": 165,
     "metadata": {},
     "output_type": "execute_result"
    }
   ],
   "source": [
    "pv_table = pd.pivot_table(data=pizza_sales_df, \n",
    "               index=['Weekday'], \n",
    "               aggfunc={'Pizzas': 'mean'})\n",
    "pv_table"
   ]
  },
  {
   "cell_type": "code",
   "execution_count": 166,
   "id": "88ae2717",
   "metadata": {},
   "outputs": [
    {
     "data": {
      "image/png": "[encoded data removed]",
      "text/plain": [
       "<Figure size 432x288 with 1 Axes>"
      ]
     },
     "metadata": {
      "needs_background": "light"
     },
     "output_type": "display_data"
    }
   ],
   "source": [
    "pv_table.plot(kind='bar');"
   ]
  },
  {
   "cell_type": "code",
   "execution_count": 168,
   "id": "978f7e3c",
   "metadata": {},
   "outputs": [
    {
     "data": {
      "text/plain": [
       "Thursday     52\n",
       "Saturday     52\n",
       "Sunday       52\n",
       "Tuesday      52\n",
       "Wednesday    52\n",
       "Friday       50\n",
       "Monday       48\n",
       "Name: Weekday, dtype: int64"
      ]
     },
     "execution_count": 168,
     "metadata": {},
     "output_type": "execute_result"
    }
   ],
   "source": [
    "pizza_sales_df.Weekday.value_counts()"
   ]
  },
  {
   "cell_type": "code",
   "execution_count": 239,
   "id": "4f43e6ce",
   "metadata": {},
   "outputs": [],
   "source": [
    "# Babies born Project"
   ]
  },
  {
   "cell_type": "code",
   "execution_count": 240,
   "id": "43a40437",
   "metadata": {},
   "outputs": [],
   "source": [
    "babies_df = pd.read_excel('Birth_Weights.xlsx')"
   ]
  },
  {
   "cell_type": "code",
   "execution_count": 241,
   "id": "eadcdc62",
   "metadata": {},
   "outputs": [
    {
     "name": "stdout",
     "output_type": "stream",
     "text": [
      "<class 'pandas.core.frame.DataFrame'>\n",
      "RangeIndex: 189 entries, 0 to 188\n",
      "Data columns (total 1 columns):\n",
      " #   Column          Non-Null Count  Dtype\n",
      "---  ------          --------------  -----\n",
      " 0   Weight (grams)  189 non-null    int64\n",
      "dtypes: int64(1)\n",
      "memory usage: 1.6 KB\n"
     ]
    }
   ],
   "source": [
    "babies_df.info()"
   ]
  },
  {
   "cell_type": "code",
   "execution_count": 242,
   "id": "cffb0ab2",
   "metadata": {},
   "outputs": [
    {
     "data": {
      "text/html": [
       "<div>\n",
       "<style scoped>\n",
       "    .dataframe tbody tr th:only-of-type {\n",
       "        vertical-align: middle;\n",
       "    }\n",
       "\n",
       "    .dataframe tbody tr th {\n",
       "        vertical-align: top;\n",
       "    }\n",
       "\n",
       "    .dataframe thead th {\n",
       "        text-align: right;\n",
       "    }\n",
       "</style>\n",
       "<table border=\"1\" class=\"dataframe\">\n",
       "  <thead>\n",
       "    <tr style=\"text-align: right;\">\n",
       "      <th></th>\n",
       "      <th>Weight (grams)</th>\n",
       "    </tr>\n",
       "  </thead>\n",
       "  <tbody>\n",
       "    <tr>\n",
       "      <th>0</th>\n",
       "      <td>2523</td>\n",
       "    </tr>\n",
       "    <tr>\n",
       "      <th>1</th>\n",
       "      <td>2551</td>\n",
       "    </tr>\n",
       "    <tr>\n",
       "      <th>2</th>\n",
       "      <td>2557</td>\n",
       "    </tr>\n",
       "    <tr>\n",
       "      <th>3</th>\n",
       "      <td>2594</td>\n",
       "    </tr>\n",
       "    <tr>\n",
       "      <th>4</th>\n",
       "      <td>2600</td>\n",
       "    </tr>\n",
       "  </tbody>\n",
       "</table>\n",
       "</div>"
      ],
      "text/plain": [
       "   Weight (grams)\n",
       "0            2523\n",
       "1            2551\n",
       "2            2557\n",
       "3            2594\n",
       "4            2600"
      ]
     },
     "execution_count": 242,
     "metadata": {},
     "output_type": "execute_result"
    }
   ],
   "source": [
    "babies_df.head()"
   ]
  },
  {
   "cell_type": "code",
   "execution_count": 243,
   "id": "ddd1875b",
   "metadata": {},
   "outputs": [
    {
     "data": {
      "text/html": [
       "<div>\n",
       "<style scoped>\n",
       "    .dataframe tbody tr th:only-of-type {\n",
       "        vertical-align: middle;\n",
       "    }\n",
       "\n",
       "    .dataframe tbody tr th {\n",
       "        vertical-align: top;\n",
       "    }\n",
       "\n",
       "    .dataframe thead th {\n",
       "        text-align: right;\n",
       "    }\n",
       "</style>\n",
       "<table border=\"1\" class=\"dataframe\">\n",
       "  <thead>\n",
       "    <tr style=\"text-align: right;\">\n",
       "      <th></th>\n",
       "      <th>Weight (grams)</th>\n",
       "    </tr>\n",
       "  </thead>\n",
       "  <tbody>\n",
       "    <tr>\n",
       "      <th>count</th>\n",
       "      <td>189.000000</td>\n",
       "    </tr>\n",
       "    <tr>\n",
       "      <th>mean</th>\n",
       "      <td>2944.587302</td>\n",
       "    </tr>\n",
       "    <tr>\n",
       "      <th>std</th>\n",
       "      <td>729.214295</td>\n",
       "    </tr>\n",
       "    <tr>\n",
       "      <th>min</th>\n",
       "      <td>709.000000</td>\n",
       "    </tr>\n",
       "    <tr>\n",
       "      <th>25%</th>\n",
       "      <td>2414.000000</td>\n",
       "    </tr>\n",
       "    <tr>\n",
       "      <th>50%</th>\n",
       "      <td>2977.000000</td>\n",
       "    </tr>\n",
       "    <tr>\n",
       "      <th>75%</th>\n",
       "      <td>3487.000000</td>\n",
       "    </tr>\n",
       "    <tr>\n",
       "      <th>max</th>\n",
       "      <td>4990.000000</td>\n",
       "    </tr>\n",
       "  </tbody>\n",
       "</table>\n",
       "</div>"
      ],
      "text/plain": [
       "       Weight (grams)\n",
       "count      189.000000\n",
       "mean      2944.587302\n",
       "std        729.214295\n",
       "min        709.000000\n",
       "25%       2414.000000\n",
       "50%       2977.000000\n",
       "75%       3487.000000\n",
       "max       4990.000000"
      ]
     },
     "execution_count": 243,
     "metadata": {},
     "output_type": "execute_result"
    }
   ],
   "source": [
    "babies_df.describe()"
   ]
  },
  {
   "cell_type": "code",
   "execution_count": 247,
   "id": "03ec89f0",
   "metadata": {},
   "outputs": [
    {
     "data": {
      "text/plain": [
       "2944.5873015873017"
      ]
     },
     "execution_count": 247,
     "metadata": {},
     "output_type": "execute_result"
    }
   ],
   "source": [
    "mean = babies_df.mean().values[0]\n",
    "mean"
   ]
  },
  {
   "cell_type": "code",
   "execution_count": 248,
   "id": "a123b14c",
   "metadata": {},
   "outputs": [
    {
     "data": {
      "text/plain": [
       "729.2142952167977"
      ]
     },
     "execution_count": 248,
     "metadata": {},
     "output_type": "execute_result"
    }
   ],
   "source": [
    "stdiv = babies_df.std().values[0]\n",
    "stdiv"
   ]
  },
  {
   "cell_type": "code",
   "execution_count": 249,
   "id": "4d2a9d3f",
   "metadata": {},
   "outputs": [
    {
     "data": {
      "image/png": "[encoded data removed]",
      "text/plain": [
       "<Figure size 1600x800 with 1 Axes>"
      ]
     },
     "metadata": {
      "needs_background": "light"
     },
     "output_type": "display_data"
    }
   ],
   "source": [
    "plt.figure(figsize=(8, 4), dpi=200)\n",
    "sns.histplot(data=babies_df,\n",
    "             bins=30,\n",
    "             kde=True)\n",
    "plt.xlabel('Weights of babies born')\n",
    "plt.title('No. of Samples')\n",
    "plt.show()"
   ]
  },
  {
   "cell_type": "code",
   "execution_count": 250,
   "id": "c776509b",
   "metadata": {},
   "outputs": [
    {
     "data": {
      "text/html": [
       "<div>\n",
       "<style scoped>\n",
       "    .dataframe tbody tr th:only-of-type {\n",
       "        vertical-align: middle;\n",
       "    }\n",
       "\n",
       "    .dataframe tbody tr th {\n",
       "        vertical-align: top;\n",
       "    }\n",
       "\n",
       "    .dataframe thead th {\n",
       "        text-align: right;\n",
       "    }\n",
       "</style>\n",
       "<table border=\"1\" class=\"dataframe\">\n",
       "  <thead>\n",
       "    <tr style=\"text-align: right;\">\n",
       "      <th></th>\n",
       "      <th>1</th>\n",
       "      <th>2</th>\n",
       "      <th>3</th>\n",
       "    </tr>\n",
       "  </thead>\n",
       "  <tbody>\n",
       "    <tr>\n",
       "      <th>Lower</th>\n",
       "      <td>2215.373006</td>\n",
       "      <td>1486.158711</td>\n",
       "      <td>756.944416</td>\n",
       "    </tr>\n",
       "    <tr>\n",
       "      <th>Upper</th>\n",
       "      <td>3673.801597</td>\n",
       "      <td>4403.015892</td>\n",
       "      <td>5132.230187</td>\n",
       "    </tr>\n",
       "    <tr>\n",
       "      <th>Empirical Rule</th>\n",
       "      <td>68.000000</td>\n",
       "      <td>95.000000</td>\n",
       "      <td>99.700000</td>\n",
       "    </tr>\n",
       "    <tr>\n",
       "      <th>Sample</th>\n",
       "      <td>67.724868</td>\n",
       "      <td>96.296296</td>\n",
       "      <td>99.470899</td>\n",
       "    </tr>\n",
       "  </tbody>\n",
       "</table>\n",
       "</div>"
      ],
      "text/plain": [
       "                          1            2            3\n",
       "Lower           2215.373006  1486.158711   756.944416\n",
       "Upper           3673.801597  4403.015892  5132.230187\n",
       "Empirical Rule    68.000000    95.000000    99.700000\n",
       "Sample            67.724868    96.296296    99.470899"
      ]
     },
     "execution_count": 250,
     "metadata": {},
     "output_type": "execute_result"
    }
   ],
   "source": [
    "empirical_rule(babies_df)"
   ]
  },
  {
   "cell_type": "code",
   "execution_count": 251,
   "id": "2f49e7a3",
   "metadata": {},
   "outputs": [
    {
     "data": {
      "text/plain": [
       "27.103693458863887"
      ]
     },
     "execution_count": 251,
     "metadata": {},
     "output_type": "execute_result"
    }
   ],
   "source": [
    "NormalDist(mu=babies_df.mean()[0], sigma=babies_df.std()[0]).cdf(2500)*100"
   ]
  },
  {
   "cell_type": "code",
   "execution_count": 252,
   "id": "d9f8cbe2",
   "metadata": {},
   "outputs": [
    {
     "data": {
      "text/plain": [
       "1248.1811761895142"
      ]
     },
     "execution_count": 252,
     "metadata": {},
     "output_type": "execute_result"
    }
   ],
   "source": [
    "NormalDist(mu=mean, sigma=stdiv).inv_cdf(0.01)"
   ]
  },
  {
   "cell_type": "code",
   "execution_count": 255,
   "id": "52c517b2",
   "metadata": {},
   "outputs": [
    {
     "data": {
      "text/html": [
       "<div>\n",
       "<style scoped>\n",
       "    .dataframe tbody tr th:only-of-type {\n",
       "        vertical-align: middle;\n",
       "    }\n",
       "\n",
       "    .dataframe tbody tr th {\n",
       "        vertical-align: top;\n",
       "    }\n",
       "\n",
       "    .dataframe thead th {\n",
       "        text-align: right;\n",
       "    }\n",
       "</style>\n",
       "<table border=\"1\" class=\"dataframe\">\n",
       "  <thead>\n",
       "    <tr style=\"text-align: right;\">\n",
       "      <th></th>\n",
       "      <th>Weight (grams)</th>\n",
       "    </tr>\n",
       "  </thead>\n",
       "  <tbody>\n",
       "    <tr>\n",
       "      <th>130</th>\n",
       "      <td>709</td>\n",
       "    </tr>\n",
       "    <tr>\n",
       "      <th>131</th>\n",
       "      <td>1021</td>\n",
       "    </tr>\n",
       "    <tr>\n",
       "      <th>132</th>\n",
       "      <td>1135</td>\n",
       "    </tr>\n",
       "  </tbody>\n",
       "</table>\n",
       "</div>"
      ],
      "text/plain": [
       "     Weight (grams)\n",
       "130             709\n",
       "131            1021\n",
       "132            1135"
      ]
     },
     "execution_count": 255,
     "metadata": {},
     "output_type": "execute_result"
    }
   ],
   "source": [
    "babies_df[babies_df['Weight (grams)'] < NormalDist(mu=mean, sigma=stdiv).inv_cdf(0.01)]"
   ]
  },
  {
   "cell_type": "code",
   "execution_count": 253,
   "id": "cc7cd1f8",
   "metadata": {},
   "outputs": [
    {
     "data": {
      "text/plain": [
       "4640.993426985089"
      ]
     },
     "execution_count": 253,
     "metadata": {},
     "output_type": "execute_result"
    }
   ],
   "source": [
    "NormalDist(mu=mean, sigma=stdiv).inv_cdf(0.99)"
   ]
  },
  {
   "cell_type": "code",
   "execution_count": 256,
   "id": "68f7c96e",
   "metadata": {},
   "outputs": [
    {
     "data": {
      "text/html": [
       "<div>\n",
       "<style scoped>\n",
       "    .dataframe tbody tr th:only-of-type {\n",
       "        vertical-align: middle;\n",
       "    }\n",
       "\n",
       "    .dataframe tbody tr th {\n",
       "        vertical-align: top;\n",
       "    }\n",
       "\n",
       "    .dataframe thead th {\n",
       "        text-align: right;\n",
       "    }\n",
       "</style>\n",
       "<table border=\"1\" class=\"dataframe\">\n",
       "  <thead>\n",
       "    <tr style=\"text-align: right;\">\n",
       "      <th></th>\n",
       "      <th>Weight (grams)</th>\n",
       "    </tr>\n",
       "  </thead>\n",
       "  <tbody>\n",
       "    <tr>\n",
       "      <th>129</th>\n",
       "      <td>4990</td>\n",
       "    </tr>\n",
       "  </tbody>\n",
       "</table>\n",
       "</div>"
      ],
      "text/plain": [
       "     Weight (grams)\n",
       "129            4990"
      ]
     },
     "execution_count": 256,
     "metadata": {},
     "output_type": "execute_result"
    }
   ],
   "source": [
    "babies_df[babies_df['Weight (grams)'] > NormalDist(mu=mean, sigma=stdiv).inv_cdf(0.99)]"
   ]
  },
  {
   "cell_type": "code",
   "execution_count": 257,
   "id": "a43f2387",
   "metadata": {},
   "outputs": [
    {
     "data": {
      "text/html": [
       "<div>\n",
       "<style scoped>\n",
       "    .dataframe tbody tr th:only-of-type {\n",
       "        vertical-align: middle;\n",
       "    }\n",
       "\n",
       "    .dataframe tbody tr th {\n",
       "        vertical-align: top;\n",
       "    }\n",
       "\n",
       "    .dataframe thead th {\n",
       "        text-align: right;\n",
       "    }\n",
       "</style>\n",
       "<table border=\"1\" class=\"dataframe\">\n",
       "  <thead>\n",
       "    <tr style=\"text-align: right;\">\n",
       "      <th></th>\n",
       "      <th>Weight (grams)</th>\n",
       "    </tr>\n",
       "  </thead>\n",
       "  <tbody>\n",
       "    <tr>\n",
       "      <th>129</th>\n",
       "      <td>4990</td>\n",
       "    </tr>\n",
       "    <tr>\n",
       "      <th>130</th>\n",
       "      <td>709</td>\n",
       "    </tr>\n",
       "    <tr>\n",
       "      <th>131</th>\n",
       "      <td>1021</td>\n",
       "    </tr>\n",
       "    <tr>\n",
       "      <th>132</th>\n",
       "      <td>1135</td>\n",
       "    </tr>\n",
       "  </tbody>\n",
       "</table>\n",
       "</div>"
      ],
      "text/plain": [
       "     Weight (grams)\n",
       "129            4990\n",
       "130             709\n",
       "131            1021\n",
       "132            1135"
      ]
     },
     "execution_count": 257,
     "metadata": {},
     "output_type": "execute_result"
    }
   ],
   "source": [
    "babies_df[(babies_df['Weight (grams)'] < NormalDist(mu=mean, sigma=stdiv).inv_cdf(0.01)) | (babies_df['Weight (grams)'] > NormalDist(mu=mean, sigma=stdiv).inv_cdf(0.99))]"
   ]
  },
  {
   "cell_type": "code",
   "execution_count": 258,
   "id": "69257e4d",
   "metadata": {},
   "outputs": [
    {
     "data": {
      "text/plain": [
       "Weight (grams)    4\n",
       "dtype: int64"
      ]
     },
     "execution_count": 258,
     "metadata": {},
     "output_type": "execute_result"
    }
   ],
   "source": [
    "babies_df[(babies_df['Weight (grams)'] < NormalDist(mu=mean, sigma=stdiv).inv_cdf(0.01)) | (babies_df['Weight (grams)'] > NormalDist(mu=mean, sigma=stdiv).inv_cdf(0.99))].count()"
   ]
  },
  {
   "cell_type": "code",
   "execution_count": 661,
   "id": "6f1bab4a",
   "metadata": {},
   "outputs": [],
   "source": [
    "# Pharama Project"
   ]
  },
  {
   "cell_type": "code",
   "execution_count": 686,
   "id": "aa876cd5",
   "metadata": {},
   "outputs": [],
   "source": [
    "pharma_df = pd.read_excel('Treatment_Results.xlsx')"
   ]
  },
  {
   "cell_type": "code",
   "execution_count": 687,
   "id": "6cecb55b",
   "metadata": {},
   "outputs": [
    {
     "data": {
      "text/html": [
       "<div>\n",
       "<style scoped>\n",
       "    .dataframe tbody tr th:only-of-type {\n",
       "        vertical-align: middle;\n",
       "    }\n",
       "\n",
       "    .dataframe tbody tr th {\n",
       "        vertical-align: top;\n",
       "    }\n",
       "\n",
       "    .dataframe thead th {\n",
       "        text-align: right;\n",
       "    }\n",
       "</style>\n",
       "<table border=\"1\" class=\"dataframe\">\n",
       "  <thead>\n",
       "    <tr style=\"text-align: right;\">\n",
       "      <th></th>\n",
       "      <th>Treatment</th>\n",
       "      <th>Improved</th>\n",
       "    </tr>\n",
       "  </thead>\n",
       "  <tbody>\n",
       "    <tr>\n",
       "      <th>0</th>\n",
       "      <td>Treated</td>\n",
       "      <td>Some</td>\n",
       "    </tr>\n",
       "    <tr>\n",
       "      <th>1</th>\n",
       "      <td>Treated</td>\n",
       "      <td>None</td>\n",
       "    </tr>\n",
       "    <tr>\n",
       "      <th>2</th>\n",
       "      <td>Treated</td>\n",
       "      <td>None</td>\n",
       "    </tr>\n",
       "    <tr>\n",
       "      <th>3</th>\n",
       "      <td>Treated</td>\n",
       "      <td>Marked</td>\n",
       "    </tr>\n",
       "    <tr>\n",
       "      <th>4</th>\n",
       "      <td>Treated</td>\n",
       "      <td>Marked</td>\n",
       "    </tr>\n",
       "  </tbody>\n",
       "</table>\n",
       "</div>"
      ],
      "text/plain": [
       "  Treatment Improved\n",
       "0   Treated     Some\n",
       "1   Treated     None\n",
       "2   Treated     None\n",
       "3   Treated   Marked\n",
       "4   Treated   Marked"
      ]
     },
     "execution_count": 687,
     "metadata": {},
     "output_type": "execute_result"
    }
   ],
   "source": [
    "pharma_df.head()"
   ]
  },
  {
   "cell_type": "code",
   "execution_count": 688,
   "id": "1febd8d6",
   "metadata": {},
   "outputs": [
    {
     "data": {
      "text/plain": [
       "Placebo    43\n",
       "Treated    41\n",
       "Name: Treatment, dtype: int64"
      ]
     },
     "execution_count": 688,
     "metadata": {},
     "output_type": "execute_result"
    }
   ],
   "source": [
    "pharma_df.Treatment.value_counts()"
   ]
  },
  {
   "cell_type": "code",
   "execution_count": 689,
   "id": "c9486e62",
   "metadata": {},
   "outputs": [
    {
     "data": {
      "text/plain": [
       "None      42\n",
       "Marked    28\n",
       "Some      14\n",
       "Name: Improved, dtype: int64"
      ]
     },
     "execution_count": 689,
     "metadata": {},
     "output_type": "execute_result"
    }
   ],
   "source": [
    "pharma_df.Improved.value_counts()"
   ]
  },
  {
   "cell_type": "code",
   "execution_count": 690,
   "id": "09644e0b",
   "metadata": {},
   "outputs": [
    {
     "data": {
      "text/plain": [
       "41"
      ]
     },
     "execution_count": 690,
     "metadata": {},
     "output_type": "execute_result"
    }
   ],
   "source": [
    "pharma_df_treated_sample_size = len(pharma_df[pharma_df.Treatment == 'Treated'])\n",
    "pharma_df_treated_sample_size"
   ]
  },
  {
   "cell_type": "code",
   "execution_count": 691,
   "id": "9bb12c6d",
   "metadata": {},
   "outputs": [
    {
     "data": {
      "text/plain": [
       "43"
      ]
     },
     "execution_count": 691,
     "metadata": {},
     "output_type": "execute_result"
    }
   ],
   "source": [
    "pharma_df_placebo_sample_size = len(pharma_df[pharma_df.Treatment == 'Placebo'])\n",
    "pharma_df_placebo_sample_size"
   ]
  },
  {
   "cell_type": "code",
   "execution_count": 692,
   "id": "3cf9b86f",
   "metadata": {},
   "outputs": [
    {
     "data": {
      "text/plain": [
       "0.5121951219512195"
      ]
     },
     "execution_count": 692,
     "metadata": {},
     "output_type": "execute_result"
    }
   ],
   "source": [
    "p_treated_improved = pharma_df[(pharma_df.Treatment == 'Treated') & (pharma_df.Improved == 'Marked')].count().values[0]/pharma_df_treated_sample_size\n",
    "p_treated_improved"
   ]
  },
  {
   "cell_type": "code",
   "execution_count": 693,
   "id": "2da6a1c3",
   "metadata": {},
   "outputs": [
    {
     "data": {
      "text/plain": [
       "0.16279069767441862"
      ]
     },
     "execution_count": 693,
     "metadata": {},
     "output_type": "execute_result"
    }
   ],
   "source": [
    "p_placebo_improved = pharma_df[(pharma_df.Treatment == 'Placebo') & (pharma_df.Improved == 'Marked')].count().values[0]/pharma_df_placebo_sample_size\n",
    "p_placebo_improved"
   ]
  },
  {
   "cell_type": "code",
   "execution_count": 694,
   "id": "0b477d04",
   "metadata": {},
   "outputs": [
    {
     "name": "stdout",
     "output_type": "stream",
     "text": [
      "True\n",
      "True\n",
      "True\n",
      "True\n"
     ]
    }
   ],
   "source": [
    "# CLT TESTS\n",
    "print(p_treated_improved*pharma_df_treated_sample_size>5)\n",
    "print((1-p_treated_improved)*pharma_df_treated_sample_size>5)\n",
    "\n",
    "print(p_placebo_improved*pharma_df_placebo_sample_size>5)\n",
    "print((1-p_placebo_improved)*pharma_df_placebo_sample_size>5)"
   ]
  },
  {
   "cell_type": "code",
   "execution_count": 695,
   "id": "58af886b",
   "metadata": {},
   "outputs": [
    {
     "data": {
      "text/plain": [
       "0.3494044242768009"
      ]
     },
     "execution_count": 695,
     "metadata": {},
     "output_type": "execute_result"
    }
   ],
   "source": [
    "p1_p2 = p_treated_improved-p_placebo_improved\n",
    "p1_p2"
   ]
  },
  {
   "cell_type": "code",
   "execution_count": 696,
   "id": "1a2a581d",
   "metadata": {},
   "outputs": [],
   "source": [
    "confidence_level = 0.99"
   ]
  },
  {
   "cell_type": "code",
   "execution_count": 697,
   "id": "88739667",
   "metadata": {},
   "outputs": [
    {
     "data": {
      "text/plain": [
       "0.010000000000000009"
      ]
     },
     "execution_count": 697,
     "metadata": {},
     "output_type": "execute_result"
    }
   ],
   "source": [
    "alpha = 1-confidence_level\n",
    "alpha"
   ]
  },
  {
   "cell_type": "code",
   "execution_count": 698,
   "id": "d1901e30",
   "metadata": {},
   "outputs": [
    {
     "data": {
      "text/plain": [
       "2.5758293035489004"
      ]
     },
     "execution_count": 698,
     "metadata": {},
     "output_type": "execute_result"
    }
   ],
   "source": [
    "critical_value_z = stats.norm.ppf(1-(alpha/2))\n",
    "critical_value_z"
   ]
  },
  {
   "cell_type": "code",
   "execution_count": 699,
   "id": "1f1b72f9",
   "metadata": {},
   "outputs": [
    {
     "data": {
      "text/plain": [
       "0.09624690060778535"
      ]
     },
     "execution_count": 699,
     "metadata": {},
     "output_type": "execute_result"
    }
   ],
   "source": [
    "standard_error = np.sqrt(((p_treated_improved*(1-p_treated_improved))/pharma_df_treated_sample_size)+((p_placebo_improved*(1-p_placebo_improved))/pharma_df_placebo_sample_size))\n",
    "standard_error"
   ]
  },
  {
   "cell_type": "code",
   "execution_count": 700,
   "id": "442bf4fc",
   "metadata": {},
   "outputs": [
    {
     "data": {
      "text/plain": [
       "0.24791558696129196"
      ]
     },
     "execution_count": 700,
     "metadata": {},
     "output_type": "execute_result"
    }
   ],
   "source": [
    "margin_of_error = standard_error*critical_value_z\n",
    "margin_of_error"
   ]
  },
  {
   "cell_type": "code",
   "execution_count": 701,
   "id": "1ac9a788",
   "metadata": {},
   "outputs": [
    {
     "data": {
      "text/plain": [
       "[10.148883731550896, 59.73200112380928]"
      ]
     },
     "execution_count": 701,
     "metadata": {},
     "output_type": "execute_result"
    }
   ],
   "source": [
    "confidence_interval = [(p1_p2 - margin_of_error)*100, (p1_p2 + margin_of_error)*100]\n",
    "confidence_interval"
   ]
  },
  {
   "cell_type": "code",
   "execution_count": 837,
   "id": "fad6c942",
   "metadata": {},
   "outputs": [],
   "source": [
    "# Car saftey project"
   ]
  },
  {
   "cell_type": "code",
   "execution_count": 838,
   "id": "4cae5eda",
   "metadata": {},
   "outputs": [],
   "source": [
    "df_cars = pd.read_excel('Car_Speeds.xlsx')"
   ]
  },
  {
   "cell_type": "code",
   "execution_count": 839,
   "id": "8b679f95",
   "metadata": {},
   "outputs": [
    {
     "data": {
      "text/html": [
       "<div>\n",
       "<style scoped>\n",
       "    .dataframe tbody tr th:only-of-type {\n",
       "        vertical-align: middle;\n",
       "    }\n",
       "\n",
       "    .dataframe tbody tr th {\n",
       "        vertical-align: top;\n",
       "    }\n",
       "\n",
       "    .dataframe thead th {\n",
       "        text-align: right;\n",
       "    }\n",
       "</style>\n",
       "<table border=\"1\" class=\"dataframe\">\n",
       "  <thead>\n",
       "    <tr style=\"text-align: right;\">\n",
       "      <th></th>\n",
       "      <th>Before</th>\n",
       "      <th>Shortly After</th>\n",
       "      <th>After</th>\n",
       "    </tr>\n",
       "  </thead>\n",
       "  <tbody>\n",
       "    <tr>\n",
       "      <th>0</th>\n",
       "      <td>33</td>\n",
       "      <td>28</td>\n",
       "      <td>30</td>\n",
       "    </tr>\n",
       "    <tr>\n",
       "      <th>1</th>\n",
       "      <td>34</td>\n",
       "      <td>24</td>\n",
       "      <td>30</td>\n",
       "    </tr>\n",
       "    <tr>\n",
       "      <th>2</th>\n",
       "      <td>32</td>\n",
       "      <td>34</td>\n",
       "      <td>27</td>\n",
       "    </tr>\n",
       "    <tr>\n",
       "      <th>3</th>\n",
       "      <td>32</td>\n",
       "      <td>34</td>\n",
       "      <td>30</td>\n",
       "    </tr>\n",
       "    <tr>\n",
       "      <th>4</th>\n",
       "      <td>26</td>\n",
       "      <td>37</td>\n",
       "      <td>25</td>\n",
       "    </tr>\n",
       "  </tbody>\n",
       "</table>\n",
       "</div>"
      ],
      "text/plain": [
       "   Before  Shortly After  After\n",
       "0      33             28     30\n",
       "1      34             24     30\n",
       "2      32             34     27\n",
       "3      32             34     30\n",
       "4      26             37     25"
      ]
     },
     "execution_count": 839,
     "metadata": {},
     "output_type": "execute_result"
    }
   ],
   "source": [
    "df_cars.head()"
   ]
  },
  {
   "cell_type": "code",
   "execution_count": null,
   "id": "df9af4b6",
   "metadata": {},
   "outputs": [],
   "source": []
  }
 ],
 "metadata": {
  "kernelspec": {
   "display_name": "Python 3 (ipykernel)",
   "language": "python",
   "name": "python3"
  },
  "language_info": {
   "codemirror_mode": {
    "name": "ipython",
    "version": 3
   },
   "file_extension": ".py",
   "mimetype": "text/x-python",
   "name": "python",
   "nbconvert_exporter": "python",
   "pygments_lexer": "ipython3",
   "version": "3.9.12"
  }
 },
 "nbformat": 4,
 "nbformat_minor": 5
}
